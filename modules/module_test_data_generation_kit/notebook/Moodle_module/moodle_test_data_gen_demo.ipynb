{
  "cells": [
    {
      "cell_type": "markdown",
      "source": [
        "# Test Data Generation: Moodle Tables Demonstration Notebook\r\n",
        "\r\n",
        "**Affiliation**: *Kwantum Edu Analytics*. **Last Modified**: *3/21/2023*.\r\n",
        "\r\n",
        "This OEA test data generation notebook illustrates use of the OEA_py and moodle_test_data_gen_py python classes for creating and developing Moodle table test data in stage1.\r\n",
        "\r\n",
        "Use the main function outlined in the moodle_test_data_gen_py class notebook ```genMoodle(startdate, enddate, use_general_module_base_truth, gen_activity, num_activities)``` to create test data for the **26** SIS/activity tables. \r\n",
        "\r\n",
        "Parameter descriptions, additional information around methods and test data generation processes/comments are given in the moodle_test_data_gen_py class notebook."
      ],
      "metadata": {
        "nteract": {
          "transient": {
            "deleting": false
          }
        }
      }
    },
    {
      "cell_type": "code",
      "source": [
        "%run OEA_py"
      ],
      "outputs": [
        {
          "output_type": "display_data",
          "data": {
            "application/vnd.livy.statement-meta+json": {
              "spark_pool": null,
              "session_id": "2",
              "statement_id": -1,
              "state": "finished",
              "livy_statement_state": "available",
              "queued_time": "2023-03-21T18:36:27.7929745Z",
              "session_start_time": null,
              "execution_start_time": "2023-03-21T18:40:26.6287229Z",
              "execution_finish_time": "2023-03-21T18:40:26.6289155Z",
              "spark_jobs": null,
              "parent_msg_id": "d70686ec-f78a-45c9-aa12-8b001b71dc92"
            },
            "text/plain": "StatementMeta(, 2, -1, Finished, Available)"
          },
          "metadata": {}
        },
        {
          "output_type": "stream",
          "name": "stdout",
          "text": [
            "2023-03-21 18:40:25,807 - OEA - INFO - Now using workspace: dev\n2023-03-21 18:40:25,808 - OEA - INFO - OEA initialized.\n"
          ]
        }
      ],
      "execution_count": 74,
      "metadata": {
        "jupyter": {
          "source_hidden": false,
          "outputs_hidden": false
        },
        "nteract": {
          "transient": {
            "deleting": false
          }
        }
      }
    },
    {
      "cell_type": "code",
      "source": [
        "# set the workspace (this determines where in the data lake you'll be writing to and reading from).\r\n",
        "# You can work in 'dev', 'prod', or a sandbox with any name you choose.\r\n",
        "# For example, Sam the developer can create a 'sam' workspace and expect to find his datasets in the data lake under oea/sandboxes/sam\r\n",
        "oea.set_workspace('dev')"
      ],
      "outputs": [
        {
          "output_type": "display_data",
          "data": {
            "application/vnd.livy.statement-meta+json": {
              "spark_pool": "spark3p2medTDG",
              "session_id": "2",
              "statement_id": 2,
              "state": "finished",
              "livy_statement_state": "available",
              "queued_time": "2023-03-21T18:36:31.132322Z",
              "session_start_time": null,
              "execution_start_time": "2023-03-21T18:40:26.767486Z",
              "execution_finish_time": "2023-03-21T18:40:26.9345911Z",
              "spark_jobs": null,
              "parent_msg_id": "0b907b7a-64c4-4b44-8dc6-ce25ff52fd59"
            },
            "text/plain": "StatementMeta(spark3p2medTDG, 2, 2, Finished, Available)"
          },
          "metadata": {}
        },
        {
          "output_type": "stream",
          "name": "stdout",
          "text": [
            "2023-03-21 18:40:26,745 - OEA - INFO - Now using workspace: dev\n"
          ]
        }
      ],
      "execution_count": 75,
      "metadata": {
        "jupyter": {
          "source_hidden": false,
          "outputs_hidden": false
        },
        "nteract": {
          "transient": {
            "deleting": false
          }
        }
      }
    },
    {
      "cell_type": "code",
      "source": [
        "%run /moodle_test_data_gen_py"
      ],
      "outputs": [
        {
          "output_type": "display_data",
          "data": {
            "application/vnd.livy.statement-meta+json": {
              "spark_pool": null,
              "session_id": "2",
              "statement_id": -1,
              "state": "finished",
              "livy_statement_state": "available",
              "queued_time": "2023-03-21T19:04:33.2878073Z",
              "session_start_time": null,
              "execution_start_time": "2023-03-21T19:04:34.362119Z",
              "execution_finish_time": "2023-03-21T19:04:34.3623178Z",
              "spark_jobs": null,
              "parent_msg_id": "4678a20e-ca36-4a40-86de-e45e96d6d48e"
            },
            "text/plain": "StatementMeta(, 2, -1, Finished, Available)"
          },
          "metadata": {}
        }
      ],
      "execution_count": 85,
      "metadata": {
        "jupyter": {
          "source_hidden": false,
          "outputs_hidden": false
        },
        "nteract": {
          "transient": {
            "deleting": false
          }
        }
      }
    },
    {
      "cell_type": "code",
      "source": [
        "# this might take some time to initialize the tables to be generated\r\n",
        "datagen = MoodleDataGen()"
      ],
      "outputs": [
        {
          "output_type": "display_data",
          "data": {
            "application/vnd.livy.statement-meta+json": {
              "spark_pool": "spark3p2medTDG",
              "session_id": "2",
              "statement_id": 13,
              "state": "finished",
              "livy_statement_state": "available",
              "queued_time": "2023-03-21T19:04:34.5800718Z",
              "session_start_time": null,
              "execution_start_time": "2023-03-21T19:04:34.8395795Z",
              "execution_finish_time": "2023-03-21T19:04:35.0568575Z",
              "spark_jobs": null,
              "parent_msg_id": "a62f662a-0bac-41a5-97e5-f2e2760206ee"
            },
            "text/plain": "StatementMeta(spark3p2medTDG, 2, 13, Finished, Available)"
          },
          "metadata": {}
        }
      ],
      "execution_count": 86,
      "metadata": {
        "jupyter": {
          "source_hidden": false,
          "outputs_hidden": false
        },
        "nteract": {
          "transient": {
            "deleting": false
          }
        }
      }
    },
    {
      "cell_type": "code",
      "source": [
        "# depending on sizes of base tables, Moodle generation can take up to 5 min (approx. 2 min when using general module base tables) \r\n",
        "# refer to the moodle_test_data_gen_py class notebook for additional details\r\n",
        "\r\n",
        "start_date = '2022-01-01T00:00:00' # roster start date\r\n",
        "end_date = '2022-06-01T00:00:00' # roster end date\r\n",
        "use_general_module_base_truth_tables = True # <- choose whether you'd like to generate test data based on user-generated base-truth tables (set to \"False\"), or to import and use general module base-truth tables (to link with other OEA module test datasets; set to \"True\").\r\n",
        "generate_activity_data = True # <- choose whether you'd like to generate Moodle activity data (NOTE: may require some work to accurately mirror Moodle activity data).\r\n",
        "number_of_activity_signals = 5 # <- choose how many rows of student activity data you'd like to generate (NOTE: students/classes are chosen at random).\r\n",
        "\r\n",
        "datagen.genMoodle(start_date, end_date, use_general_module_base_truth_tables, generate_activity_data, number_of_activity_signals)\r\n",
        "# NOTE: looks like attempt #s don't necessarily align with max attempts allowed; may need debugging.\r\n",
        "    # This affects the following Moodle test data generated tables: assign_submission, forum_discussions, lesson_attempts, and quiz_attempts"
      ],
      "outputs": [
        {
          "output_type": "display_data",
          "data": {
            "application/vnd.livy.statement-meta+json": {
              "spark_pool": "spark3p2medTDG",
              "session_id": "2",
              "statement_id": 14,
              "state": "finished",
              "livy_statement_state": "available",
              "queued_time": "2023-03-21T19:04:36.0911014Z",
              "session_start_time": null,
              "execution_start_time": "2023-03-21T19:04:36.2619594Z",
              "execution_finish_time": "2023-03-21T19:07:02.8614842Z",
              "spark_jobs": null,
              "parent_msg_id": "ad175c41-b6a3-4f4c-bb58-d1a0956790cc"
            },
            "text/plain": "StatementMeta(spark3p2medTDG, 2, 14, Finished, Available)"
          },
          "metadata": {}
        },
        {
          "output_type": "stream",
          "name": "stdout",
          "text": [
            "2023-03-21 19:04:36,303 - OEA - INFO - General module base-truth tables already exist - delete the \"base_general_modules\" folder/directory if you want to replace these.\n2023-03-21 19:04:38,752 - OEA - INFO - Generating Moodle test data based on general module base-truth tables...\n2023-03-21 19:05:44,729 - OEA - INFO - Successfully generated Moodle SIS/rostering tables.\n2023-03-21 19:05:44,729 - OEA - INFO - Now generating Moodle activity tables...\n2023-03-21 19:07:00,284 - OEA - INFO - Successfully generated Moodle activity tables (for assignments, quizzes, forums, lessons and messages).\n2023-03-21 19:07:00,284 - OEA - INFO - Finished Moodle generation.\n"
          ]
        }
      ],
      "execution_count": 87,
      "metadata": {
        "jupyter": {
          "source_hidden": false,
          "outputs_hidden": false
        },
        "nteract": {
          "transient": {
            "deleting": false
          }
        }
      }
    },
    {
      "cell_type": "code",
      "source": [
        "dfActivity = oea.load_csv('stage1/Transactional/test_data/v0.1/moodle_gen/enrol/snapshot_batch_data/*/*.csv', header=False)\r\n",
        "display(dfActivity.limit(10))"
      ],
      "outputs": [
        {
          "output_type": "display_data",
          "data": {
            "application/vnd.livy.statement-meta+json": {
              "spark_pool": "spark3p2medTDG",
              "session_id": "14",
              "statement_id": 43,
              "state": "finished",
              "livy_statement_state": "available",
              "queued_time": "2023-02-14T20:08:59.5219954Z",
              "session_start_time": null,
              "execution_start_time": "2023-02-14T20:08:59.6415466Z",
              "execution_finish_time": "2023-02-14T20:09:00.7456099Z",
              "spark_jobs": null
            },
            "text/plain": "StatementMeta(spark3p2medTDG, 14, 43, Finished, Available)"
          },
          "metadata": {}
        },
        {
          "output_type": "display_data",
          "data": {
            "application/vnd.synapse.widget-view+json": {
              "widget_id": "fbf9f41e-76c2-471e-b8ae-fed459999e78",
              "widget_type": "Synapse.DataFrame"
            },
            "text/plain": "SynapseWidget(Synapse.DataFrame, fbf9f41e-76c2-471e-b8ae-fed459999e78)"
          },
          "metadata": {}
        }
      ],
      "execution_count": 43,
      "metadata": {
        "jupyter": {
          "source_hidden": false,
          "outputs_hidden": false
        },
        "nteract": {
          "transient": {
            "deleting": false
          }
        },
        "collapsed": false
      }
    },
    {
      "cell_type": "markdown",
      "source": [
        "## Tests"
      ],
      "metadata": {
        "nteract": {
          "transient": {
            "deleting": false
          }
        }
      }
    },
    {
      "cell_type": "code",
      "source": [
        "# testing context table created\r\n",
        "gen_context = datagen.moodle_context\r\n",
        "dfContext = spark.createDataFrame(gen_context)\r\n",
        "# sample from course table created\r\n",
        "num_courses = len(datagen.moodle_course.index) - 1\r\n",
        "random_course = random.randint(0,num_courses)\r\n",
        "course = datagen.moodle_course.filter(items=[random_course], axis=0).at[random_course,'id']\r\n",
        "#\r\n",
        "dfBT_enroll = spark.createDataFrame(datagen.enrollment)\r\n",
        "dfEnroll = dfBT_enroll.filter(dfBT_enroll['SectionID'] == f'{course}')\r\n",
        "num_students_in_course = dfEnroll.count()\r\n",
        "# find course name\r\n",
        "course_name = dfEnroll.groupBy('SectionName').count().collect()[0][0]\r\n",
        "# find context ID for message\r\n",
        "dfBT_sections = spark.createDataFrame(datagen.sections)\r\n",
        "school_id = dfBT_sections.filter(dfBT_sections['SectionID']==f'{course}').collect()[0][5]\r\n",
        "dfContext = dfContext.filter(dfContext['instanceid']==f'{school_id}').filter(dfContext['contextlevel']==2)\r\n",
        "dfContext = dfContext.filter(dfContext['path'].endswith(f'{course_name}'))\r\n",
        "context_id = dfContext.collect()[0][0]\r\n",
        "print(course_name)\r\n",
        "print(context_id)\r\n",
        "display(dfContext)"
      ],
      "outputs": [
        {
          "output_type": "display_data",
          "data": {
            "application/vnd.livy.statement-meta+json": {
              "spark_pool": "spark3p2medTDG",
              "session_id": "1",
              "statement_id": 51,
              "state": "finished",
              "livy_statement_state": "available",
              "queued_time": "2023-03-21T16:22:28.9066283Z",
              "session_start_time": null,
              "execution_start_time": "2023-03-21T16:22:29.0492606Z",
              "execution_finish_time": "2023-03-21T16:22:29.646581Z",
              "spark_jobs": null,
              "parent_msg_id": "4df4537a-e99e-4d7c-8e11-3d1d559cab15"
            },
            "text/plain": "StatementMeta(spark3p2medTDG, 1, 51, Finished, Available)"
          },
          "metadata": {}
        },
        {
          "output_type": "stream",
          "name": "stdout",
          "text": [
            "Intro to Blacksmithing 230\n220aa96a-b657-4ba7-bc71-65ce1cfa5865\n"
          ]
        },
        {
          "output_type": "display_data",
          "data": {
            "application/vnd.synapse.widget-view+json": {
              "widget_id": "6ed9bb96-1f52-4998-b5b8-61caa0066995",
              "widget_type": "Synapse.DataFrame"
            },
            "text/plain": "SynapseWidget(Synapse.DataFrame, 6ed9bb96-1f52-4998-b5b8-61caa0066995)"
          },
          "metadata": {}
        }
      ],
      "execution_count": 51,
      "metadata": {
        "jupyter": {
          "source_hidden": false,
          "outputs_hidden": false
        },
        "nteract": {
          "transient": {
            "deleting": false
          }
        },
        "collapsed": false
      }
    },
    {
      "cell_type": "code",
      "source": [
        "# testing forum table created\r\n",
        "gen_forum = datagen.moodle_forum\r\n",
        "print(gen_forum)"
      ],
      "outputs": [
        {
          "output_type": "display_data",
          "data": {
            "application/vnd.livy.statement-meta+json": {
              "spark_pool": "spark3p2medTDG",
              "session_id": "1",
              "statement_id": 9,
              "state": "finished",
              "livy_statement_state": "available",
              "queued_time": "2023-03-21T14:53:10.075336Z",
              "session_start_time": null,
              "execution_start_time": "2023-03-21T14:53:10.2193171Z",
              "execution_finish_time": "2023-03-21T14:53:10.4124702Z",
              "spark_jobs": null,
              "parent_msg_id": "8293b393-cd5d-45fa-add3-4d13cd496103"
            },
            "text/plain": "StatementMeta(spark3p2medTDG, 1, 9, Finished, Available)"
          },
          "metadata": {}
        },
        {
          "output_type": "stream",
          "name": "stdout",
          "text": [
            "Empty DataFrame\nColumns: [id, course, type, name, intro, introformat, duedate, cutoffdate, assessed, assesstimestart, assesstimefinish, scale, grade_forum, grade_forum_notify, maxbytes, maxattachments, forcesubscribe, trackingtype, rsstype, rssarticles, timemodified, warnafter, blockafter, blockperiod, completiondiscussions, completionreplies, completionposts, displaywordcount, lockdiscussionafter]\nIndex: []\n\n[0 rows x 29 columns]\n"
          ]
        }
      ],
      "execution_count": 9,
      "metadata": {
        "jupyter": {
          "source_hidden": false,
          "outputs_hidden": false
        },
        "nteract": {
          "transient": {
            "deleting": false
          }
        }
      }
    },
    {
      "cell_type": "code",
      "source": [
        "# testing enrollment\r\n",
        "dfTest_BTT = oea.load_csv('stage1/Transactional/test_data/v0.1/base_enrollment/snapshot_batch_data/*/*.csv', header=True)\r\n",
        "dfTest_moodleGen_enrol = oea.load_csv('stage1/Transactional/test_data/v0.1/moodle_gen/enrol/snapshot_batch_data/*/*.csv', header=True)"
      ],
      "outputs": [
        {
          "output_type": "display_data",
          "data": {
            "application/vnd.livy.statement-meta+json": {
              "spark_pool": "spark3p2medTDG",
              "session_id": "0",
              "statement_id": 34,
              "state": "finished",
              "livy_statement_state": "available",
              "queued_time": "2023-03-16T23:01:52.6605731Z",
              "session_start_time": null,
              "execution_start_time": "2023-03-16T23:01:52.8051246Z",
              "execution_finish_time": "2023-03-16T23:01:53.9309684Z",
              "spark_jobs": null,
              "parent_msg_id": "b0d3188e-ce4c-4032-87d6-67c7a8432254"
            },
            "text/plain": "StatementMeta(spark3p2medTDG, 0, 34, Finished, Available)"
          },
          "metadata": {}
        }
      ],
      "execution_count": 34,
      "metadata": {
        "jupyter": {
          "source_hidden": false,
          "outputs_hidden": false
        },
        "nteract": {
          "transient": {
            "deleting": false
          }
        }
      }
    },
    {
      "cell_type": "code",
      "source": [
        "moodle_course = oea.load_csv('stage1/Transactional/test_data/v0.1/moodle_gen/course/snapshot_batch_data/*/*.csv', header=True).toPandas()\r\n",
        "num_courses = len(moodle_course.index) - 1\r\n",
        "random_course = random.randint(0,num_courses)\r\n",
        "course = moodle_course.filter(items=[random_course], axis=0).at[random_course,'id']\r\n",
        "print(course)"
      ],
      "outputs": [
        {
          "output_type": "display_data",
          "data": {
            "application/vnd.livy.statement-meta+json": {
              "spark_pool": "spark3p2medTDG",
              "session_id": "0",
              "statement_id": 60,
              "state": "finished",
              "livy_statement_state": "available",
              "queued_time": "2023-03-16T23:26:45.860486Z",
              "session_start_time": null,
              "execution_start_time": "2023-03-16T23:26:45.9901903Z",
              "execution_finish_time": "2023-03-16T23:26:46.5342599Z",
              "spark_jobs": null,
              "parent_msg_id": "50842c92-d0e0-464f-a2b5-494a3eba0bd8"
            },
            "text/plain": "StatementMeta(spark3p2medTDG, 0, 60, Finished, Available)"
          },
          "metadata": {}
        },
        {
          "output_type": "stream",
          "name": "stdout",
          "text": [
            "299679cf-f1eb-4bcc-abf4-4386f71f4a2b\n"
          ]
        }
      ],
      "execution_count": 60,
      "metadata": {
        "jupyter": {
          "source_hidden": false,
          "outputs_hidden": false
        },
        "nteract": {
          "transient": {
            "deleting": false
          }
        }
      }
    },
    {
      "cell_type": "code",
      "source": [
        "course = moodle_course.filter(items=[random_course], axis=0)\r\n",
        "print(course)"
      ],
      "outputs": [
        {
          "output_type": "display_data",
          "data": {
            "application/vnd.livy.statement-meta+json": {
              "spark_pool": "spark3p2medTDG",
              "session_id": "0",
              "statement_id": 61,
              "state": "finished",
              "livy_statement_state": "available",
              "queued_time": "2023-03-16T23:27:13.1491805Z",
              "session_start_time": null,
              "execution_start_time": "2023-03-16T23:27:13.2751792Z",
              "execution_finish_time": "2023-03-16T23:27:13.4321123Z",
              "spark_jobs": null,
              "parent_msg_id": "de47a43d-2162-4ecb-a1a1-270731a1a4cf"
            },
            "text/plain": "StatementMeta(spark3p2medTDG, 0, 61, Finished, Available)"
          },
          "metadata": {}
        },
        {
          "output_type": "stream",
          "name": "stdout",
          "text": [
            "                                      id  \\\n14  299679cf-f1eb-4bcc-abf4-4386f71f4a2b   \n\n                                category sortorder          fullname  \\\n14  39fda5e1-549d-497e-a608-68501c61e94a         0  Color Theory 247   \n\n       shortname idnumber summary summaryformat  format showgrades  ... theme  \\\n14  Color Theory     None    null             0  topics          1  ...  None   \n\n            timecreated timemodified requested enablecompletion  \\\n14  2022-01-01T00:00:00            0         0                0   \n\n   completionnotify cacherev                      originalcourseid  \\\n14                0        0  39fda5e1-549d-497e-a608-68501c61e94a   \n\n   showactivitydates showcompletionconditions  \n14                 1                        0  \n\n[1 rows x 36 columns]\n"
          ]
        }
      ],
      "execution_count": 61,
      "metadata": {
        "jupyter": {
          "source_hidden": false,
          "outputs_hidden": false
        },
        "nteract": {
          "transient": {
            "deleting": false
          }
        },
        "collapsed": false
      }
    }
  ],
  "metadata": {
    "kernelspec": {
      "name": "synapse_pyspark",
      "language": "Python",
      "display_name": "Synapse PySpark"
    },
    "language_info": {
      "name": "python"
    },
    "kernel_info": {
      "name": "synapse_pyspark"
    },
    "description": null,
    "save_output": true,
    "synapse_widget": {
      "version": "0.1",
      "state": {
        "fbf9f41e-76c2-471e-b8ae-fed459999e78": {
          "type": "Synapse.DataFrame",
          "sync_state": {
            "table": {
              "rows": [
                {
                  "0": "VisitTeamChannel",
                  "1": "2022-01-23T17:53:00Z",
                  "3": "6aa49d71-13c9-4504-87ca-b22000450fe6",
                  "5": "0d6dac18-e0e6-4029-8eb7-98dbaa13ab7f",
                  "7": "Teams",
                  "8": "43f04c71-ab29-4bfd-9e6a-d57a5c1c38ea",
                  "9": "Student",
                  "10": "1.14",
                  "16": "2022-01-03"
                },
                {
                  "0": "SubmissionEvent",
                  "1": "2022-01-24T20:07:00Z",
                  "3": "1ae7f5bf-8f68-420f-a909-c9fa6ed6a3be",
                  "5": "f8380dd9-b181-443c-bbff-3767e079e466",
                  "7": "Assignments",
                  "8": "0188578a-3f47-40cd-9da9-e95fbbc3d102",
                  "9": "Student",
                  "10": "1.14",
                  "11": "3b126eb7-70b5-4770-8a17-d72049ac895b",
                  "12": "b4f29f49-6624-468d-b73e-a640e8ad624f",
                  "13": "2022-01-24 20:07:00",
                  "14": "Submitted",
                  "15": "2022-01-25 20:07:00",
                  "16": "2022-01-03",
                  "18": "pptx"
                },
                {
                  "0": "OneNotePageChanged",
                  "1": "2022-01-06T23:03:00Z",
                  "3": "508cc93c-ff31-45d5-b672-7009b55a779d",
                  "5": "39fb8d24-1585-447c-86d1-6637678a75f8",
                  "7": "OneNote",
                  "8": "87ca9bdf-03f9-4a26-8900-81f3e25143ce",
                  "9": "Student",
                  "10": "1.14",
                  "16": "2022-01-03"
                },
                {
                  "0": "FileModified",
                  "1": "2022-01-12T09:34:00Z",
                  "3": "fd1d7346-421b-4538-8167-d7a49fc74366",
                  "5": "747ffe48-2d44-48fc-9d57-ab70de92e741",
                  "7": "SharePoint Online",
                  "8": "b827b4d7-2cbf-4d88-844d-98ae26c4d428",
                  "9": "Student",
                  "10": "1.14",
                  "16": "2022-01-03",
                  "18": "docx"
                },
                {
                  "0": "SubmissionEvent",
                  "1": "2022-01-09T07:22:00Z",
                  "3": "ce2807c4-4c36-4647-af17-760b1e03586a",
                  "5": "52fed5ca-7277-4c73-9306-435269530036",
                  "7": "Assignments",
                  "8": "5902d4fb-42d9-4523-be88-971dc8a4858d",
                  "9": "Student",
                  "10": "1.14",
                  "11": "1e16515d-39a4-416d-a733-07a7e6333bf5",
                  "12": "7aa4311d-09f3-4a61-a038-f967feb6b825",
                  "13": "2022-01-09 07:22:00",
                  "14": "Submitted",
                  "15": "2022-01-10 07:22:00",
                  "16": "2022-01-03",
                  "18": "pptx"
                },
                {
                  "0": "ReplyChannelMessage",
                  "1": "2022-01-09T12:01:00Z",
                  "3": "428fd9f1-a6b9-46a7-bf1a-be990067877e",
                  "5": "93d4d472-ff0a-40da-8154-24a9f51c2f52",
                  "7": "Teams",
                  "8": "f6dae834-988e-4ef6-8dd6-daa66cf052cf",
                  "9": "Student",
                  "10": "1.14",
                  "16": "2022-01-03"
                },
                {
                  "0": "PostChannelMessage",
                  "1": "2022-01-07T02:08:00Z",
                  "3": "064239cd-e63e-4ca0-bb35-98f0f0a9ce03",
                  "5": "968903e8-f78f-413a-bcea-6b556f4291dc",
                  "7": "Teams",
                  "8": "5ff4c904-41d3-4326-a56c-0cdc7876db3e",
                  "9": "Student",
                  "10": "1.14",
                  "16": "2022-01-03"
                },
                {
                  "0": "PostChannelMessage",
                  "1": "2022-01-04T06:49:00Z",
                  "3": "ada7e979-c003-4609-a968-43fc1faf1bdf",
                  "5": "968903e8-f78f-413a-bcea-6b556f4291dc",
                  "7": "Teams",
                  "8": "5f8f8311-ebbf-4431-9740-0947dde63cb8",
                  "9": "Student",
                  "10": "1.14",
                  "16": "2022-01-03"
                },
                {
                  "0": "FileDownloaded",
                  "1": "2022-01-10T10:21:00Z",
                  "3": "6ce27774-a5a3-429e-abff-aebb4d94f21a",
                  "5": "350947be-234e-43f9-8bbc-f37c61543e0e",
                  "7": "SharePoint Online",
                  "8": "64643d87-6df5-49f4-a191-76336e80d4ea",
                  "9": "Student",
                  "10": "1.14",
                  "16": "2022-01-03",
                  "18": "pptx"
                },
                {
                  "0": "ExpandChannelMessage",
                  "1": "2022-01-12T12:06:00Z",
                  "3": "ec7b421d-5adf-48c4-a80c-98be0a5cdaa8",
                  "5": "fb859e56-bc30-40fe-ace5-10d1e03ea419",
                  "7": "TeamsMobile",
                  "8": "6fa92ee7-f825-4d54-a179-d273eb0dbd76",
                  "9": "Student",
                  "10": "1.14",
                  "16": "2022-01-03"
                }
              ],
              "schema": [
                {
                  "key": "0",
                  "name": "_c0",
                  "type": "string"
                },
                {
                  "key": "1",
                  "name": "_c1",
                  "type": "string"
                },
                {
                  "key": "2",
                  "name": "_c2",
                  "type": "string"
                },
                {
                  "key": "3",
                  "name": "_c3",
                  "type": "string"
                },
                {
                  "key": "4",
                  "name": "_c4",
                  "type": "string"
                },
                {
                  "key": "5",
                  "name": "_c5",
                  "type": "string"
                },
                {
                  "key": "6",
                  "name": "_c6",
                  "type": "string"
                },
                {
                  "key": "7",
                  "name": "_c7",
                  "type": "string"
                },
                {
                  "key": "8",
                  "name": "_c8",
                  "type": "string"
                },
                {
                  "key": "9",
                  "name": "_c9",
                  "type": "string"
                },
                {
                  "key": "10",
                  "name": "_c10",
                  "type": "string"
                },
                {
                  "key": "11",
                  "name": "_c11",
                  "type": "string"
                },
                {
                  "key": "12",
                  "name": "_c12",
                  "type": "string"
                },
                {
                  "key": "13",
                  "name": "_c13",
                  "type": "string"
                },
                {
                  "key": "14",
                  "name": "_c14",
                  "type": "string"
                },
                {
                  "key": "15",
                  "name": "_c15",
                  "type": "string"
                },
                {
                  "key": "16",
                  "name": "_c16",
                  "type": "string"
                },
                {
                  "key": "17",
                  "name": "_c17",
                  "type": "string"
                },
                {
                  "key": "18",
                  "name": "_c18",
                  "type": "string"
                },
                {
                  "key": "19",
                  "name": "_c19",
                  "type": "string"
                },
                {
                  "key": "20",
                  "name": "_c20",
                  "type": "string"
                },
                {
                  "key": "21",
                  "name": "_c21",
                  "type": "string"
                },
                {
                  "key": "22",
                  "name": "_c22",
                  "type": "string"
                },
                {
                  "key": "23",
                  "name": "_c23",
                  "type": "string"
                },
                {
                  "key": "24",
                  "name": "_c24",
                  "type": "string"
                },
                {
                  "key": "25",
                  "name": "_c25",
                  "type": "string"
                },
                {
                  "key": "26",
                  "name": "_c26",
                  "type": "string"
                },
                {
                  "key": "27",
                  "name": "_c27",
                  "type": "string"
                },
                {
                  "key": "28",
                  "name": "_c28",
                  "type": "string"
                },
                {
                  "key": "29",
                  "name": "_c29",
                  "type": "string"
                },
                {
                  "key": "30",
                  "name": "_c30",
                  "type": "string"
                },
                {
                  "key": "31",
                  "name": "_c31",
                  "type": "string"
                }
              ],
              "truncated": false
            },
            "isSummary": false,
            "language": "scala"
          },
          "persist_state": {
            "view": {
              "type": "details",
              "tableOptions": {},
              "chartOptions": {
                "chartType": "bar",
                "aggregationType": "count",
                "categoryFieldKeys": [
                  "0"
                ],
                "seriesFieldKeys": [
                  "0"
                ],
                "isStacked": false
              }
            }
          }
        },
        "6ed9bb96-1f52-4998-b5b8-61caa0066995": {
          "type": "Synapse.DataFrame",
          "sync_state": {
            "table": {
              "rows": [
                {
                  "0": "220aa96a-b657-4ba7-bc71-65ce1cfa5865",
                  "1": "2",
                  "2": "18f9b660-7cb8-4ea9-aa24-a3ce9a167c83",
                  "3": "School of Business/Spring 2022/Intro to Blacksmithing 230",
                  "4": "2",
                  "5": "0"
                }
              ],
              "schema": [
                {
                  "key": "0",
                  "name": "id",
                  "type": "string"
                },
                {
                  "key": "1",
                  "name": "contextlevel",
                  "type": "bigint"
                },
                {
                  "key": "2",
                  "name": "instanceid",
                  "type": "string"
                },
                {
                  "key": "3",
                  "name": "path",
                  "type": "string"
                },
                {
                  "key": "4",
                  "name": "depth",
                  "type": "bigint"
                },
                {
                  "key": "5",
                  "name": "locked",
                  "type": "bigint"
                }
              ],
              "truncated": false
            },
            "isSummary": false,
            "language": "scala"
          },
          "persist_state": {
            "view": {
              "type": "details",
              "tableOptions": {},
              "chartOptions": {
                "chartType": "bar",
                "aggregationType": "sum",
                "categoryFieldKeys": [
                  "0"
                ],
                "seriesFieldKeys": [
                  "1"
                ],
                "isStacked": false
              }
            }
          }
        }
      }
    }
  },
  "nbformat": 4,
  "nbformat_minor": 2
}