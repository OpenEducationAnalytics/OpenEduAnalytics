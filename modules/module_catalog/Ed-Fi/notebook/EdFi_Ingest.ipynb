{
  "cells": [
    {
      "cell_type": "code",
      "source": [
        "# workspace = \"dev\"\r\n",
        "# apiVersion = \"5.2\"\r\n",
        "# moduleName = \"Ed-Fi\"\r\n",
        "# schoolYear = None\r\n",
        "# districtId = None"
      ],
      "outputs": [
        {
          "output_type": "display_data",
          "data": {
            "application/vnd.livy.statement-meta+json": {
              "spark_pool": "spark3p3sm",
              "session_id": "0",
              "statement_id": 8,
              "state": "finished",
              "livy_statement_state": "available",
              "queued_time": "2023-06-23T16:55:23.1725055Z",
              "session_start_time": null,
              "execution_start_time": "2023-06-23T16:55:23.3198055Z",
              "execution_finish_time": "2023-06-23T16:55:23.4848474Z",
              "spark_jobs": null,
              "parent_msg_id": "21de4f44-2bca-46a2-bf62-d18b1c4e61c1"
            },
            "text/plain": "StatementMeta(spark3p3sm, 0, 8, Finished, Available)"
          },
          "metadata": {}
        }
      ],
      "execution_count": 7,
      "metadata": {}
    },
    {
      "cell_type": "code",
      "source": [
        "%run OEA_py"
      ],
      "outputs": [
        {
          "output_type": "display_data",
          "data": {
            "application/vnd.livy.statement-meta+json": {
              "spark_pool": null,
              "session_id": "0",
              "statement_id": -1,
              "state": "finished",
              "livy_statement_state": "available",
              "queued_time": "2023-06-23T16:55:23.2404467Z",
              "session_start_time": null,
              "execution_start_time": "2023-06-23T16:55:24.4756042Z",
              "execution_finish_time": "2023-06-23T16:55:24.4758302Z",
              "spark_jobs": null,
              "parent_msg_id": "04310029-1c20-4108-8eea-6cb1ace53b5b"
            },
            "text/plain": "StatementMeta(, 0, -1, Finished, Available)"
          },
          "metadata": {}
        },
        {
          "output_type": "stream",
          "name": "stdout",
          "text": [
            "2023-06-23 16:55:23,984 - OEA - INFO - Now using workspace: dev\n2023-06-23 16:55:23,985 - OEA - INFO - OEA initialized.\n"
          ]
        }
      ],
      "execution_count": 8,
      "metadata": {
        "jupyter": {
          "source_hidden": false,
          "outputs_hidden": false
        },
        "nteract": {
          "transient": {
            "deleting": false
          }
        }
      }
    },
    {
      "cell_type": "code",
      "source": [
        "oea.set_workspace(workspace)"
      ],
      "outputs": [
        {
          "output_type": "display_data",
          "data": {
            "application/vnd.livy.statement-meta+json": {
              "spark_pool": "spark3p3sm",
              "session_id": "0",
              "statement_id": 10,
              "state": "finished",
              "livy_statement_state": "available",
              "queued_time": "2023-06-23T16:55:23.2842503Z",
              "session_start_time": null,
              "execution_start_time": "2023-06-23T16:55:24.614641Z",
              "execution_finish_time": "2023-06-23T16:55:24.80821Z",
              "spark_jobs": null,
              "parent_msg_id": "bcd55e1b-06ef-453b-a532-199c3ad5dcd8"
            },
            "text/plain": "StatementMeta(spark3p3sm, 0, 10, Finished, Available)"
          },
          "metadata": {}
        },
        {
          "output_type": "stream",
          "name": "stdout",
          "text": [
            "2023-06-23 16:55:24,599 - OEA - INFO - Now using workspace: dev\n"
          ]
        }
      ],
      "execution_count": 9,
      "metadata": {
        "jupyter": {
          "source_hidden": false,
          "outputs_hidden": false
        },
        "nteract": {
          "transient": {
            "deleting": false
          }
        }
      }
    },
    {
      "cell_type": "code",
      "source": [
        "districtPath = districtId if districtId != None else \"All\"\r\n",
        "schoolYearPath = schoolYear if schoolYear != None else \"All\"\r\n",
        "items = oea.get_folders(f'stage1/Transactional/{moduleName}/{apiVersion}/DistrictId={districtPath}/SchoolYear={schoolYearPath}/ed-fi')\r\n",
        "print(items)"
      ],
      "outputs": [
        {
          "output_type": "display_data",
          "data": {
            "application/vnd.livy.statement-meta+json": {
              "spark_pool": "spark3p3sm",
              "session_id": "0",
              "statement_id": 11,
              "state": "finished",
              "livy_statement_state": "available",
              "queued_time": "2023-06-23T16:55:23.3525352Z",
              "session_start_time": null,
              "execution_start_time": "2023-06-23T16:55:24.9885156Z",
              "execution_finish_time": "2023-06-23T16:55:26.2232736Z",
              "spark_jobs": null,
              "parent_msg_id": "e5b7f50c-5850-443f-b412-6039fe505185"
            },
            "text/plain": "StatementMeta(spark3p3sm, 0, 11, Finished, Available)"
          },
          "metadata": {}
        },
        {
          "output_type": "stream",
          "name": "stdout",
          "text": [
            "['absenceEventCategoryDescriptors', 'academicHonorCategoryDescriptors', 'academicSubjectDescriptors', 'academicWeeks', 'accommodationDescriptors', 'accountClassificationDescriptors', 'accountCodes', 'accountabilityRatings', 'accounts', 'achievementCategoryDescriptors', 'actuals', 'additionalCreditTypeDescriptors', 'addressTypeDescriptors', 'administrationEnvironmentDescriptors', 'administrativeFundingControlDescriptors', 'ancestryEthnicOriginDescriptors', 'assessmentCategoryDescriptors', 'assessmentIdentificationSystemDescriptors', 'assessmentItemCategoryDescriptors', 'assessmentItemResultDescriptors', 'assessmentItems', 'assessmentPeriodDescriptors', 'assessmentReportingMethodDescriptors', 'assessmentScoreRangeLearningStandards', 'assessments', 'attemptStatusDescriptors', 'attendanceEventCategoryDescriptors', 'behaviorDescriptors', 'bellSchedules', 'budgets', 'calendarDates', 'calendarEventDescriptors', 'calendarTypeDescriptors', 'calendars', 'careerPathwayDescriptors', 'charterApprovalAgencyTypeDescriptors', 'charterStatusDescriptors', 'citizenshipStatusDescriptors', 'classPeriods', 'classroomPositionDescriptors', 'cohortScopeDescriptors', 'cohortTypeDescriptors', 'cohortYearTypeDescriptors', 'cohorts', 'communityOrganizations', 'communityProviderLicenses', 'communityProviders', 'competencyLevelDescriptors', 'competencyObjectives', 'contactTypeDescriptors', 'contentClassDescriptors', 'continuationOfServicesReasonDescriptors', 'contractedStaffs', 'costRateDescriptors', 'countryDescriptors', 'courseAttemptResultDescriptors', 'courseDefinedByDescriptors', 'courseGPAApplicabilityDescriptors', 'courseIdentificationSystemDescriptors', 'courseLevelCharacteristicDescriptors', 'courseOfferings', 'courseRepeatCodeDescriptors', 'courseTranscripts', 'courses', 'credentialFieldDescriptors', 'credentialTypeDescriptors', 'credentials', 'creditCategoryDescriptors', 'creditTypeDescriptors', 'cteProgramServiceDescriptors', 'curriculumUsedDescriptors', 'deliveryMethodDescriptors', 'diagnosisDescriptors', 'diplomaLevelDescriptors', 'diplomaTypeDescriptors', 'disabilityDescriptors', 'disabilityDesignationDescriptors', 'disabilityDeterminationSourceTypeDescriptors', 'disciplineActionLengthDifferenceReasonDescriptors', 'disciplineActions', 'disciplineDescriptors', 'disciplineIncidentParticipationCodeDescriptors', 'disciplineIncidents', 'educationContents', 'educationOrganizationCategoryDescriptors', 'educationOrganizationIdentificationSystemDescriptors', 'educationOrganizationInterventionPrescriptionAssociations', 'educationOrganizationNetworkAssociations', 'educationOrganizationNetworks', 'educationOrganizationPeerAssociations', 'educationPlanDescriptors', 'educationServiceCenters', 'educationalEnvironmentDescriptors', 'electronicMailTypeDescriptors', 'employmentStatusDescriptors', 'entryGradeLevelReasonDescriptors', 'entryTypeDescriptors', 'eventCircumstanceDescriptors', 'exitWithdrawTypeDescriptors', 'feederSchoolAssociations', 'gradeLevelDescriptors', 'gradePointAverageTypeDescriptors', 'gradeTypeDescriptors', 'gradebookEntries', 'gradebookEntryTypeDescriptors', 'grades', 'gradingPeriodDescriptors', 'gradingPeriods', 'graduationPlanTypeDescriptors', 'graduationPlans', 'gunFreeSchoolsActReportingStatusDescriptors', 'homelessPrimaryNighttimeResidenceDescriptors', 'homelessProgramServiceDescriptors', 'identificationDocumentUseDescriptors', 'incidentLocationDescriptors', 'indicatorDescriptors', 'indicatorGroupDescriptors', 'indicatorLevelDescriptors', 'institutionTelephoneNumberTypeDescriptors', 'interactivityStyleDescriptors', 'internetAccessDescriptors', 'interventionClassDescriptors', 'interventionEffectivenessRatingDescriptors', 'interventionPrescriptions', 'interventionStudies', 'interventions', 'languageDescriptors', 'languageInstructionProgramServiceDescriptors', 'languageUseDescriptors', 'learningObjectives', 'learningStandardCategoryDescriptors', 'learningStandardEquivalenceAssociations', 'learningStandardEquivalenceStrengthDescriptors', 'learningStandardScopeDescriptors', 'learningStandards', 'levelOfEducationDescriptors', 'licenseStatusDescriptors', 'licenseTypeDescriptors', 'limitedEnglishProficiencyDescriptors', 'localEducationAgencies', 'localEducationAgencyCategoryDescriptors', 'localeDescriptors', 'locations', 'magnetSpecialProgramEmphasisSchoolDescriptors', 'mediumOfInstructionDescriptors', 'methodCreditEarnedDescriptors', 'migrantEducationProgramServiceDescriptors', 'monitoredDescriptors', 'neglectedOrDelinquentProgramDescriptors', 'neglectedOrDelinquentProgramServiceDescriptors', 'networkPurposeDescriptors', 'objectiveAssessments', 'oldEthnicityDescriptors', 'openStaffPositions', 'operationalStatusDescriptors', 'organizationDepartments', 'otherNameTypeDescriptors', 'parents', 'participationDescriptors', 'participationStatusDescriptors', 'payrolls', 'people', 'performanceBaseConversionDescriptors', 'performanceLevelDescriptors', 'personalInformationVerificationDescriptors', 'platformTypeDescriptors', 'populationServedDescriptors', 'postSecondaryEventCategoryDescriptors', 'postSecondaryEvents', 'postSecondaryInstitutionLevelDescriptors', 'postSecondaryInstitutions', 'postingResultDescriptors', 'proficiencyDescriptors', 'programAssignmentDescriptors', 'programCharacteristicDescriptors', 'programSponsorDescriptors', 'programTypeDescriptors', 'programs', 'progressDescriptors', 'progressLevelDescriptors', 'providerCategoryDescriptors', 'providerProfitabilityDescriptors', 'providerStatusDescriptors', 'publicationStatusDescriptors', 'questionFormDescriptors', 'raceDescriptors', 'reasonExitedDescriptors', 'reasonNotTestedDescriptors', 'recognitionTypeDescriptors', 'relationDescriptors', 'repeatIdentifierDescriptors', 'reportCards', 'reporterDescriptionDescriptors', 'residencyStatusDescriptors', 'responseIndicatorDescriptors', 'responsibilityDescriptors', 'restraintEventReasonDescriptors', 'restraintEvents', 'resultDatatypeTypeDescriptors', 'retestIndicatorDescriptors', 'schoolCategoryDescriptors', 'schoolChoiceImplementStatusDescriptors', 'schoolFoodServiceProgramServiceDescriptors', 'schoolTypeDescriptors', 'schools', 'sectionAttendanceTakenEvents', 'sectionCharacteristicDescriptors', 'sections', 'separationDescriptors', 'separationReasonDescriptors', 'serviceDescriptors', 'sessions', 'sexDescriptors', 'sourceSystemDescriptors', 'specialEducationProgramServiceDescriptors', 'specialEducationSettingDescriptors', 'staffAbsenceEvents', 'staffClassificationDescriptors', 'staffCohortAssociations', 'staffDisciplineIncidentAssociations', 'staffEducationOrganizationAssignmentAssociations', 'staffEducationOrganizationContactAssociations', 'staffEducationOrganizationEmploymentAssociations', 'staffIdentificationSystemDescriptors', 'staffLeaveEventCategoryDescriptors', 'staffLeaves', 'staffProgramAssociations', 'staffSchoolAssociations', 'staffSectionAssociations', 'staffs', 'stateAbbreviationDescriptors', 'stateEducationAgencies', 'studentAcademicRecords', 'studentAssessments', 'studentCTEProgramAssociations', 'studentCharacteristicDescriptors', 'studentCohortAssociations', 'studentCompetencyObjectives', 'studentDisciplineIncidentAssociations', 'studentDisciplineIncidentBehaviorAssociations', 'studentDisciplineIncidentNonOffenderAssociations', 'studentEducationOrganizationAssociations', 'studentEducationOrganizationResponsibilityAssociations', 'studentGradebookEntries', 'studentHomelessProgramAssociations', 'studentIdentificationSystemDescriptors', 'studentInterventionAssociations', 'studentInterventionAttendanceEvents', 'studentLanguageInstructionProgramAssociations', 'studentLearningObjectives', 'studentMigrantEducationProgramAssociations', 'studentNeglectedOrDelinquentProgramAssociations', 'studentParentAssociations', 'studentParticipationCodeDescriptors', 'studentProgramAssociations', 'studentProgramAttendanceEvents', 'studentSchoolAssociations', 'studentSchoolAttendanceEvents', 'studentSchoolFoodServiceProgramAssociations', 'studentSectionAssociations', 'studentSectionAttendanceEvents', 'studentSpecialEducationProgramAssociations', 'studentTitleIPartAProgramAssociations', 'students', 'surveyCategoryDescriptors', 'surveyCourseAssociations', 'surveyLevelDescriptors', 'surveyProgramAssociations', 'surveyQuestionResponses', 'surveyQuestions', 'surveyResponseEducationOrganizationTargetAssociations', 'surveyResponseStaffTargetAssociations', 'surveyResponses', 'surveySectionAssociations', 'surveySectionResponseEducationOrganizationTargetAssociations', 'surveySectionResponseStaffTargetAssociations', 'surveySectionResponses', 'surveySections', 'surveys', 'teachingCredentialBasisDescriptors', 'teachingCredentialDescriptors', 'technicalSkillsAssessmentDescriptors', 'telephoneNumberTypeDescriptors', 'termDescriptors', 'titleIPartAParticipantDescriptors', 'titleIPartAProgramServiceDescriptors', 'titleIPartASchoolDesignationDescriptors', 'tribalAffiliationDescriptors', 'visaDescriptors', 'weaponDescriptors']\n"
          ]
        }
      ],
      "execution_count": 10,
      "metadata": {
        "jupyter": {
          "source_hidden": false,
          "outputs_hidden": false
        },
        "nteract": {
          "transient": {
            "deleting": false
          }
        }
      }
    },
    {
      "cell_type": "code",
      "source": [
        "def should_ingest(entity_path):\r\n",
        "    raw_path = f'stage1/Transactional/{entity_path}'\r\n",
        "    if not oea.path_exists(raw_path):\r\n",
        "        return False\r\n",
        "    if len(oea.get_folders(raw_path)) > 0:\r\n",
        "        batch_type, source_data_format = oea.get_batch_info(raw_path)\r\n",
        "        logger.info(f'Ingesting from: {raw_path}, batch type of: {batch_type}, source data format of: {source_data_format}')\r\n",
        "        source_url = oea.to_url(f'{raw_path}/{batch_type}_batch_data')\r\n",
        "\r\n",
        "        if batch_type == 'delta' or batch_type == 'additive': source_url = f'{source_url}/{oea.get_latest_folder(source_url)}' \r\n",
        "\r\n",
        "        return oea.get_folder_size(source_url) > 0\r\n",
        "    else:\r\n",
        "        return False\r\n",
        "\r\n",
        "def ingest_edfi_dataset(tables_source):\r\n",
        "    full_source_path = f\"stage1/Transactional/{tables_source}\"\r\n",
        "    items = oea.get_folders(full_source_path)\r\n",
        "    options = {'header':False}\r\n",
        "    for item in items: \r\n",
        "        table_path = full_source_path +'/'+ item\r\n",
        "        try:\r\n",
        "            entity_path = f\"{tables_source}/{item}\"\r\n",
        "            print(entity_path)\r\n",
        "            if item == 'metadata.csv':\r\n",
        "                logger.info('ignore metadata processing, since this is not a table to be ingested')\r\n",
        "            else:\r\n",
        "                if(should_ingest(entity_path)):\r\n",
        "                    oea.ingest(entity_path, 'id', options)\r\n",
        "        except AnalysisException as e:\r\n",
        "            # This means the table may have not been properly refined due to errors with the primary key not aligning with columns expected in the lookup table.\r\n",
        "            pass"
      ],
      "outputs": [
        {
          "output_type": "display_data",
          "data": {
            "application/vnd.livy.statement-meta+json": {
              "spark_pool": "spark3p3sm",
              "session_id": "0",
              "statement_id": 12,
              "state": "finished",
              "livy_statement_state": "available",
              "queued_time": "2023-06-23T16:55:23.4407038Z",
              "session_start_time": null,
              "execution_start_time": "2023-06-23T16:55:26.3874713Z",
              "execution_finish_time": "2023-06-23T16:55:26.548561Z",
              "spark_jobs": null,
              "parent_msg_id": "8cf3c8f8-071f-4257-824f-b336b2d450f7"
            },
            "text/plain": "StatementMeta(spark3p3sm, 0, 12, Finished, Available)"
          },
          "metadata": {}
        }
      ],
      "execution_count": 11,
      "metadata": {
        "jupyter": {
          "source_hidden": false,
          "outputs_hidden": false
        },
        "nteract": {
          "transient": {
            "deleting": false
          }
        }
      }
    },
    {
      "cell_type": "code",
      "source": [
        "ingest_edfi_dataset(f'{moduleName}/{apiVersion}/DistrictId={districtPath}/SchoolYear={schoolYearPath}/ed-fi')\r\n",
        "ingest_edfi_dataset(f'{moduleName}/{apiVersion}/DistrictId={districtPath}/SchoolYear={schoolYearPath}/tpdm')"
      ],
      "outputs": [
        {
          "output_type": "display_data",
          "data": {
            "application/vnd.livy.statement-meta+json": {
              "spark_pool": "spark3p3sm",
              "session_id": "0",
              "statement_id": 13,
              "state": "finished",
              "livy_statement_state": "available",
              "queued_time": "2023-06-23T16:55:23.5642858Z",
              "session_start_time": null,
              "execution_start_time": "2023-06-23T16:55:27.4370091Z",
              "execution_finish_time": "2023-06-23T16:56:40.3509591Z",
              "spark_jobs": null,
              "parent_msg_id": "75836e00-d301-4355-bb35-09fb4c16e1a6"
            },
            "text/plain": "StatementMeta(spark3p3sm, 0, 13, Finished, Available)"
          },
          "metadata": {}
        },
        {
          "output_type": "stream",
          "name": "stdout",
          "text": [
            "Ed-Fi/5.2/DistrictId=All/SchoolYear=All/ed-fi/absenceEventCategoryDescriptors\n2023-06-23 16:55:28,223 - OEA - INFO - Ingesting from: stage1/Transactional/Ed-Fi/5.2/DistrictId=All/SchoolYear=All/ed-fi/absenceEventCategoryDescriptors, batch type of: delta, source data format of: json\n2023-06-23 16:55:28,438 - OEA - INFO - Ingesting from: stage1/Transactional/Ed-Fi/5.2/DistrictId=All/SchoolYear=All/ed-fi/absenceEventCategoryDescriptors, batch type of: delta, source data format of: json\nsource_path is: abfss://oea@stoeadablickw3.dfs.core.windows.net/dev/stage1/Transactional/Ed-Fi/5.2/DistrictId=All/SchoolYear=All/ed-fi/absenceEventCategoryDescriptors/delta_batch_data\n2023-06-23 16:55:48,567 - py4j.java_gateway - INFO - Callback Server Starting\n2023-06-23 16:55:48,571 - py4j.java_gateway - INFO - Socket listening on ('127.0.0.1', 34815)\n2023-06-23 16:55:52,324 - py4j.java_gateway - INFO - Callback Connection ready to receive messages\n2023-06-23 16:55:52,353 - py4j.java_gateway - INFO - Received command c on object id p0\n2023-06-23 16:56:38,256 - OEA - INFO - Number of new inbound rows processed: 1\n"
          ]
        },
        {
          "output_type": "error",
          "ename": "ParseException",
          "evalue": "\nPossibly unquoted identifier ldb_dev_s2i_ed-fi detected. Please consider quoting it with back-quotes as `ldb_dev_s2i_ed-fi`(line 1, pos 44)\n\n== SQL ==\nCREATE DATABASE IF NOT EXISTS ldb_dev_s2i_ed-fi\n--------------------------------------------^^^\n",
          "traceback": [
            "\u001b[0;31m---------------------------------------------------------------------------\u001b[0m",
            "\u001b[0;31mParseException\u001b[0m                            Traceback (most recent call last)",
            "Cell \u001b[0;32mIn [27], line 1\u001b[0m\n\u001b[0;32m----> 1\u001b[0m \u001b[43mingest_edfi_dataset\u001b[49m\u001b[43m(\u001b[49m\u001b[38;5;124;43mf\u001b[39;49m\u001b[38;5;124;43m'\u001b[39;49m\u001b[38;5;132;43;01m{\u001b[39;49;00m\u001b[43mmoduleName\u001b[49m\u001b[38;5;132;43;01m}\u001b[39;49;00m\u001b[38;5;124;43m/\u001b[39;49m\u001b[38;5;132;43;01m{\u001b[39;49;00m\u001b[43mapiVersion\u001b[49m\u001b[38;5;132;43;01m}\u001b[39;49;00m\u001b[38;5;124;43m/DistrictId=\u001b[39;49m\u001b[38;5;132;43;01m{\u001b[39;49;00m\u001b[43mdistrictPath\u001b[49m\u001b[38;5;132;43;01m}\u001b[39;49;00m\u001b[38;5;124;43m/SchoolYear=\u001b[39;49m\u001b[38;5;132;43;01m{\u001b[39;49;00m\u001b[43mschoolYearPath\u001b[49m\u001b[38;5;132;43;01m}\u001b[39;49;00m\u001b[38;5;124;43m/ed-fi\u001b[39;49m\u001b[38;5;124;43m'\u001b[39;49m\u001b[43m)\u001b[49m\n\u001b[1;32m      2\u001b[0m ingest_edfi_dataset(\u001b[38;5;124mf\u001b[39m\u001b[38;5;124m'\u001b[39m\u001b[38;5;132;01m{\u001b[39;00mmoduleName\u001b[38;5;132;01m}\u001b[39;00m\u001b[38;5;124m/\u001b[39m\u001b[38;5;132;01m{\u001b[39;00mapiVersion\u001b[38;5;132;01m}\u001b[39;00m\u001b[38;5;124m/DistrictId=\u001b[39m\u001b[38;5;132;01m{\u001b[39;00mdistrictPath\u001b[38;5;132;01m}\u001b[39;00m\u001b[38;5;124m/SchoolYear=\u001b[39m\u001b[38;5;132;01m{\u001b[39;00mschoolYearPath\u001b[38;5;132;01m}\u001b[39;00m\u001b[38;5;124m/tpdm\u001b[39m\u001b[38;5;124m'\u001b[39m)\n",
            "Cell \u001b[0;32mIn [25], line 29\u001b[0m, in \u001b[0;36mingest_edfi_dataset\u001b[0;34m(tables_source)\u001b[0m\n\u001b[1;32m     27\u001b[0m     \u001b[38;5;28;01melse\u001b[39;00m:\n\u001b[1;32m     28\u001b[0m         \u001b[38;5;28;01mif\u001b[39;00m(should_ingest(entity_path)):\n\u001b[0;32m---> 29\u001b[0m             \u001b[43moea\u001b[49m\u001b[38;5;241;43m.\u001b[39;49m\u001b[43mingest\u001b[49m\u001b[43m(\u001b[49m\u001b[43mentity_path\u001b[49m\u001b[43m,\u001b[49m\u001b[43m \u001b[49m\u001b[38;5;124;43m'\u001b[39;49m\u001b[38;5;124;43mid\u001b[39;49m\u001b[38;5;124;43m'\u001b[39;49m\u001b[43m,\u001b[49m\u001b[43m \u001b[49m\u001b[43moptions\u001b[49m\u001b[43m)\u001b[49m\n\u001b[1;32m     30\u001b[0m \u001b[38;5;28;01mexcept\u001b[39;00m AnalysisException \u001b[38;5;28;01mas\u001b[39;00m e:\n\u001b[1;32m     31\u001b[0m     \u001b[38;5;66;03m# This means the table may have not been properly refined due to errors with the primary key not aligning with columns expected in the lookup table.\u001b[39;00m\n\u001b[1;32m     32\u001b[0m     \u001b[38;5;28;01mpass\u001b[39;00m\n",
            "Cell \u001b[0;32mIn [19], line 530\u001b[0m, in \u001b[0;36mOEA.ingest\u001b[0;34m(self, entity_path, primary_key, options)\u001b[0m\n\u001b[1;32m    528\u001b[0m number_of_new_inbound_rows \u001b[38;5;241m=\u001b[39m \u001b[38;5;28mself\u001b[39m\u001b[38;5;241m.\u001b[39mprocess(source_url, batch_func, options)\n\u001b[1;32m    529\u001b[0m \u001b[38;5;28;01mif\u001b[39;00m number_of_new_inbound_rows \u001b[38;5;241m>\u001b[39m \u001b[38;5;241m0\u001b[39m:    \n\u001b[0;32m--> 530\u001b[0m     \u001b[38;5;28;43mself\u001b[39;49m\u001b[38;5;241;43m.\u001b[39;49m\u001b[43madd_to_lake_db\u001b[49m\u001b[43m(\u001b[49m\u001b[43mingested_path\u001b[49m\u001b[43m)\u001b[49m\n\u001b[1;32m    531\u001b[0m \u001b[38;5;28;01mreturn\u001b[39;00m number_of_new_inbound_rows\n",
            "Cell \u001b[0;32mIn [19], line 673\u001b[0m, in \u001b[0;36mOEA.add_to_lake_db\u001b[0;34m(self, source_entity_path)\u001b[0m\n\u001b[1;32m    671\u001b[0m source_dict \u001b[38;5;241m=\u001b[39m \u001b[38;5;28mself\u001b[39m\u001b[38;5;241m.\u001b[39mparse_path(source_entity_path)\n\u001b[1;32m    672\u001b[0m db_name \u001b[38;5;241m=\u001b[39m source_dict[\u001b[38;5;124m'\u001b[39m\u001b[38;5;124mldb_name\u001b[39m\u001b[38;5;124m'\u001b[39m]\n\u001b[0;32m--> 673\u001b[0m \u001b[43mspark\u001b[49m\u001b[38;5;241;43m.\u001b[39;49m\u001b[43msql\u001b[49m\u001b[43m(\u001b[49m\u001b[38;5;124;43mf\u001b[39;49m\u001b[38;5;124;43m'\u001b[39;49m\u001b[38;5;124;43mCREATE DATABASE IF NOT EXISTS \u001b[39;49m\u001b[38;5;132;43;01m{\u001b[39;49;00m\u001b[43mdb_name\u001b[49m\u001b[38;5;132;43;01m}\u001b[39;49;00m\u001b[38;5;124;43m'\u001b[39;49m\u001b[43m)\u001b[49m\n\u001b[1;32m    674\u001b[0m spark\u001b[38;5;241m.\u001b[39msql(\u001b[38;5;124mf\u001b[39m\u001b[38;5;124m\"\u001b[39m\u001b[38;5;124mcreate table if not exists \u001b[39m\u001b[38;5;132;01m{\u001b[39;00mdb_name\u001b[38;5;132;01m}\u001b[39;00m\u001b[38;5;124m.\u001b[39m\u001b[38;5;132;01m{\u001b[39;00msource_dict[\u001b[38;5;124m'\u001b[39m\u001b[38;5;124mentity\u001b[39m\u001b[38;5;124m'\u001b[39m]\u001b[38;5;132;01m}\u001b[39;00m\u001b[38;5;124m using DELTA location \u001b[39m\u001b[38;5;124m'\u001b[39m\u001b[38;5;132;01m{\u001b[39;00m\u001b[38;5;28mself\u001b[39m\u001b[38;5;241m.\u001b[39mto_url(source_dict[\u001b[38;5;124m'\u001b[39m\u001b[38;5;124mentity_path\u001b[39m\u001b[38;5;124m'\u001b[39m])\u001b[38;5;132;01m}\u001b[39;00m\u001b[38;5;124m'\u001b[39m\u001b[38;5;124m\"\u001b[39m)\n",
            "File \u001b[0;32m/opt/spark/python/lib/pyspark.zip/pyspark/sql/session.py:1034\u001b[0m, in \u001b[0;36mSparkSession.sql\u001b[0;34m(self, sqlQuery, **kwargs)\u001b[0m\n\u001b[1;32m   1032\u001b[0m     sqlQuery \u001b[38;5;241m=\u001b[39m formatter\u001b[38;5;241m.\u001b[39mformat(sqlQuery, \u001b[38;5;241m*\u001b[39m\u001b[38;5;241m*\u001b[39mkwargs)\n\u001b[1;32m   1033\u001b[0m \u001b[38;5;28;01mtry\u001b[39;00m:\n\u001b[0;32m-> 1034\u001b[0m     \u001b[38;5;28;01mreturn\u001b[39;00m DataFrame(\u001b[38;5;28;43mself\u001b[39;49m\u001b[38;5;241;43m.\u001b[39;49m\u001b[43m_jsparkSession\u001b[49m\u001b[38;5;241;43m.\u001b[39;49m\u001b[43msql\u001b[49m\u001b[43m(\u001b[49m\u001b[43msqlQuery\u001b[49m\u001b[43m)\u001b[49m, \u001b[38;5;28mself\u001b[39m)\n\u001b[1;32m   1035\u001b[0m \u001b[38;5;28;01mfinally\u001b[39;00m:\n\u001b[1;32m   1036\u001b[0m     \u001b[38;5;28;01mif\u001b[39;00m \u001b[38;5;28mlen\u001b[39m(kwargs) \u001b[38;5;241m>\u001b[39m \u001b[38;5;241m0\u001b[39m:\n",
            "File \u001b[0;32m~/cluster-env/env/lib/python3.10/site-packages/py4j/java_gateway.py:1321\u001b[0m, in \u001b[0;36mJavaMember.__call__\u001b[0;34m(self, *args)\u001b[0m\n\u001b[1;32m   1315\u001b[0m command \u001b[38;5;241m=\u001b[39m proto\u001b[38;5;241m.\u001b[39mCALL_COMMAND_NAME \u001b[38;5;241m+\u001b[39m\\\n\u001b[1;32m   1316\u001b[0m     \u001b[38;5;28mself\u001b[39m\u001b[38;5;241m.\u001b[39mcommand_header \u001b[38;5;241m+\u001b[39m\\\n\u001b[1;32m   1317\u001b[0m     args_command \u001b[38;5;241m+\u001b[39m\\\n\u001b[1;32m   1318\u001b[0m     proto\u001b[38;5;241m.\u001b[39mEND_COMMAND_PART\n\u001b[1;32m   1320\u001b[0m answer \u001b[38;5;241m=\u001b[39m \u001b[38;5;28mself\u001b[39m\u001b[38;5;241m.\u001b[39mgateway_client\u001b[38;5;241m.\u001b[39msend_command(command)\n\u001b[0;32m-> 1321\u001b[0m return_value \u001b[38;5;241m=\u001b[39m \u001b[43mget_return_value\u001b[49m\u001b[43m(\u001b[49m\n\u001b[1;32m   1322\u001b[0m \u001b[43m    \u001b[49m\u001b[43manswer\u001b[49m\u001b[43m,\u001b[49m\u001b[43m \u001b[49m\u001b[38;5;28;43mself\u001b[39;49m\u001b[38;5;241;43m.\u001b[39;49m\u001b[43mgateway_client\u001b[49m\u001b[43m,\u001b[49m\u001b[43m \u001b[49m\u001b[38;5;28;43mself\u001b[39;49m\u001b[38;5;241;43m.\u001b[39;49m\u001b[43mtarget_id\u001b[49m\u001b[43m,\u001b[49m\u001b[43m \u001b[49m\u001b[38;5;28;43mself\u001b[39;49m\u001b[38;5;241;43m.\u001b[39;49m\u001b[43mname\u001b[49m\u001b[43m)\u001b[49m\n\u001b[1;32m   1324\u001b[0m \u001b[38;5;28;01mfor\u001b[39;00m temp_arg \u001b[38;5;129;01min\u001b[39;00m temp_args:\n\u001b[1;32m   1325\u001b[0m     temp_arg\u001b[38;5;241m.\u001b[39m_detach()\n",
            "File \u001b[0;32m/opt/spark/python/lib/pyspark.zip/pyspark/sql/utils.py:196\u001b[0m, in \u001b[0;36mcapture_sql_exception.<locals>.deco\u001b[0;34m(*a, **kw)\u001b[0m\n\u001b[1;32m    192\u001b[0m converted \u001b[38;5;241m=\u001b[39m convert_exception(e\u001b[38;5;241m.\u001b[39mjava_exception)\n\u001b[1;32m    193\u001b[0m \u001b[38;5;28;01mif\u001b[39;00m \u001b[38;5;129;01mnot\u001b[39;00m \u001b[38;5;28misinstance\u001b[39m(converted, UnknownException):\n\u001b[1;32m    194\u001b[0m     \u001b[38;5;66;03m# Hide where the exception came from that shows a non-Pythonic\u001b[39;00m\n\u001b[1;32m    195\u001b[0m     \u001b[38;5;66;03m# JVM exception message.\u001b[39;00m\n\u001b[0;32m--> 196\u001b[0m     \u001b[38;5;28;01mraise\u001b[39;00m converted \u001b[38;5;28;01mfrom\u001b[39;00m \u001b[38;5;28mNone\u001b[39m\n\u001b[1;32m    197\u001b[0m \u001b[38;5;28;01melse\u001b[39;00m:\n\u001b[1;32m    198\u001b[0m     \u001b[38;5;28;01mraise\u001b[39;00m\n",
            "\u001b[0;31mParseException\u001b[0m: \nPossibly unquoted identifier ldb_dev_s2i_ed-fi detected. Please consider quoting it with back-quotes as `ldb_dev_s2i_ed-fi`(line 1, pos 44)\n\n== SQL ==\nCREATE DATABASE IF NOT EXISTS ldb_dev_s2i_ed-fi\n--------------------------------------------^^^\n"
          ]
        }
      ],
      "execution_count": 12,
      "metadata": {
        "jupyter": {
          "source_hidden": false,
          "outputs_hidden": false
        },
        "nteract": {
          "transient": {
            "deleting": false
          }
        }
      }
    }
  ],
  "metadata": {
    "kernelspec": {
      "name": "synapse_pyspark",
      "language": "Python",
      "display_name": "Synapse PySpark"
    },
    "language_info": {
      "name": "python"
    },
    "kernel_info": {
      "name": "synapse_pyspark"
    },
    "description": null,
    "save_output": true,
    "synapse_widget": {
      "version": "0.1",
      "state": {}
    }
  },
  "nbformat": 4,
  "nbformat_minor": 2
}