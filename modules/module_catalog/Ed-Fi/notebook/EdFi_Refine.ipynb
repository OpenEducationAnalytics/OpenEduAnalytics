{
  "cells": [
    {
      "cell_type": "code",
      "source": [
        "# workspace = 'dev'\r\n",
        "# apiVersion = \"5.2\"\r\n",
        "# moduleName = \"Ed-Fi5\"\r\n",
        "# schoolYear = None\r\n",
        "# districtId = None\r\n",
        "# metadataUrl = \"https://github.com/ayunav/OpenEduAnalytics/raw/main/modules/module_catalog/Ed-Fi/utils/Metadata.csv\""
      ],
      "outputs": [
        {
          "output_type": "display_data",
          "data": {
            "application/vnd.livy.statement-meta+json": {
              "spark_pool": "spark3p3sm",
              "session_id": "1",
              "statement_id": 12,
              "state": "finished",
              "livy_statement_state": "available",
              "queued_time": "2023-06-23T22:43:52.4679478Z",
              "session_start_time": null,
              "execution_start_time": "2023-06-23T22:43:52.6448151Z",
              "execution_finish_time": "2023-06-23T22:43:52.8533389Z",
              "spark_jobs": null,
              "parent_msg_id": "826de0fc-654f-4cf7-a584-de22c514a5ef"
            },
            "text/plain": "StatementMeta(spark3p3sm, 1, 12, Finished, Available)"
          },
          "metadata": {}
        }
      ],
      "execution_count": 11,
      "metadata": {
        "jupyter": {
          "source_hidden": false,
          "outputs_hidden": false
        },
        "nteract": {
          "transient": {
            "deleting": false
          }
        }
      }
    },
    {
      "cell_type": "code",
      "source": [
        "%run OEA_py"
      ],
      "outputs": [
        {
          "output_type": "display_data",
          "data": {
            "application/vnd.livy.statement-meta+json": {
              "spark_pool": null,
              "session_id": "1",
              "statement_id": -1,
              "state": "finished",
              "livy_statement_state": "available",
              "queued_time": "2023-06-23T22:43:52.5204252Z",
              "session_start_time": null,
              "execution_start_time": "2023-06-23T22:43:53.5018483Z",
              "execution_finish_time": "2023-06-23T22:43:53.5021258Z",
              "spark_jobs": null,
              "parent_msg_id": "bb57b1e0-4688-415b-bba6-d2fc643241e1"
            },
            "text/plain": "StatementMeta(, 1, -1, Finished, Available)"
          },
          "metadata": {}
        },
        {
          "output_type": "stream",
          "name": "stdout",
          "text": [
            "2023-06-23 22:43:53,270 - OEA - INFO - Now using workspace: dev\n2023-06-23 22:43:53,270 - OEA - INFO - OEA initialized.\n"
          ]
        }
      ],
      "execution_count": 12,
      "metadata": {
        "jupyter": {
          "source_hidden": false,
          "outputs_hidden": false
        },
        "nteract": {
          "transient": {
            "deleting": false
          }
        }
      }
    },
    {
      "cell_type": "code",
      "source": [
        "# 1) set the workspace (this determines where in the data lake you'll be writing to and reading from).\r\n",
        "# You can work in 'dev', 'prod', or a sandbox with any name you choose.\r\n",
        "# For example, Sam the developer can create a 'sam' workspace and expect to find his datasets in the data lake under oea/sandboxes/sam\r\n",
        "oea.set_workspace(workspace)"
      ],
      "outputs": [
        {
          "output_type": "display_data",
          "data": {
            "application/vnd.livy.statement-meta+json": {
              "spark_pool": "spark3p3sm",
              "session_id": "1",
              "statement_id": 14,
              "state": "finished",
              "livy_statement_state": "available",
              "queued_time": "2023-06-23T22:43:52.567974Z",
              "session_start_time": null,
              "execution_start_time": "2023-06-23T22:43:53.678456Z",
              "execution_finish_time": "2023-06-23T22:43:53.8437454Z",
              "spark_jobs": null,
              "parent_msg_id": "afd32d39-7191-4f54-8823-b2acb25326ae"
            },
            "text/plain": "StatementMeta(spark3p3sm, 1, 14, Finished, Available)"
          },
          "metadata": {}
        },
        {
          "output_type": "stream",
          "name": "stdout",
          "text": [
            "2023-06-23 22:43:53,653 - OEA - INFO - Now using workspace: dev\n"
          ]
        }
      ],
      "execution_count": 13,
      "metadata": {
        "jupyter": {
          "source_hidden": false,
          "outputs_hidden": false
        },
        "nteract": {
          "transient": {
            "deleting": false
          }
        }
      }
    },
    {
      "cell_type": "code",
      "source": [
        "def refine_edfi_dataset(tables_source):\r\n",
        "    items = oea.get_folders(f\"stage2/Ingested/{tables_source}\")\r\n",
        "    for item in items: \r\n",
        "        table_path = f\"stage2/Ingested/{tables_source}/{item}\"\r\n",
        "        if item == 'metadata.csv':\r\n",
        "            logger.info('ignore metadata processing, since this is not a table to be ingested')\r\n",
        "        else:\r\n",
        "            try:\r\n",
        "                oea.refine(f'{tables_source}/{item}', metadata[item], 'id')\r\n",
        "            except AnalysisException as e:\r\n",
        "                # This means the table may have not been properly refined due to errors with the primary key not aligning with columns expected in the lookup table.\r\n",
        "                logger.info(e)\r\n",
        "                pass\r\n",
        "            \r\n",
        "            logger.info('Refined table: ' + item + ' from: ' + table_path)"
      ],
      "outputs": [
        {
          "output_type": "display_data",
          "data": {
            "application/vnd.livy.statement-meta+json": {
              "spark_pool": "spark3p3sm",
              "session_id": "1",
              "statement_id": 15,
              "state": "finished",
              "livy_statement_state": "available",
              "queued_time": "2023-06-23T22:43:52.6450857Z",
              "session_start_time": null,
              "execution_start_time": "2023-06-23T22:43:54.0375663Z",
              "execution_finish_time": "2023-06-23T22:43:54.2038456Z",
              "spark_jobs": null,
              "parent_msg_id": "d656c503-393b-457d-82dc-852908e255ac"
            },
            "text/plain": "StatementMeta(spark3p3sm, 1, 15, Finished, Available)"
          },
          "metadata": {}
        }
      ],
      "execution_count": 14,
      "metadata": {
        "jupyter": {
          "source_hidden": false,
          "outputs_hidden": false
        },
        "nteract": {
          "transient": {
            "deleting": false
          }
        }
      }
    },
    {
      "cell_type": "code",
      "source": [
        "metadata = oea.get_metadata_from_url(metadataUrl)\r\n",
        "districtPath = districtId if districtId != None else \"All\"\r\n",
        "schoolYearPath = schoolYear if schoolYear != None else \"All\"\r\n",
        "refine_edfi_dataset(f'{moduleName}/{apiVersion}/DistrictId={districtPath}/SchoolYear={schoolYearPath}/ed-fi')\r\n",
        "refine_edfi_dataset(f'{moduleName}/{apiVersion}/DistrictId={districtPath}/SchoolYear={schoolYearPath}/tpdm')"
      ],
      "outputs": [
        {
          "output_type": "display_data",
          "data": {
            "application/vnd.livy.statement-meta+json": {
              "spark_pool": "spark3p3sm",
              "session_id": "1",
              "statement_id": 16,
              "state": "finished",
              "livy_statement_state": "cancelled",
              "queued_time": "2023-06-23T22:43:52.7439864Z",
              "session_start_time": null,
              "execution_start_time": "2023-06-23T22:43:54.3725481Z",
              "execution_finish_time": "2023-06-23T22:53:12.6992735Z",
              "spark_jobs": null,
              "parent_msg_id": "1a4c13f3-bab1-461e-8fb8-54e61e9b9efb"
            },
            "text/plain": "StatementMeta(spark3p3sm, 1, 16, Finished, Cancelled)"
          },
          "metadata": {}
        },
        {
          "output_type": "stream",
          "name": "stdout",
          "text": [
            "2023-06-23 22:45:09,496 - OEA - INFO - Processed 1 updated rows from stage2/Ingested/Ed-Fi5/5.2/DistrictId=All/SchoolYear=All/ed-fi/absenceEventCategoryDescriptors into stage2/Refined\n2023-06-23 22:45:10,006 - OEA - INFO - Refined table: absenceEventCategoryDescriptors from: stage2/Ingested/Ed-Fi5/5.2/DistrictId=All/SchoolYear=All/ed-fi/absenceEventCategoryDescriptors\n2023-06-23 22:45:25,253 - OEA - INFO - Processed 1 updated rows from stage2/Ingested/Ed-Fi5/5.2/DistrictId=All/SchoolYear=All/ed-fi/academicHonorCategoryDescriptors into stage2/Refined\n2023-06-23 22:45:25,618 - OEA - INFO - Refined table: academicHonorCategoryDescriptors from: stage2/Ingested/Ed-Fi5/5.2/DistrictId=All/SchoolYear=All/ed-fi/academicHonorCategoryDescriptors\n2023-06-23 22:45:40,123 - OEA - INFO - Processed 1 updated rows from stage2/Ingested/Ed-Fi5/5.2/DistrictId=All/SchoolYear=All/ed-fi/academicSubjectDescriptors into stage2/Refined\n2023-06-23 22:45:40,466 - OEA - INFO - Refined table: academicSubjectDescriptors from: stage2/Ingested/Ed-Fi5/5.2/DistrictId=All/SchoolYear=All/ed-fi/academicSubjectDescriptors\n2023-06-23 22:45:53,872 - OEA - INFO - Processed 1 updated rows from stage2/Ingested/Ed-Fi5/5.2/DistrictId=All/SchoolYear=All/ed-fi/accommodationDescriptors into stage2/Refined\n2023-06-23 22:45:54,201 - OEA - INFO - Refined table: accommodationDescriptors from: stage2/Ingested/Ed-Fi5/5.2/DistrictId=All/SchoolYear=All/ed-fi/accommodationDescriptors\n2023-06-23 22:46:11,899 - OEA - INFO - Processed 1 updated rows from stage2/Ingested/Ed-Fi5/5.2/DistrictId=All/SchoolYear=All/ed-fi/accountClassificationDescriptors into stage2/Refined\n2023-06-23 22:46:12,198 - OEA - INFO - Refined table: accountClassificationDescriptors from: stage2/Ingested/Ed-Fi5/5.2/DistrictId=All/SchoolYear=All/ed-fi/accountClassificationDescriptors\n2023-06-23 22:46:26,720 - OEA - INFO - Processed 1 updated rows from stage2/Ingested/Ed-Fi5/5.2/DistrictId=All/SchoolYear=All/ed-fi/accountCodes into stage2/Refined\n2023-06-23 22:46:27,043 - OEA - INFO - Refined table: accountCodes from: stage2/Ingested/Ed-Fi5/5.2/DistrictId=All/SchoolYear=All/ed-fi/accountCodes\n2023-06-23 22:46:41,510 - OEA - INFO - Processed 1 updated rows from stage2/Ingested/Ed-Fi5/5.2/DistrictId=All/SchoolYear=All/ed-fi/accountabilityRatings into stage2/Refined\n2023-06-23 22:46:41,880 - OEA - INFO - Refined table: accountabilityRatings from: stage2/Ingested/Ed-Fi5/5.2/DistrictId=All/SchoolYear=All/ed-fi/accountabilityRatings\n2023-06-23 22:46:55,006 - OEA - INFO - Processed 1 updated rows from stage2/Ingested/Ed-Fi5/5.2/DistrictId=All/SchoolYear=All/ed-fi/accounts into stage2/Refined\n2023-06-23 22:46:55,490 - OEA - INFO - Refined table: accounts from: stage2/Ingested/Ed-Fi5/5.2/DistrictId=All/SchoolYear=All/ed-fi/accounts\n2023-06-23 22:47:08,545 - OEA - INFO - Processed 1 updated rows from stage2/Ingested/Ed-Fi5/5.2/DistrictId=All/SchoolYear=All/ed-fi/achievementCategoryDescriptors into stage2/Refined\n2023-06-23 22:47:08,831 - OEA - INFO - Refined table: achievementCategoryDescriptors from: stage2/Ingested/Ed-Fi5/5.2/DistrictId=All/SchoolYear=All/ed-fi/achievementCategoryDescriptors\n2023-06-23 22:47:22,029 - OEA - INFO - Processed 1 updated rows from stage2/Ingested/Ed-Fi5/5.2/DistrictId=All/SchoolYear=All/ed-fi/additionalCreditTypeDescriptors into stage2/Refined\n2023-06-23 22:47:22,331 - OEA - INFO - Refined table: additionalCreditTypeDescriptors from: stage2/Ingested/Ed-Fi5/5.2/DistrictId=All/SchoolYear=All/ed-fi/additionalCreditTypeDescriptors\n2023-06-23 22:47:36,116 - OEA - INFO - Processed 1 updated rows from stage2/Ingested/Ed-Fi5/5.2/DistrictId=All/SchoolYear=All/ed-fi/addressTypeDescriptors into stage2/Refined\n2023-06-23 22:47:36,384 - OEA - INFO - Refined table: addressTypeDescriptors from: stage2/Ingested/Ed-Fi5/5.2/DistrictId=All/SchoolYear=All/ed-fi/addressTypeDescriptors\n2023-06-23 22:47:48,995 - OEA - INFO - Processed 1 updated rows from stage2/Ingested/Ed-Fi5/5.2/DistrictId=All/SchoolYear=All/ed-fi/administrationEnvironmentDescriptors into stage2/Refined\n2023-06-23 22:47:49,280 - OEA - INFO - Refined table: administrationEnvironmentDescriptors from: stage2/Ingested/Ed-Fi5/5.2/DistrictId=All/SchoolYear=All/ed-fi/administrationEnvironmentDescriptors\n2023-06-23 22:48:01,604 - OEA - INFO - Processed 1 updated rows from stage2/Ingested/Ed-Fi5/5.2/DistrictId=All/SchoolYear=All/ed-fi/administrativeFundingControlDescriptors into stage2/Refined\n2023-06-23 22:48:01,914 - OEA - INFO - Refined table: administrativeFundingControlDescriptors from: stage2/Ingested/Ed-Fi5/5.2/DistrictId=All/SchoolYear=All/ed-fi/administrativeFundingControlDescriptors\n2023-06-23 22:48:14,668 - OEA - INFO - Processed 1 updated rows from stage2/Ingested/Ed-Fi5/5.2/DistrictId=All/SchoolYear=All/ed-fi/ancestryEthnicOriginDescriptors into stage2/Refined\n2023-06-23 22:48:14,978 - OEA - INFO - Refined table: ancestryEthnicOriginDescriptors from: stage2/Ingested/Ed-Fi5/5.2/DistrictId=All/SchoolYear=All/ed-fi/ancestryEthnicOriginDescriptors\n2023-06-23 22:48:28,441 - OEA - INFO - Processed 1 updated rows from stage2/Ingested/Ed-Fi5/5.2/DistrictId=All/SchoolYear=All/ed-fi/assessmentCategoryDescriptors into stage2/Refined\n2023-06-23 22:48:28,714 - OEA - INFO - Refined table: assessmentCategoryDescriptors from: stage2/Ingested/Ed-Fi5/5.2/DistrictId=All/SchoolYear=All/ed-fi/assessmentCategoryDescriptors\n2023-06-23 22:48:40,991 - OEA - INFO - Processed 1 updated rows from stage2/Ingested/Ed-Fi5/5.2/DistrictId=All/SchoolYear=All/ed-fi/assessmentIdentificationSystemDescriptors into stage2/Refined\n2023-06-23 22:48:41,432 - OEA - INFO - Refined table: assessmentIdentificationSystemDescriptors from: stage2/Ingested/Ed-Fi5/5.2/DistrictId=All/SchoolYear=All/ed-fi/assessmentIdentificationSystemDescriptors\n2023-06-23 22:48:53,780 - OEA - INFO - Processed 1 updated rows from stage2/Ingested/Ed-Fi5/5.2/DistrictId=All/SchoolYear=All/ed-fi/assessmentItemCategoryDescriptors into stage2/Refined\n2023-06-23 22:48:54,048 - OEA - INFO - Refined table: assessmentItemCategoryDescriptors from: stage2/Ingested/Ed-Fi5/5.2/DistrictId=All/SchoolYear=All/ed-fi/assessmentItemCategoryDescriptors\n2023-06-23 22:49:06,486 - OEA - INFO - Processed 1 updated rows from stage2/Ingested/Ed-Fi5/5.2/DistrictId=All/SchoolYear=All/ed-fi/assessmentItemResultDescriptors into stage2/Refined\n2023-06-23 22:49:06,753 - OEA - INFO - Refined table: assessmentItemResultDescriptors from: stage2/Ingested/Ed-Fi5/5.2/DistrictId=All/SchoolYear=All/ed-fi/assessmentItemResultDescriptors\n2023-06-23 22:49:22,476 - OEA - INFO - Processed 3 updated rows from stage2/Ingested/Ed-Fi5/5.2/DistrictId=All/SchoolYear=All/ed-fi/assessmentItems into stage2/Refined\n2023-06-23 22:49:22,772 - OEA - INFO - Refined table: assessmentItems from: stage2/Ingested/Ed-Fi5/5.2/DistrictId=All/SchoolYear=All/ed-fi/assessmentItems\n2023-06-23 22:49:35,490 - OEA - INFO - Processed 1 updated rows from stage2/Ingested/Ed-Fi5/5.2/DistrictId=All/SchoolYear=All/ed-fi/assessmentPeriodDescriptors into stage2/Refined\n2023-06-23 22:49:35,739 - OEA - INFO - Refined table: assessmentPeriodDescriptors from: stage2/Ingested/Ed-Fi5/5.2/DistrictId=All/SchoolYear=All/ed-fi/assessmentPeriodDescriptors\n2023-06-23 22:49:48,296 - OEA - INFO - Processed 1 updated rows from stage2/Ingested/Ed-Fi5/5.2/DistrictId=All/SchoolYear=All/ed-fi/assessmentReportingMethodDescriptors into stage2/Refined\n2023-06-23 22:49:48,562 - OEA - INFO - Refined table: assessmentReportingMethodDescriptors from: stage2/Ingested/Ed-Fi5/5.2/DistrictId=All/SchoolYear=All/ed-fi/assessmentReportingMethodDescriptors\n2023-06-23 22:50:01,256 - OEA - INFO - Processed 1 updated rows from stage2/Ingested/Ed-Fi5/5.2/DistrictId=All/SchoolYear=All/ed-fi/assessmentScoreRangeLearningStandards into stage2/Refined\n2023-06-23 22:50:01,569 - OEA - INFO - Refined table: assessmentScoreRangeLearningStandards from: stage2/Ingested/Ed-Fi5/5.2/DistrictId=All/SchoolYear=All/ed-fi/assessmentScoreRangeLearningStandards\n2023-06-23 22:50:16,657 - OEA - INFO - Processed 1 updated rows from stage2/Ingested/Ed-Fi5/5.2/DistrictId=All/SchoolYear=All/ed-fi/assessments into stage2/Refined\n2023-06-23 22:50:16,937 - OEA - INFO - Refined table: assessments from: stage2/Ingested/Ed-Fi5/5.2/DistrictId=All/SchoolYear=All/ed-fi/assessments\n2023-06-23 22:50:29,177 - OEA - INFO - Processed 1 updated rows from stage2/Ingested/Ed-Fi5/5.2/DistrictId=All/SchoolYear=All/ed-fi/attemptStatusDescriptors into stage2/Refined\n2023-06-23 22:50:29,435 - OEA - INFO - Refined table: attemptStatusDescriptors from: stage2/Ingested/Ed-Fi5/5.2/DistrictId=All/SchoolYear=All/ed-fi/attemptStatusDescriptors\n2023-06-23 22:50:42,497 - OEA - INFO - Processed 1 updated rows from stage2/Ingested/Ed-Fi5/5.2/DistrictId=All/SchoolYear=All/ed-fi/attendanceEventCategoryDescriptors into stage2/Refined\n2023-06-23 22:50:42,778 - OEA - INFO - Refined table: attendanceEventCategoryDescriptors from: stage2/Ingested/Ed-Fi5/5.2/DistrictId=All/SchoolYear=All/ed-fi/attendanceEventCategoryDescriptors\n2023-06-23 22:50:55,187 - OEA - INFO - Processed 1 updated rows from stage2/Ingested/Ed-Fi5/5.2/DistrictId=All/SchoolYear=All/ed-fi/behaviorDescriptors into stage2/Refined\n2023-06-23 22:50:55,485 - OEA - INFO - Refined table: behaviorDescriptors from: stage2/Ingested/Ed-Fi5/5.2/DistrictId=All/SchoolYear=All/ed-fi/behaviorDescriptors\n2023-06-23 22:51:08,978 - OEA - INFO - Processed 1 updated rows from stage2/Ingested/Ed-Fi5/5.2/DistrictId=All/SchoolYear=All/ed-fi/bellSchedules into stage2/Refined\n2023-06-23 22:51:09,268 - OEA - INFO - Refined table: bellSchedules from: stage2/Ingested/Ed-Fi5/5.2/DistrictId=All/SchoolYear=All/ed-fi/bellSchedules\n2023-06-23 22:51:22,786 - OEA - INFO - Processed 1 updated rows from stage2/Ingested/Ed-Fi5/5.2/DistrictId=All/SchoolYear=All/ed-fi/calendarDates into stage2/Refined\n2023-06-23 22:51:23,083 - OEA - INFO - Refined table: calendarDates from: stage2/Ingested/Ed-Fi5/5.2/DistrictId=All/SchoolYear=All/ed-fi/calendarDates\n2023-06-23 22:51:35,902 - OEA - INFO - Processed 1 updated rows from stage2/Ingested/Ed-Fi5/5.2/DistrictId=All/SchoolYear=All/ed-fi/calendarEventDescriptors into stage2/Refined\n2023-06-23 22:51:36,173 - OEA - INFO - Refined table: calendarEventDescriptors from: stage2/Ingested/Ed-Fi5/5.2/DistrictId=All/SchoolYear=All/ed-fi/calendarEventDescriptors\n2023-06-23 22:51:49,014 - OEA - INFO - Processed 1 updated rows from stage2/Ingested/Ed-Fi5/5.2/DistrictId=All/SchoolYear=All/ed-fi/calendarTypeDescriptors into stage2/Refined\n2023-06-23 22:51:49,305 - OEA - INFO - Refined table: calendarTypeDescriptors from: stage2/Ingested/Ed-Fi5/5.2/DistrictId=All/SchoolYear=All/ed-fi/calendarTypeDescriptors\n2023-06-23 22:52:03,188 - OEA - INFO - Processed 1 updated rows from stage2/Ingested/Ed-Fi5/5.2/DistrictId=All/SchoolYear=All/ed-fi/calendars into stage2/Refined\n2023-06-23 22:52:03,449 - OEA - INFO - Refined table: calendars from: stage2/Ingested/Ed-Fi5/5.2/DistrictId=All/SchoolYear=All/ed-fi/calendars\n2023-06-23 22:52:17,906 - OEA - INFO - Processed 1 updated rows from stage2/Ingested/Ed-Fi5/5.2/DistrictId=All/SchoolYear=All/ed-fi/careerPathwayDescriptors into stage2/Refined\n2023-06-23 22:52:18,148 - OEA - INFO - Refined table: careerPathwayDescriptors from: stage2/Ingested/Ed-Fi5/5.2/DistrictId=All/SchoolYear=All/ed-fi/careerPathwayDescriptors\n2023-06-23 22:52:31,295 - OEA - INFO - Processed 1 updated rows from stage2/Ingested/Ed-Fi5/5.2/DistrictId=All/SchoolYear=All/ed-fi/charterApprovalAgencyTypeDescriptors into stage2/Refined\n2023-06-23 22:52:31,575 - OEA - INFO - Refined table: charterApprovalAgencyTypeDescriptors from: stage2/Ingested/Ed-Fi5/5.2/DistrictId=All/SchoolYear=All/ed-fi/charterApprovalAgencyTypeDescriptors\n2023-06-23 22:52:44,539 - OEA - INFO - Processed 1 updated rows from stage2/Ingested/Ed-Fi5/5.2/DistrictId=All/SchoolYear=All/ed-fi/charterStatusDescriptors into stage2/Refined\n2023-06-23 22:52:44,814 - OEA - INFO - Refined table: charterStatusDescriptors from: stage2/Ingested/Ed-Fi5/5.2/DistrictId=All/SchoolYear=All/ed-fi/charterStatusDescriptors\n2023-06-23 22:52:57,274 - OEA - INFO - Processed 1 updated rows from stage2/Ingested/Ed-Fi5/5.2/DistrictId=All/SchoolYear=All/ed-fi/citizenshipStatusDescriptors into stage2/Refined\n2023-06-23 22:52:57,543 - OEA - INFO - Refined table: citizenshipStatusDescriptors from: stage2/Ingested/Ed-Fi5/5.2/DistrictId=All/SchoolYear=All/ed-fi/citizenshipStatusDescriptors\n"
          ]
        }
      ],
      "execution_count": 15,
      "metadata": {
        "jupyter": {
          "source_hidden": false,
          "outputs_hidden": false
        },
        "nteract": {
          "transient": {
            "deleting": false
          }
        }
      }
    }
  ],
  "metadata": {
    "kernelspec": {
      "name": "synapse_pyspark",
      "language": "Python",
      "display_name": "Synapse PySpark"
    },
    "language_info": {
      "name": "python"
    },
    "kernel_info": {
      "name": "synapse_pyspark"
    },
    "description": null,
    "save_output": true,
    "synapse_widget": {
      "version": "0.1",
      "state": {}
    }
  },
  "nbformat": 4,
  "nbformat_minor": 2
}