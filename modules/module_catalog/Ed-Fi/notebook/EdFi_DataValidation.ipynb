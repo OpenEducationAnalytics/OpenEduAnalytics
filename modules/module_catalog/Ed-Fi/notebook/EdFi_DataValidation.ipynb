{
  "nbformat": 4,
  "nbformat_minor": 2,
  "cells": [
    {
      "cell_type": "code",
      "execution_count": 31,
      "outputs": [],
      "metadata": {},
      "source": [
        "workspace = 'dev'\r\n",
        "collection = \"EdFi9\"\r\n",
        "version = \"5.2\"\r\n",
        "options = {'header':False}"
      ]
    },
    {
      "cell_type": "code",
      "execution_count": 32,
      "outputs": [],
      "metadata": {
        "jupyter": {
          "source_hidden": false,
          "outputs_hidden": false
        },
        "nteract": {
          "transient": {
            "deleting": false
          }
        }
      },
      "source": [
        "%run /OEATestKit_py"
      ]
    },
    {
      "cell_type": "code",
      "execution_count": 33,
      "outputs": [],
      "metadata": {
        "jupyter": {
          "source_hidden": false,
          "outputs_hidden": false
        },
        "nteract": {
          "transient": {
            "deleting": false
          }
        }
      },
      "source": [
        "def should_test(entity_path):\r\n",
        "    #Should only run test on data if there is data to test=\r\n",
        "    folders = oea.get_folders(entity_path)\r\n",
        "    if len(folders) == 0:\r\n",
        "        return False\r\n",
        "    batch_type, source_data_format = oea.get_batch_info(entity_path)\r\n",
        "    source_url = oea.to_url(f'{entity_path}/{batch_type}_batch_data')\r\n",
        "    if batch_type == 'snapshot' or batch_type=='additive': source_url = f'{source_url}/{oea.get_latest_folder(source_url)}'\r\n",
        "    return oea.get_folder_size(source_url) > 0\r\n",
        "    \r\n",
        "def validate_all_data_was_ingested(tables_source, path_modifier):\r\n",
        "    items = oea.get_folders(tables_source)\r\n",
        "    options = {'header':False}\r\n",
        "    for item in items: \r\n",
        "        try:\r\n",
        "            if item == 'metadata.csv':\r\n",
        "                logger.info('ignore metadata processing, since this is not a table to be ingested')\r\n",
        "            else:\r\n",
        "                if(should_test(f'{tables_source}/{item}')):\r\n",
        "                    oea_test_kit.test_raw_data_is_subset_of_lake(collection, version, item, 'id', options, path_modifier)\r\n",
        "            #print(f\"item {item} passed test\")\r\n",
        "        except AnalysisException as e:\r\n",
        "            print(f\"item {item} failed test\")\r\n",
        "\r\n",
        "def validate_no_duplicates(table_source, path_modifier):\r\n",
        "    items = oea.get_folders(table_source)\r\n",
        "    for item in items: \r\n",
        "        try:\r\n",
        "            if item == 'metadata.csv':\r\n",
        "                logger.info('ignore metadata processing, since this is not a table to be ingested')\r\n",
        "            else:\r\n",
        "                if(should_test(f'{table_source}/{item}')):\r\n",
        "                    oea_test_kit.test_has_duplicates(collection, version, item, 'id', path_modifier)\r\n",
        "            #print(f\"item {item} passed test\")\r\n",
        "        except AnalysisException as e:\r\n",
        "            print(f\"item {item} failed test\")"
      ]
    },
    {
      "cell_type": "code",
      "execution_count": 34,
      "outputs": [],
      "metadata": {
        "jupyter": {
          "source_hidden": false,
          "outputs_hidden": false
        },
        "nteract": {
          "transient": {
            "deleting": false
          }
        }
      },
      "source": [
        "validate_all_data_was_ingested(f'stage1/Transactional/{collection}/{version}/ed-fi','ed-fi')\r\n",
        "validate_all_data_was_ingested(f'stage1/Transactional/{collection}/{version}/tpdm','tpdm')"
      ]
    },
    {
      "cell_type": "code",
      "execution_count": 35,
      "outputs": [],
      "metadata": {
        "jupyter": {
          "source_hidden": false,
          "outputs_hidden": false
        },
        "nteract": {
          "transient": {
            "deleting": false
          }
        }
      },
      "source": [
        "validate_no_duplicates(f'stage1/Transactional/{collection}/{version}/ed-fi','ed-fi')\r\n",
        "validate_no_duplicates(f'stage1/Transactional/{collection}/{version}/tpdm','tpdm')"
      ]
    }
  ],
  "metadata": {
    "description": null,
    "save_output": true,
    "kernelspec": {
      "name": "synapse_pyspark",
      "display_name": "Synapse PySpark"
    },
    "language_info": {
      "name": "python"
    }
  }
}