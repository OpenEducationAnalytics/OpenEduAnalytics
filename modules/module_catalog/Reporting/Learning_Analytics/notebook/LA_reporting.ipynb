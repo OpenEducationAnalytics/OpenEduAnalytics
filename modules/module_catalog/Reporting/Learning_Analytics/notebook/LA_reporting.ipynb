{
  "cells": [
    {
      "attachments": {},
      "cell_type": "markdown",
      "metadata": {
        "nteract": {
          "transient": {
            "deleting": false
          }
        }
      },
      "source": [
        "<h1>Learning Analytics Reporting Module: </h1>\n",
        "\n",
        "<b>Pre-requisites: Following modules need to be run</b>\n",
        "\n",
        "1. Microsoft Education Insights\n",
        "2. Microsoft Graph\n",
        "3. Transformation"
      ]
    }
  ],
  "metadata": {
    "kernelspec": {
      "display_name": "python",
      "name": "synapse_pyspark"
    },
    "language_info": {
      "name": "python"
    },
    "save_output": true,
    "synapse_widget": {
      "state": {},
      "version": "0.1"
    }
  },
  "nbformat": 4,
  "nbformat_minor": 2
}
