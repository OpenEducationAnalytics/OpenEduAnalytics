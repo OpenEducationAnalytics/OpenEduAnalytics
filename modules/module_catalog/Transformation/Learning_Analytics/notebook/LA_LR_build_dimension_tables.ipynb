{
  "nbformat": 4,
  "nbformat_minor": 2,
  "metadata": {
    "kernelspec": {
      "name": "synapse_pyspark",
      "display_name": "Synapse PySpark"
    },
    "language_info": {
      "name": "python"
    },
    "description": null,
    "save_output": true,
    "synapse_widget": {
      "version": "0.1",
      "state": {}
    }
  },
  "cells": [
    {
      "cell_type": "markdown",
      "metadata": {
        "nteract": {
          "transient": {
            "deleting": false
          }
        }
      },
      "source": [
        "# Learning Analytics v2\r\n",
        "\r\n",
        "## Learning Resources Schema Dimension Tables\r\n",
        ""
      ]
    },
    {
      "cell_type": "code",
      "execution_count": 1,
      "outputs": [
        {
          "output_type": "display_data",
          "data": {
            "application/vnd.livy.statement-meta+json": {
              "spark_pool": null,
              "session_id": "43",
              "statement_id": -1,
              "state": "finished",
              "livy_statement_state": "available",
              "queued_time": "2023-06-29T21:50:10.9583535Z",
              "session_start_time": null,
              "execution_start_time": "2023-06-29T21:51:04.1219465Z",
              "execution_finish_time": "2023-06-29T21:51:04.1221616Z",
              "spark_jobs": null,
              "parent_msg_id": "66bf2203-35b8-4653-a600-108d34cb8282"
            },
            "text/plain": "StatementMeta(, 43, -1, Finished, Available)"
          },
          "metadata": {}
        },
        {
          "output_type": "stream",
          "name": "stdout",
          "text": [
            "2023-06-29 21:51:03,937 - OEA - INFO - Now using workspace: dev\n2023-06-29 21:51:03,939 - OEA - INFO - OEA initialized.\n"
          ]
        }
      ],
      "metadata": {},
      "source": [
        "%run OEA_py"
      ]
    },
    {
      "cell_type": "code",
      "execution_count": 2,
      "outputs": [
        {
          "output_type": "display_data",
          "data": {
            "application/vnd.livy.statement-meta+json": {
              "spark_pool": "spark3p3sm",
              "session_id": "43",
              "statement_id": 3,
              "state": "finished",
              "livy_statement_state": "available",
              "queued_time": "2023-06-29T21:50:10.9653256Z",
              "session_start_time": null,
              "execution_start_time": "2023-06-29T21:51:04.2768946Z",
              "execution_finish_time": "2023-06-29T21:51:04.4513777Z",
              "spark_jobs": null,
              "parent_msg_id": "11322a85-ff71-4352-9879-2fc602f74d9c"
            },
            "text/plain": "StatementMeta(spark3p3sm, 43, 3, Finished, Available)"
          },
          "metadata": {}
        },
        {
          "output_type": "stream",
          "name": "stdout",
          "text": [
            "2023-06-29 21:51:04,249 - OEA - INFO - Now using workspace: dev\n"
          ]
        }
      ],
      "metadata": {
        "jupyter": {
          "source_hidden": false,
          "outputs_hidden": false
        },
        "nteract": {
          "transient": {
            "deleting": false
          }
        }
      },
      "source": [
        "workspace = 'dev'\r\n",
        "oea.set_workspace(workspace)"
      ]
    },
    {
      "cell_type": "code",
      "execution_count": 3,
      "outputs": [
        {
          "output_type": "display_data",
          "data": {
            "application/vnd.livy.statement-meta+json": {
              "spark_pool": "spark3p3sm",
              "session_id": "43",
              "statement_id": 4,
              "state": "finished",
              "livy_statement_state": "available",
              "queued_time": "2023-06-29T21:50:10.9660207Z",
              "session_start_time": null,
              "execution_start_time": "2023-06-29T21:51:04.6846854Z",
              "execution_finish_time": "2023-06-29T21:51:04.8554676Z",
              "spark_jobs": null,
              "parent_msg_id": "8c01f3f7-46e4-47c0-921d-7bf154a4ab54"
            },
            "text/plain": "StatementMeta(spark3p3sm, 43, 4, Finished, Available)"
          },
          "metadata": {}
        }
      ],
      "metadata": {
        "jupyter": {
          "source_hidden": false,
          "outputs_hidden": false
        },
        "nteract": {
          "transient": {
            "deleting": false
          }
        }
      },
      "source": [
        "from pyspark.sql.functions import col, lit, split\r\n",
        "from pyspark.sql import functions as f\r\n",
        "import os\r\n",
        "import uuid\r\n",
        "\r\n",
        "# helper functions\r\n",
        "def _publish_to_stage2(df, destination, pk):\r\n",
        "    oea.upsert(df, destination, pk)\r\n",
        "\r\n",
        "def publish(df, stage2_destination, stage3_destination, primary_key='id'):\r\n",
        "    _publish_to_stage2(df, stage2_destination, primary_key)\r\n",
        "\r\n",
        "    spark.sql(\"set spark.sql.streaming.schemaInference=true\")\r\n",
        "    streaming_df = spark.readStream.format('delta').load(oea.to_url(stage2_destination))\r\n",
        "    # for more info on append vs complete vs update modes for structured streaming: https://spark.apache.org/docs/latest/structured-streaming-programming-guide.html#basic-concepts\r\n",
        "    query = streaming_df.writeStream.format('delta').outputMode('append').trigger(once=True).option('checkpointLocation', oea.to_url(stage2_destination) + '/_checkpoints')\r\n",
        "    query = query.start(oea.to_url(stage3_destination))\r\n",
        "    query.awaitTermination()   # block until query is terminated, with stop() or with error; A StreamingQueryException will be thrown if an exception occurs.\r\n",
        "    number_of_new_inbound_rows = query.lastProgress[\"numInputRows\"]\r\n",
        "    logger.info(f'Number of new inbound rows processed: {number_of_new_inbound_rows}')\r\n",
        "    logger.debug(query.lastProgress)\r\n",
        "    return number_of_new_inbound_rows\r\n",
        "\r\n",
        "def format_to_schema(df, column_mapping, schema, source_directory):\r\n",
        "    \"\"\" This funciton formats a dataframe to match a schema dataframe format. \r\n",
        "        Column mapping needs to be provided. If columns are missing, they are filled as none type.\r\n",
        "    \"\"\"\r\n",
        "    \r\n",
        "    # rename columns\r\n",
        "    dfSource = df.select([col(existing_col).alias(column_mapping[existing_col]) for existing_col in df.columns])\r\n",
        "    data_source = source_directory.split(os.path.sep)[2]\r\n",
        "    dfSource = dfSource.withColumn(\"data_source\", lit(data_source))\r\n",
        "    dfSource = dfSource.withColumn(\"source_directory\", lit(source_directory)) \r\n",
        "\r\n",
        "    # create missing columns with needed data type\r\n",
        "    missing_columns = [col for col in schema.names if col not in dfSource.columns]\r\n",
        "    for column in missing_columns:\r\n",
        "        dfSource = dfSource.withColumn(column, lit(None).cast(schema[column].dataType))\r\n",
        "\r\n",
        "    dfSource = dfSource.select(schema.names) # ensure column order matches\r\n",
        "\r\n",
        "    return dfSource"
      ]
    },
    {
      "cell_type": "code",
      "execution_count": 4,
      "outputs": [
        {
          "output_type": "display_data",
          "data": {
            "application/vnd.livy.statement-meta+json": {
              "spark_pool": "spark3p3sm",
              "session_id": "43",
              "statement_id": 5,
              "state": "finished",
              "livy_statement_state": "available",
              "queued_time": "2023-06-29T21:50:10.9666731Z",
              "session_start_time": null,
              "execution_start_time": "2023-06-29T21:51:05.030359Z",
              "execution_finish_time": "2023-06-29T21:51:06.1796084Z",
              "spark_jobs": null,
              "parent_msg_id": "42e5101c-4502-4643-8608-dbefea5cac25"
            },
            "text/plain": "StatementMeta(spark3p3sm, 43, 5, Finished, Available)"
          },
          "metadata": {}
        }
      ],
      "metadata": {
        "jupyter": {
          "source_hidden": false,
          "outputs_hidden": false
        },
        "nteract": {
          "transient": {
            "deleting": false
          }
        }
      },
      "source": [
        "column_names = ['id', 'course_id', 'source_resource_id', 'resource_type', 'name', 'time_open', 'time_close',\r\n",
        "                   'data_source', 'source_directory']\r\n",
        "schema = StructType([StructField(name, StringType(), nullable=True) for name in column_names])\r\n",
        "dfDimResource = spark.createDataFrame([], schema)"
      ]
    },
    {
      "cell_type": "code",
      "execution_count": 5,
      "outputs": [
        {
          "output_type": "display_data",
          "data": {
            "application/vnd.livy.statement-meta+json": {
              "spark_pool": "spark3p3sm",
              "session_id": "43",
              "statement_id": 6,
              "state": "finished",
              "livy_statement_state": "available",
              "queued_time": "2023-06-29T21:50:10.9673965Z",
              "session_start_time": null,
              "execution_start_time": "2023-06-29T21:51:06.3787533Z",
              "execution_finish_time": "2023-06-29T21:51:34.5397899Z",
              "spark_jobs": null,
              "parent_msg_id": "987ab609-cab3-4f27-906d-3530647c9105"
            },
            "text/plain": "StatementMeta(spark3p3sm, 43, 6, Finished, Available)"
          },
          "metadata": {}
        }
      ],
      "metadata": {
        "jupyter": {
          "source_hidden": false,
          "outputs_hidden": false
        },
        "nteract": {
          "transient": {
            "deleting": false
          }
        }
      },
      "source": [
        "# moodle quiz learning resource data\r\n",
        "source_directory = 'stage2/Refined/moodle/v4.1/general/quiz'\r\n",
        "dfQuiz = oea.load(source_directory)\r\n",
        "dfQuiz = dfQuiz.select(['id','course','name','timeopen','timeclose'])\r\n",
        "\r\n",
        "# map course id to SIS course id\r\n",
        "source_directory = 'stage2/Refined/moodle/v4.1/general/course'\r\n",
        "dfCourse = oea.load(source_directory)\r\n",
        "dfCourse = dfCourse.select(['id','category'])\r\n",
        "dfCourse = dfCourse.withColumnRenamed(\"id\", \"course\")\r\n",
        "dfQuiz = dfQuiz.join(dfCourse, \"course\")\r\n",
        "dfQuiz = dfQuiz.drop(\"course\")\r\n",
        "\r\n",
        "column_mapping = {'id': 'source_resource_id', 'category': 'course_id', 'name': 'name', 'timeopen': 'time_open', \r\n",
        "                'timeclose': 'time_close'}\r\n",
        "dfSource = format_to_schema(dfQuiz, column_mapping, dfDimResource.schema, source_directory)           \r\n",
        "\r\n",
        "dfSource = dfSource.withColumn(\"resource_type\", lit(\"quiz\"))\r\n",
        "dfSource = dfSource.select(dfDimResource.columns) # ensure column order matches\r\n",
        "\r\n",
        "dfDimResource = dfDimResource.union(dfSource)"
      ]
    },
    {
      "cell_type": "code",
      "execution_count": 6,
      "outputs": [
        {
          "output_type": "display_data",
          "data": {
            "application/vnd.livy.statement-meta+json": {
              "spark_pool": "spark3p3sm",
              "session_id": "43",
              "statement_id": 7,
              "state": "finished",
              "livy_statement_state": "available",
              "queued_time": "2023-06-29T21:50:10.9681295Z",
              "session_start_time": null,
              "execution_start_time": "2023-06-29T21:51:34.7091682Z",
              "execution_finish_time": "2023-06-29T21:51:38.83804Z",
              "spark_jobs": null,
              "parent_msg_id": "52ca861f-44df-4763-915a-a2689acd2d0d"
            },
            "text/plain": "StatementMeta(spark3p3sm, 43, 7, Finished, Available)"
          },
          "metadata": {}
        }
      ],
      "metadata": {
        "jupyter": {
          "source_hidden": false,
          "outputs_hidden": false
        },
        "nteract": {
          "transient": {
            "deleting": false
          }
        }
      },
      "source": [
        "# moodle assignment learning resource data\r\n",
        "source_directory = 'stage2/Refined/moodle/v4.1/general/assign'\r\n",
        "dfAssgn = oea.load(source_directory)\r\n",
        "dfAssgn = dfAssgn.select(['id','course','name','allowsubmissionsfromdate','duedate'])\r\n",
        "\r\n",
        "# map course id to SIS course id\r\n",
        "source_directory = 'stage2/Refined/moodle/v4.1/general/course'\r\n",
        "dfCourse = oea.load(source_directory)\r\n",
        "dfCourse = dfCourse.select(['id','category'])\r\n",
        "dfCourse = dfCourse.withColumnRenamed(\"id\", \"course\")\r\n",
        "dfAssgn = dfAssgn.join(dfCourse, \"course\")\r\n",
        "dfAssgn = dfAssgn.drop(\"course\")\r\n",
        "\r\n",
        "column_mapping = {'id': 'source_resource_id', 'category': 'course_id', 'name': 'name', 'allowsubmissionsfromdate': 'time_open', \r\n",
        "                'duedate': 'time_close'}\r\n",
        "dfSource = format_to_schema(dfAssgn, column_mapping, dfDimResource.schema, source_directory)           \r\n",
        "\r\n",
        "dfSource = dfSource.withColumn(\"resource_type\", lit(\"assignment\"))\r\n",
        "dfSource = dfSource.select(dfDimResource.columns) # ensure column order matches\r\n",
        "\r\n",
        "dfDimResource = dfDimResource.union(dfSource)"
      ]
    },
    {
      "cell_type": "code",
      "execution_count": 7,
      "outputs": [
        {
          "output_type": "display_data",
          "data": {
            "application/vnd.livy.statement-meta+json": {
              "spark_pool": "spark3p3sm",
              "session_id": "43",
              "statement_id": 8,
              "state": "finished",
              "livy_statement_state": "available",
              "queued_time": "2023-06-29T21:50:10.9688666Z",
              "session_start_time": null,
              "execution_start_time": "2023-06-29T21:51:38.9990705Z",
              "execution_finish_time": "2023-06-29T21:51:43.0112745Z",
              "spark_jobs": null,
              "parent_msg_id": "0edd066e-2908-4fff-ae05-b55f31608e42"
            },
            "text/plain": "StatementMeta(spark3p3sm, 43, 8, Finished, Available)"
          },
          "metadata": {}
        }
      ],
      "metadata": {
        "jupyter": {
          "source_hidden": false,
          "outputs_hidden": false
        },
        "nteract": {
          "transient": {
            "deleting": false
          }
        }
      },
      "source": [
        "# moodle lesson learning resource data\r\n",
        "source_directory = 'stage2/Refined/moodle/v4.1/general/lesson'\r\n",
        "dfLesson = oea.load(source_directory)\r\n",
        "dfLesson = dfLesson.select(['id','course','name','available','deadline'])\r\n",
        "\r\n",
        "# map course id to SIS course id\r\n",
        "source_directory = 'stage2/Refined/moodle/v4.1/general/course'\r\n",
        "dfCourse = oea.load(source_directory)\r\n",
        "dfCourse = dfCourse.select(['id','category'])\r\n",
        "dfCourse = dfCourse.withColumnRenamed(\"id\", \"course\")\r\n",
        "dfLesson = dfLesson.join(dfCourse, \"course\")\r\n",
        "dfLesson = dfLesson.drop(\"course\")\r\n",
        "\r\n",
        "column_mapping = {'id': 'source_resource_id', 'category': 'course_id', 'name': 'name', 'available': 'time_open', \r\n",
        "                'deadline': 'time_close'}\r\n",
        "dfSource = format_to_schema(dfLesson, column_mapping, dfDimResource.schema, source_directory)           \r\n",
        "\r\n",
        "dfSource = dfSource.withColumn(\"resource_type\", lit(\"lesson\"))\r\n",
        "dfSource = dfSource.select(dfDimResource.columns) # ensure column order matches\r\n",
        "\r\n",
        "dfDimResource = dfDimResource.union(dfSource)"
      ]
    },
    {
      "cell_type": "code",
      "execution_count": 20,
      "outputs": [
        {
          "output_type": "display_data",
          "data": {
            "application/vnd.livy.statement-meta+json": {
              "spark_pool": "spark3p3sm",
              "session_id": "43",
              "statement_id": 21,
              "state": "finished",
              "livy_statement_state": "available",
              "queued_time": "2023-06-29T22:09:07.4763171Z",
              "session_start_time": null,
              "execution_start_time": "2023-06-29T22:09:07.6256066Z",
              "execution_finish_time": "2023-06-29T22:09:08.2231205Z",
              "spark_jobs": null,
              "parent_msg_id": "1297ac96-5d00-4035-9eb5-c203dff26297"
            },
            "text/plain": "StatementMeta(spark3p3sm, 43, 21, Finished, Available)"
          },
          "metadata": {}
        }
      ],
      "metadata": {
        "jupyter": {
          "source_hidden": false,
          "outputs_hidden": false
        },
        "nteract": {
          "transient": {
            "deleting": false
          }
        }
      },
      "source": [
        "# canvas assignment learning resource data\r\n",
        "source_directory = 'stage2/Refined/canvas/v2.0/general/assignments'\r\n",
        "dfAssgn = oea.load(source_directory)\r\n",
        "dfAssgn = dfAssgn.select(['id', 'title', 'context_id', 'unlock_at', 'lock_at'])\r\n",
        "\r\n",
        "# map course id to SIS course id\r\n",
        "source_directory = 'stage2/Refined/canvas/v2.0/general/courses'\r\n",
        "dfCourse = oea.load(source_directory)\r\n",
        "dfCourse = dfCourse.select(['id','sis_source_id'])\r\n",
        "dfCourse = dfCourse.withColumnRenamed(\"id\", \"context_id\")\r\n",
        "dfAssgn = dfAssgn.join(dfCourse, \"context_id\")\r\n",
        "dfAssgn = dfAssgn.drop(\"context_id\")\r\n",
        "\r\n",
        "# map to schema columns\r\n",
        "column_mapping = {'id': 'source_resource_id', 'sis_source_id': 'course_id', 'title': 'name', 'unlock_at': 'time_open', \r\n",
        "                'lock_at': 'time_close'}\r\n",
        "dfSource = format_to_schema(dfAssgn, column_mapping, dfDimResource.schema, source_directory)           \r\n",
        "\r\n",
        "dfSource = dfSource.withColumn(\"resource_type\", lit(\"assignment\"))\r\n",
        "dfSource = dfSource.select(dfDimResource.columns) # ensure column order matches\r\n",
        "\r\n",
        "dfDimResource = dfDimResource.union(dfSource)"
      ]
    },
    {
      "cell_type": "code",
      "execution_count": 21,
      "outputs": [
        {
          "output_type": "display_data",
          "data": {
            "application/vnd.livy.statement-meta+json": {
              "spark_pool": "spark3p3sm",
              "session_id": "43",
              "statement_id": 22,
              "state": "finished",
              "livy_statement_state": "available",
              "queued_time": "2023-06-29T22:09:11.1903252Z",
              "session_start_time": null,
              "execution_start_time": "2023-06-29T22:09:11.3890185Z",
              "execution_finish_time": "2023-06-29T22:09:11.9514658Z",
              "spark_jobs": null,
              "parent_msg_id": "baf0e2ef-4a9a-44e9-9d8b-7f5a18c66f59"
            },
            "text/plain": "StatementMeta(spark3p3sm, 43, 22, Finished, Available)"
          },
          "metadata": {}
        }
      ],
      "metadata": {
        "jupyter": {
          "source_hidden": false,
          "outputs_hidden": false
        },
        "nteract": {
          "transient": {
            "deleting": false
          }
        },
        "collapsed": false
      },
      "source": [
        "# canvas quiz learning resource data\r\n",
        "source_directory = 'stage2/Refined/canvas/v2.0/general/quizzes'\r\n",
        "dfQuiz = oea.load(source_directory)\r\n",
        "dfQuiz = dfQuiz.select(['id', 'title', 'context_id', 'unlock_at', 'lock_at'])\r\n",
        "\r\n",
        "# map course id to SIS course id\r\n",
        "source_directory = 'stage2/Refined/canvas/v2.0/general/courses'\r\n",
        "dfCourse = oea.load(source_directory)\r\n",
        "dfCourse = dfCourse.select(['id','sis_source_id'])\r\n",
        "dfCourse = dfCourse.withColumnRenamed(\"id\", \"context_id\")\r\n",
        "dfQuiz = dfQuiz.join(dfCourse, \"context_id\")\r\n",
        "dfQuiz = dfQuiz.drop(\"context_id\")\r\n",
        "\r\n",
        "# map to schema columns\r\n",
        "column_mapping = {'id': 'source_resource_id', 'sis_source_id': 'course_id', 'title': 'name', 'unlock_at': 'time_open', \r\n",
        "                'lock_at': 'time_close'}\r\n",
        "dfSource = format_to_schema(dfQuiz, column_mapping, dfDimResource.schema, source_directory)           \r\n",
        "\r\n",
        "dfSource = dfSource.withColumn(\"resource_type\", lit(\"quiz\"))\r\n",
        "dfSource = dfSource.select(dfDimResource.columns) # ensure column order matches\r\n",
        "\r\n",
        "dfDimResource = dfDimResource.union(dfSource)"
      ]
    },
    {
      "cell_type": "code",
      "execution_count": 26,
      "outputs": [
        {
          "output_type": "display_data",
          "data": {
            "application/vnd.livy.statement-meta+json": {
              "spark_pool": "spark3p3sm",
              "session_id": "43",
              "statement_id": 27,
              "state": "finished",
              "livy_statement_state": "available",
              "queued_time": "2023-06-29T22:11:32.1736091Z",
              "session_start_time": null,
              "execution_start_time": "2023-06-29T22:11:32.3073458Z",
              "execution_finish_time": "2023-06-29T22:11:32.4989332Z",
              "spark_jobs": null,
              "parent_msg_id": "b38c04c8-c178-4899-838b-4d985298fd28"
            },
            "text/plain": "StatementMeta(spark3p3sm, 43, 27, Finished, Available)"
          },
          "metadata": {}
        }
      ],
      "metadata": {
        "jupyter": {
          "source_hidden": false,
          "outputs_hidden": false
        },
        "nteract": {
          "transient": {
            "deleting": false
          }
        },
        "collapsed": false
      },
      "source": [
        "# generate uuid\r\n",
        "uuid_udf = f.udf(lambda : str(uuid.uuid4().hex), StringType())\r\n",
        "dfDimResource = dfDimResource.withColumn('id', uuid_udf())"
      ]
    },
    {
      "cell_type": "code",
      "execution_count": 28,
      "outputs": [
        {
          "output_type": "display_data",
          "data": {
            "application/vnd.livy.statement-meta+json": {
              "spark_pool": "spark3p3sm",
              "session_id": "43",
              "statement_id": 29,
              "state": "finished",
              "livy_statement_state": "available",
              "queued_time": "2023-06-29T22:12:23.2085232Z",
              "session_start_time": null,
              "execution_start_time": "2023-06-29T22:12:23.3774093Z",
              "execution_finish_time": "2023-06-29T22:12:40.416748Z",
              "spark_jobs": null,
              "parent_msg_id": "8949c366-102f-47df-8054-02236e0d0330"
            },
            "text/plain": "StatementMeta(spark3p3sm, 43, 29, Finished, Available)"
          },
          "metadata": {}
        },
        {
          "output_type": "stream",
          "name": "stdout",
          "text": [
            "2023-06-29 22:12:39,016 - OEA - INFO - Number of new inbound rows processed: 1517\n"
          ]
        },
        {
          "output_type": "execute_result",
          "data": {
            "text/plain": "1517"
          },
          "execution_count": 59,
          "metadata": {}
        }
      ],
      "metadata": {
        "jupyter": {
          "source_hidden": false,
          "outputs_hidden": false
        },
        "nteract": {
          "transient": {
            "deleting": false
          }
        }
      },
      "source": [
        "publish(dfDimResource, 'stage2/Enriched/learning_analytics/v2.0/general/dim_resource', 'stage3/Published/learning_analytics/v2.0/general/dim_resource', primary_key='id')"
      ]
    },
    {
      "cell_type": "code",
      "execution_count": 29,
      "outputs": [
        {
          "output_type": "display_data",
          "data": {
            "application/vnd.livy.statement-meta+json": {
              "spark_pool": "spark3p3sm",
              "session_id": "43",
              "statement_id": 30,
              "state": "finished",
              "livy_statement_state": "available",
              "queued_time": "2023-06-29T22:12:49.3072336Z",
              "session_start_time": null,
              "execution_start_time": "2023-06-29T22:12:49.461429Z",
              "execution_finish_time": "2023-06-29T22:12:50.1211001Z",
              "spark_jobs": null,
              "parent_msg_id": "53348df9-7aa8-475d-aa05-2d995924b20a"
            },
            "text/plain": "StatementMeta(spark3p3sm, 43, 30, Finished, Available)"
          },
          "metadata": {}
        }
      ],
      "metadata": {
        "jupyter": {
          "source_hidden": false,
          "outputs_hidden": false
        },
        "nteract": {
          "transient": {
            "deleting": false
          }
        }
      },
      "source": [
        "oea.add_to_lake_db(f'stage3/Published/learning_analytics/v2.0/general/dim_resource')"
      ]
    },
    {
      "cell_type": "code",
      "execution_count": 27,
      "outputs": [
        {
          "output_type": "display_data",
          "data": {
            "application/vnd.livy.statement-meta+json": {
              "spark_pool": "spark3p3sm",
              "session_id": "43",
              "statement_id": 28,
              "state": "finished",
              "livy_statement_state": "available",
              "queued_time": "2023-06-29T22:12:18.1240906Z",
              "session_start_time": null,
              "execution_start_time": "2023-06-29T22:12:18.3440631Z",
              "execution_finish_time": "2023-06-29T22:12:18.9136253Z",
              "spark_jobs": null,
              "parent_msg_id": "5a2d98c9-2be2-4dd3-8187-ada67062505d"
            },
            "text/plain": "StatementMeta(spark3p3sm, 43, 28, Finished, Available)"
          },
          "metadata": {}
        }
      ],
      "metadata": {
        "jupyter": {
          "source_hidden": false,
          "outputs_hidden": false
        },
        "nteract": {
          "transient": {
            "deleting": false
          }
        }
      },
      "source": [
        "# oea.rm_if_exists('stage2/Enriched/learning_analytics')\r\n",
        "# oea.rm_if_exists('stage3/Published/learning_analytics')"
      ]
    }
  ]
}