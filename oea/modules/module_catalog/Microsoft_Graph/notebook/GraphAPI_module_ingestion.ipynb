{
  "cells": [
    {
      "cell_type": "markdown",
      "source": [
        "# Graph API Module Example Notebook\r\n"
      ],
      "metadata": {
        "nteract": {
          "transient": {
            "deleting": false
          }
        }
      }
    },
    {
      "cell_type": "code",
      "source": [
        "%run /OEA_py"
      ],
      "outputs": [
        {
          "output_type": "display_data",
          "data": {
            "application/vnd.livy.statement-meta+json": {
              "spark_pool": null,
              "session_id": 85,
              "statement_id": -1,
              "state": "finished",
              "livy_statement_state": "available",
              "queued_time": "2021-12-02T15:50:30.6149061Z",
              "session_start_time": null,
              "execution_start_time": "2021-12-02T15:53:03.1269958Z",
              "execution_finish_time": "2021-12-02T15:53:03.1271629Z"
            },
            "text/plain": "StatementMeta(, 85, -1, Finished, Available)"
          },
          "metadata": {}
        },
        {
          "output_type": "stream",
          "name": "stdout",
          "text": [
            "2021-12-02 15:53:02,485 - OEA - DEBUG - OEA initialized.\nOEA initialized."
          ]
        }
      ],
      "execution_count": 1,
      "metadata": {
        "jupyter": {
          "source_hidden": false,
          "outputs_hidden": false
        },
        "nteract": {
          "transient": {
            "deleting": false
          }
        }
      }
    },
    {
      "cell_type": "code",
      "source": [
        "%run /GraphAPI_py"
      ],
      "outputs": [
        {
          "output_type": "display_data",
          "data": {
            "application/vnd.livy.statement-meta+json": {
              "spark_pool": null,
              "session_id": 85,
              "statement_id": -1,
              "state": "finished",
              "livy_statement_state": "available",
              "queued_time": "2021-12-02T15:50:31.8598541Z",
              "session_start_time": null,
              "execution_start_time": "2021-12-02T15:53:03.6471222Z",
              "execution_finish_time": "2021-12-02T15:53:03.6472594Z"
            },
            "text/plain": "StatementMeta(, 85, -1, Finished, Available)"
          },
          "metadata": {}
        }
      ],
      "execution_count": 2,
      "metadata": {
        "jupyter": {
          "source_hidden": false,
          "outputs_hidden": false
        },
        "nteract": {
          "transient": {
            "deleting": false
          }
        }
      }
    },
    {
      "cell_type": "code",
      "source": [
        "# 0) Initialize the OEA framework and modules needed.\r\n",
        "oea = OEA()\r\n",
        "graphapi = GraphAPI()"
      ],
      "outputs": [
        {
          "output_type": "display_data",
          "data": {
            "application/vnd.livy.statement-meta+json": {
              "spark_pool": "medium",
              "session_id": 85,
              "statement_id": 3,
              "state": "finished",
              "livy_statement_state": "available",
              "queued_time": "2021-12-02T15:50:33.8769109Z",
              "session_start_time": null,
              "execution_start_time": "2021-12-02T15:53:03.7538545Z",
              "execution_finish_time": "2021-12-02T15:53:03.9107556Z"
            },
            "text/plain": "StatementMeta(medium, 85, 3, Finished, Available)"
          },
          "metadata": {}
        },
        {
          "output_type": "stream",
          "name": "stdout",
          "text": [
            "2021-12-02 15:53:03,730 - OEA - DEBUG - OEA initialized.\nOEA initialized."
          ]
        }
      ],
      "execution_count": 3,
      "metadata": {
        "jupyter": {
          "source_hidden": false,
          "outputs_hidden": false
        },
        "nteract": {
          "transient": {
            "deleting": false
          }
        }
      }
    },
    {
      "cell_type": "markdown",
      "source": [
        "## Using Actual Data\r\n",
        "\r\n",
        "### 1. Processing Graph API Actual Data"
      ],
      "metadata": {
        "nteract": {
          "transient": {
            "deleting": false
          }
        }
      }
    },
    {
      "cell_type": "code",
      "source": [
        "graphapi.ingest()"
      ],
      "outputs": [
        {
          "output_type": "display_data",
          "data": {
            "application/vnd.livy.statement-meta+json": {
              "spark_pool": "medium",
              "session_id": 85,
              "statement_id": 5,
              "state": "finished",
              "livy_statement_state": "available",
              "queued_time": "2021-12-02T15:56:06.0160412Z",
              "session_start_time": null,
              "execution_start_time": "2021-12-02T15:56:06.1866959Z",
              "execution_finish_time": "2021-12-02T15:57:00.6598144Z"
            },
            "text/plain": "StatementMeta(medium, 85, 5, Finished, Available)"
          },
          "metadata": {}
        },
        {
          "output_type": "stream",
          "name": "stdout",
          "text": [
            "Processing microsoft_graph data from: abfss://stage1np@stoeahybriddev2.dfs.core.windows.net/graph_api\nProcessing microsoft_graph m365 data from: abfss://stage1np@stoeahybriddev2.dfs.core.windows.net/graph_api/m365_app_user_detail\n{'id': '3282a337-cfe2-4164-901f-43007647f06c', 'runId': 'e04f7db6-e670-4ac3-b18a-c8460b7a15e2', 'name': None, 'timestamp': '2021-12-02T15:56:18.859Z', 'batchId': 0, 'numInputRows': 497, 'processedRowsPerSecond': 42.86700017250302, 'durationMs': {'addBatch': 8988, 'getBatch': 644, 'getOffset': 1060, 'queryPlanning': 308, 'triggerExecution': 11594, 'walCommit': 277}, 'stateOperators': [], 'sources': [{'description': 'FileStreamSource[abfss://stage1np@stoeahybriddev2.dfs.core.windows.net/graph_api/m365_app_user_detail/*/*.json]', 'startOffset': None, 'endOffset': {'logOffset': 0}, 'numInputRows': 497, 'processedRowsPerSecond': 42.86700017250302}], 'sink': {'description': 'DeltaSink[abfss://stage2p@stoeahybriddev2.dfs.core.windows.net/graph_api/m365_app_user_detail_pseudo]'}}\n{'id': 'a085e5d9-8d86-4d77-b2dd-51713bfc740f', 'runId': '3abafcc9-e033-463a-8c5b-1f1aa120d86e', 'name': None, 'timestamp': '2021-12-02T15:56:31.109Z', 'batchId': 0, 'numInputRows': 497, 'processedRowsPerSecond': 69.86224346359292, 'durationMs': {'addBatch': 4371, 'getBatch': 767, 'getOffset': 1014, 'queryPlanning': 361, 'triggerExecution': 7114, 'walCommit': 291}, 'stateOperators': [], 'sources': [{'description': 'FileStreamSource[abfss://stage1np@stoeahybriddev2.dfs.core.windows.net/graph_api/m365_app_user_detail/*/*.json]', 'startOffset': None, 'endOffset': {'logOffset': 0}, 'numInputRows': 497, 'processedRowsPerSecond': 69.86224346359292}], 'sink': {'description': 'DeltaSink[abfss://stage2np@stoeahybriddev2.dfs.core.windows.net/graph_api/m365_app_user_detail_lookup]'}}\nProcessing microsoft_graph teams data from: abfss://stage1np@stoeahybriddev2.dfs.core.windows.net/graph_api/teams_activity_user_detail\n{'id': 'b9147f88-5be5-4914-aa70-3d202407c5ae', 'runId': '7b7ca8a5-924a-437b-a0ec-f8e996f5326c', 'name': None, 'timestamp': '2021-12-02T15:56:40.687Z', 'batchId': 0, 'numInputRows': 497, 'processedRowsPerSecond': 89.6626375608876, 'durationMs': {'addBatch': 2496, 'getBatch': 679, 'getOffset': 980, 'queryPlanning': 83, 'triggerExecution': 5543, 'walCommit': 724}, 'stateOperators': [], 'sources': [{'description': 'FileStreamSource[abfss://stage1np@stoeahybriddev2.dfs.core.windows.net/graph_api/teams_activity_user_detail/*/*.json]', 'startOffset': None, 'endOffset': {'logOffset': 0}, 'numInputRows': 497, 'processedRowsPerSecond': 89.6626375608876}], 'sink': {'description': 'DeltaSink[abfss://stage2p@stoeahybriddev2.dfs.core.windows.net/graph_api/teams_activity_user_detail_pseudo]'}}\n{'id': '8c70916e-6aad-484c-a576-3983c1d2661e', 'runId': '74e73643-ef61-47a4-b579-c1d45ac9eb63', 'name': None, 'timestamp': '2021-12-02T15:56:46.857Z', 'batchId': 0, 'numInputRows': 497, 'processedRowsPerSecond': 110.91274269136353, 'durationMs': {'addBatch': 2092, 'getBatch': 762, 'getOffset': 939, 'queryPlanning': 65, 'triggerExecution': 4481, 'walCommit': 248}, 'stateOperators': [], 'sources': [{'description': 'FileStreamSource[abfss://stage1np@stoeahybriddev2.dfs.core.windows.net/graph_api/teams_activity_user_detail/*/*.json]', 'startOffset': None, 'endOffset': {'logOffset': 0}, 'numInputRows': 497, 'processedRowsPerSecond': 110.91274269136353}], 'sink': {'description': 'DeltaSink[abfss://stage2np@stoeahybriddev2.dfs.core.windows.net/graph_api/teams_activity_user_detail_lookup]'}}\nProcessing microsoft_graph users data from: abfss://stage1np@stoeahybriddev2.dfs.core.windows.net/graph_api/users\n{'id': 'fe1b1605-4cff-4b30-b846-2a2458d7d142', 'runId': 'bd878ca9-cfdb-43de-b3fa-0d51aa38f397', 'name': None, 'timestamp': '2021-12-02T15:56:52.509Z', 'batchId': 0, 'numInputRows': 71, 'processedRowsPerSecond': 22.669220945083012, 'durationMs': {'addBatch': 1927, 'getBatch': 79, 'getOffset': 343, 'queryPlanning': 29, 'triggerExecution': 3132, 'walCommit': 393}, 'stateOperators': [], 'sources': [{'description': 'FileStreamSource[abfss://stage1np@stoeahybriddev2.dfs.core.windows.net/graph_api/users/*/*.json]', 'startOffset': None, 'endOffset': {'logOffset': 0}, 'numInputRows': 71, 'processedRowsPerSecond': 22.669220945083012}], 'sink': {'description': 'DeltaSink[abfss://stage2p@stoeahybriddev2.dfs.core.windows.net/graph_api/users_pseudo]'}}\n{'id': '9b9ef13d-0382-425c-af58-aee5e82c2d7f', 'runId': '1f6a380d-c410-40f0-9f2c-67dc3bbb62d9', 'name': None, 'timestamp': '2021-12-02T15:56:56.263Z', 'batchId': 0, 'numInputRows': 71, 'processedRowsPerSecond': 24.340075419952008, 'durationMs': {'addBatch': 1839, 'getBatch': 69, 'getOffset': 402, 'queryPlanning': 26, 'triggerExecution': 2917, 'walCommit': 247}, 'stateOperators': [], 'sources': [{'description': 'FileStreamSource[abfss://stage1np@stoeahybriddev2.dfs.core.windows.net/graph_api/users/*/*.json]', 'startOffset': None, 'endOffset': {'logOffset': 0}, 'numInputRows': 71, 'processedRowsPerSecond': 24.340075419952008}], 'sink': {'description': 'DeltaSink[abfss://stage2np@stoeahybriddev2.dfs.core.windows.net/graph_api/users_lookup]'}}\nFinished processing graphapi data from stage 1 to stage 2"
          ]
        }
      ],
      "execution_count": 5,
      "metadata": {
        "jupyter": {
          "source_hidden": false,
          "outputs_hidden": false
        },
        "nteract": {
          "transient": {
            "deleting": false
          }
        }
      }
    },
    {
      "cell_type": "markdown",
      "source": [
        "##"
      ],
      "metadata": {
        "nteract": {
          "transient": {
            "deleting": false
          }
        }
      }
    }
  ],
  "metadata": {
    "kernelspec": {
      "name": "synapse_pyspark",
      "language": "Python",
      "display_name": "Synapse PySpark"
    },
    "language_info": {
      "name": "python"
    },
    "kernel_info": {
      "name": "synapse_pyspark"
    },
    "description": null,
    "save_output": true,
    "synapse_widget": {
      "version": "0.1",
      "state": {}
    }
  },
  "nbformat": 4,
  "nbformat_minor": 2
}