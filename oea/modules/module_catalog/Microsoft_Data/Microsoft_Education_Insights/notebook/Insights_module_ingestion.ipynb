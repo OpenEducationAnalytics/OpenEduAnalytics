{
  "nbformat": 4,
  "nbformat_minor": 2,
  "metadata": {
    "kernelspec": {
      "name": "synapse_pyspark",
      "display_name": "Synapse PySpark"
    },
    "language_info": {
      "name": "python"
    },
    "description": null,
    "save_output": true,
    "synapse_widget": {
      "version": "0.1",
      "state": {}
    }
  },
  "cells": [
    {
      "cell_type": "markdown",
      "metadata": {
        "nteract": {
          "transient": {
            "deleting": false
          }
        }
      },
      "source": [
        "# Microsoft Insights Module Example Notebook"
      ]
    },
    {
      "cell_type": "code",
      "execution_count": 5,
      "outputs": [
        {
          "output_type": "display_data",
          "data": {
            "application/vnd.livy.statement-meta+json": {
              "spark_pool": null,
              "session_id": "13",
              "statement_id": -1,
              "state": "finished",
              "livy_statement_state": "available",
              "queued_time": "2022-08-23T16:31:16.1716671Z",
              "session_start_time": null,
              "execution_start_time": "2022-08-23T16:31:23.3315985Z",
              "execution_finish_time": "2022-08-23T16:31:23.3319487Z",
              "spark_jobs": null
            },
            "text/plain": "StatementMeta(, 13, -1, Finished, Available)"
          },
          "metadata": {}
        },
        {
          "output_type": "stream",
          "name": "stdout",
          "text": [
            "2022-08-23 16:31:22,115 - OEA - DEBUG - OEA initialized.\n2022-08-23 16:31:22,115 - OEA - DEBUG - OEA initialized.\n2022-08-23 16:31:22,115 - OEA - DEBUG - OEA initialized.\nOEA initialized.\n"
          ]
        }
      ],
      "metadata": {
        "jupyter": {
          "source_hidden": false,
          "outputs_hidden": false
        },
        "nteract": {
          "transient": {
            "deleting": false
          }
        }
      },
      "source": [
        "%run /OEA_py"
      ]
    },
    {
      "cell_type": "code",
      "execution_count": 6,
      "outputs": [
        {
          "output_type": "display_data",
          "data": {
            "application/vnd.livy.statement-meta+json": {
              "spark_pool": null,
              "session_id": "13",
              "statement_id": -1,
              "state": "finished",
              "livy_statement_state": "available",
              "queued_time": "2022-08-23T16:31:16.4469353Z",
              "session_start_time": null,
              "execution_start_time": "2022-08-23T16:31:23.7653275Z",
              "execution_finish_time": "2022-08-23T16:31:23.7655654Z",
              "spark_jobs": null
            },
            "text/plain": "StatementMeta(, 13, -1, Finished, Available)"
          },
          "metadata": {}
        }
      ],
      "metadata": {
        "jupyter": {
          "source_hidden": false,
          "outputs_hidden": false
        },
        "nteract": {
          "transient": {
            "deleting": false
          }
        }
      },
      "source": [
        "%run /Insights_py"
      ]
    },
    {
      "cell_type": "code",
      "execution_count": 7,
      "outputs": [
        {
          "output_type": "display_data",
          "data": {
            "application/vnd.livy.statement-meta+json": {
              "spark_pool": "spark3p1sm",
              "session_id": "13",
              "statement_id": 8,
              "state": "finished",
              "livy_statement_state": "cancelled",
              "queued_time": "2022-08-23T16:31:17.2006245Z",
              "session_start_time": null,
              "execution_start_time": "2022-08-23T16:31:23.9005953Z",
              "execution_finish_time": "2022-08-23T16:31:25.564502Z",
              "spark_jobs": null
            },
            "text/plain": "StatementMeta(spark3p1sm, 13, 8, Finished, Cancelled)"
          },
          "metadata": {}
        }
      ],
      "metadata": {
        "jupyter": {
          "source_hidden": false,
          "outputs_hidden": false
        },
        "nteract": {
          "transient": {
            "deleting": false
          }
        }
      },
      "source": [
        "# 0) Initialize the OEA framework and Insights module class notebook.\r\n",
        "oea = OEA()\r\n",
        "insights = Insights()"
      ]
    },
    {
      "cell_type": "code",
      "execution_count": null,
      "outputs": [
        {
          "output_type": "display_data",
          "data": {
            "application/vnd.livy.statement-meta+json": {
              "spark_pool": null,
              "session_id": null,
              "statement_id": null,
              "state": "cancelled",
              "livy_statement_state": null,
              "queued_time": "2022-08-23T16:31:17.5695111Z",
              "session_start_time": null,
              "execution_start_time": null,
              "execution_finish_time": "2022-08-23T16:31:24.9665771Z",
              "spark_jobs": null
            },
            "text/plain": "StatementMeta(, , , Cancelled, )"
          },
          "metadata": {}
        }
      ],
      "metadata": {
        "jupyter": {
          "source_hidden": false,
          "outputs_hidden": false
        },
        "nteract": {
          "transient": {
            "deleting": false
          }
        }
      },
      "source": [
        "insights.ingest()"
      ]
    },
    {
      "cell_type": "code",
      "execution_count": null,
      "outputs": [],
      "metadata": {
        "jupyter": {
          "source_hidden": false,
          "outputs_hidden": false
        },
        "nteract": {
          "transient": {
            "deleting": false
          }
        }
      },
      "source": []
    }
  ]
}