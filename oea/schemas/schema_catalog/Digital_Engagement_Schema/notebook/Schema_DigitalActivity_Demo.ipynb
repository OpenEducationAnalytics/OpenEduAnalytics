{
  "nbformat": 4,
  "nbformat_minor": 2,
  "metadata": {
    "kernelspec": {
      "name": "synapse_pyspark",
      "display_name": "Synapse PySpark"
    },
    "language_info": {
      "name": "python"
    },
    "description": null,
    "save_output": true,
    "synapse_widget": {
      "version": "0.1",
      "state": {}
    }
  },
  "cells": [
    {
      "cell_type": "markdown",
      "metadata": {
        "nteract": {
          "transient": {
            "deleting": false
          }
        }
      },
      "source": [
        "# Digital Activity Schema Demo Notebook\r\n",
        "\r\n",
        "This notebook is intended to explore the capabilities of the OEA schema standardization process to applicable modules (e.g. Education Insights Module, Graph Reports API Module, Clever Module, i-Ready Module). \r\n",
        "\r\n",
        "__It is highly recommended you review and pull the test data from the Insights, Graph, Clever, and i-Ready modules, before testing these schema standardization notebooks.__ \r\n",
        "\r\n",
        "Below describes the execution process of the notebook:\r\n",
        "\r\n",
        " - First initialize the OEA and Digital Activity Schema Standard class notebooks\r\n",
        " - Then the notebook processes the Insights module data ingested to stage 2, by re-writing the schema to only pull digital activity data.\r\n",
        " - The same process is executed for the Graph API module data - specifically for the M365 and Teams queries from the module.\r\n",
        " - The same process is executed for the Clever module data.\r\n",
        " - The same process is executed for the i-Ready module data - specifically for the Comprehensive Student Lesson Activity with Standards tables from the module."
      ]
    },
    {
      "cell_type": "code",
      "execution_count": null,
      "outputs": [],
      "metadata": {
        "jupyter": {
          "source_hidden": false,
          "outputs_hidden": false
        },
        "nteract": {
          "transient": {
            "deleting": false
          }
        },
        "tags": [
          "parameters"
        ]
      },
      "source": [
        "write_location=''\r\n",
        "data_sources='{}'"
      ]
    },
    {
      "cell_type": "code",
      "execution_count": 1,
      "outputs": [
        {
          "output_type": "display_data",
          "data": {
            "application/vnd.livy.statement-meta+json": {
              "spark_pool": null,
              "session_id": "34",
              "statement_id": -1,
              "state": "finished",
              "livy_statement_state": "available",
              "queued_time": "2022-08-24T17:44:59.5828368Z",
              "session_start_time": null,
              "execution_start_time": "2022-08-24T17:46:31.0316598Z",
              "execution_finish_time": "2022-08-24T17:46:31.0318969Z",
              "spark_jobs": null
            },
            "text/plain": "StatementMeta(, 34, -1, Finished, Available)"
          },
          "metadata": {}
        },
        {
          "output_type": "stream",
          "name": "stdout",
          "text": [
            "2022-08-24 17:46:29,669 - OEA - DEBUG - OEA initialized.\nOEA initialized.\n"
          ]
        }
      ],
      "metadata": {
        "jupyter": {
          "source_hidden": false,
          "outputs_hidden": false
        },
        "nteract": {
          "transient": {
            "deleting": false
          }
        }
      },
      "source": [
        "%run /OEA_py"
      ]
    },
    {
      "cell_type": "code",
      "execution_count": 23,
      "outputs": [
        {
          "output_type": "display_data",
          "data": {
            "application/vnd.livy.statement-meta+json": {
              "spark_pool": null,
              "session_id": "34",
              "statement_id": -1,
              "state": "finished",
              "livy_statement_state": "available",
              "queued_time": "2022-08-24T17:50:30.4169367Z",
              "session_start_time": null,
              "execution_start_time": "2022-08-24T17:50:31.0942312Z",
              "execution_finish_time": "2022-08-24T17:50:31.0944422Z",
              "spark_jobs": null
            },
            "text/plain": "StatementMeta(, 34, -1, Finished, Available)"
          },
          "metadata": {}
        }
      ],
      "metadata": {
        "jupyter": {
          "source_hidden": false,
          "outputs_hidden": false
        },
        "nteract": {
          "transient": {
            "deleting": false
          }
        }
      },
      "source": [
        "%run /Schema_DigitalActivity_py"
      ]
    },
    {
      "cell_type": "code",
      "execution_count": 24,
      "outputs": [
        {
          "output_type": "display_data",
          "data": {
            "application/vnd.livy.statement-meta+json": {
              "spark_pool": "sparkMed",
              "session_id": "34",
              "statement_id": 24,
              "state": "finished",
              "livy_statement_state": "available",
              "queued_time": "2022-08-24T17:50:32.8503253Z",
              "session_start_time": null,
              "execution_start_time": "2022-08-24T17:50:33.0041475Z",
              "execution_finish_time": "2022-08-24T17:50:39.9130406Z",
              "spark_jobs": null
            },
            "text/plain": "StatementMeta(sparkMed, 34, 24, Finished, Available)"
          },
          "metadata": {}
        },
        {
          "output_type": "stream",
          "name": "stdout",
          "text": [
            "2022-08-24 17:50:38,768 - OEA - DEBUG - OEA initialized.\n2022-08-24 17:50:38,768 - OEA - DEBUG - OEA initialized.\n2022-08-24 17:50:38,768 - OEA - DEBUG - OEA initialized.\nOEA initialized.\n"
          ]
        }
      ],
      "metadata": {
        "jupyter": {
          "source_hidden": false,
          "outputs_hidden": false
        },
        "nteract": {
          "transient": {
            "deleting": false
          }
        }
      },
      "source": [
        "# 0) Initialize the OEA framework and modules needed.\r\n",
        "oea = OEA()\r\n",
        "digAct = DigitalActivity()"
      ]
    },
    {
      "cell_type": "code",
      "execution_count": 25,
      "outputs": [
        {
          "output_type": "display_data",
          "data": {
            "application/vnd.livy.statement-meta+json": {
              "spark_pool": "sparkMed",
              "session_id": "34",
              "statement_id": 25,
              "state": "finished",
              "livy_statement_state": "available",
              "queued_time": "2022-08-24T17:50:37.1118176Z",
              "session_start_time": null,
              "execution_start_time": "2022-08-24T17:50:40.0810424Z",
              "execution_finish_time": "2022-08-24T17:50:40.230653Z",
              "spark_jobs": null
            },
            "text/plain": "StatementMeta(sparkMed, 34, 25, Finished, Available)"
          },
          "metadata": {}
        },
        {
          "output_type": "stream",
          "name": "stdout",
          "text": [
            "OEA Standard Digital Activity Schema:\n\nColumns and data types:\n\n['event_id', 'string', 'no-op']\n['event_type', 'string', 'no-op']\n['event_actor', 'string', 'no-op']\n['event_object', 'string', 'no-op']\n['event_eventTime', 'string', 'no-op']\n['entity_type', 'string', 'no-op']\n['softwareApplication_version', 'string', 'no-op']\n['generated_aggregateMeasure_metric_timeOnTaskSec', 'string', 'no-op']\n['generated_aggregateMeasure_metric_numAccess', 'string', 'no-op']\n['generated_aggregateMeasure_metric_used', 'string', 'no-op']\n['generated_aggregateMeasure_metric_activityReportPeriod', 'string', 'no-op']\n\nColumn descriptions:\n\n['schema_source', 'https://www.imsglobal.org/spec/caliper/v1p2#tooluseevent']\n['event_id', 'unique ID used as a signal key']\n['event_type', 'type of activity event']\n['event_actor', 'student or teacher that created the signal']\n['event_object', 'entity that comprises the object of the interaction']\n['event_eventTime', 'date/timestamp of the activity signal']\n['entity_type', 'value that describes the properties of the user agent hosting this SoftwareApplication.']\n['softwareApplication_version', 'value that describes the properties of the user agent hosting this SoftwareApplication.']\n['generated_aggregateMeasure_metric_timeOnTaskSec', 'time on task in seconds']\n['generated_aggregateMeasure_metric_numAccess', 'number of accesses']\n['generated_aggregateMeasure_metric_used', 'used true or false']\n['generated_aggregateMeasure_metric_activityReportPeriod', 'activity data collected is reported over this number of days']\n"
          ]
        }
      ],
      "metadata": {
        "jupyter": {
          "source_hidden": false,
          "outputs_hidden": false
        },
        "nteract": {
          "transient": {
            "deleting": false
          }
        }
      },
      "source": [
        "digAct.get_digital_activity_schema()"
      ]
    },
    {
      "cell_type": "code",
      "execution_count": 26,
      "outputs": [
        {
          "output_type": "display_data",
          "data": {
            "application/vnd.livy.statement-meta+json": {
              "spark_pool": "sparkMed",
              "session_id": "34",
              "statement_id": 26,
              "state": "finished",
              "livy_statement_state": "available",
              "queued_time": "2022-08-24T17:50:39.4274017Z",
              "session_start_time": null,
              "execution_start_time": "2022-08-24T17:50:40.3350536Z",
              "execution_finish_time": "2022-08-24T17:50:40.5093894Z",
              "spark_jobs": null
            },
            "text/plain": "StatementMeta(sparkMed, 34, 26, Finished, Available)"
          },
          "metadata": {}
        },
        {
          "output_type": "stream",
          "name": "stdout",
          "text": [
            "2022-08-24 17:50:40,349 - OEA - INFO - Deleted abfss://stage2p@stoeacisd3v06kw2.dfs.core.windows.net/<__main__.OEA object at 0x7ff2c02f8700>digital_activity\n2022-08-24 17:50:40,349 - OEA - INFO - Deleted abfss://stage2p@stoeacisd3v06kw2.dfs.core.windows.net/<__main__.OEA object at 0x7ff2c02f8700>digital_activity\n2022-08-24 17:50:40,349 - OEA - INFO - Deleted abfss://stage2p@stoeacisd3v06kw2.dfs.core.windows.net/<__main__.OEA object at 0x7ff2c02f8700>digital_activity\nDeleted abfss://stage2p@stoeacisd3v06kw2.dfs.core.windows.net/<__main__.OEA object at 0x7ff2c02f8700>digital_activity\n"
          ]
        }
      ],
      "metadata": {
        "jupyter": {
          "source_hidden": false,
          "outputs_hidden": false
        },
        "nteract": {
          "transient": {
            "deleting": false
          }
        }
      },
      "source": [
        "digAct.reset_digital_activity_processing()"
      ]
    },
    {
      "cell_type": "markdown",
      "metadata": {
        "nteract": {
          "transient": {
            "deleting": false
          }
        }
      },
      "source": [
        "## Education Insights Premium Module Processing"
      ]
    },
    {
      "cell_type": "code",
      "execution_count": 6,
      "outputs": [
        {
          "output_type": "display_data",
          "data": {
            "application/vnd.livy.statement-meta+json": {
              "spark_pool": "sparkMed",
              "session_id": "34",
              "statement_id": 7,
              "state": "finished",
              "livy_statement_state": "available",
              "queued_time": "2022-08-24T17:45:16.8387509Z",
              "session_start_time": null,
              "execution_start_time": "2022-08-24T17:46:39.8664992Z",
              "execution_finish_time": "2022-08-24T17:46:42.9147529Z",
              "spark_jobs": null
            },
            "text/plain": "StatementMeta(sparkMed, 34, 7, Finished, Available)"
          },
          "metadata": {}
        },
        {
          "output_type": "stream",
          "name": "stdout",
          "text": [
            "root\n |-- SignalType: string (nullable = true)\n |-- StartTime: timestamp (nullable = true)\n |-- UserAgent: string (nullable = true)\n |-- SignalId: string (nullable = true)\n |-- SisClassId: string (nullable = true)\n |-- ClassId: string (nullable = true)\n |-- ChannelId: string (nullable = true)\n |-- AppName: string (nullable = true)\n |-- ActorId_pseudonym: string (nullable = true)\n |-- ActorRole: string (nullable = true)\n |-- SchemaVersion: string (nullable = true)\n |-- AssignmentId: string (nullable = true)\n |-- SubmissionId: string (nullable = true)\n |-- Action: string (nullable = true)\n |-- DueDate: timestamp (nullable = true)\n |-- ClassCreationDate: timestamp (nullable = true)\n |-- Grade: string (nullable = true)\n |-- SourceFileExtension: string (nullable = true)\n |-- MeetingDuration: integer (nullable = true)\n |-- year: integer (nullable = true)\n |-- month: integer (nullable = true)\n\n-RECORD 0-----------------------------------\n SignalType          | OneNotePageChanged   \n StartTime           | 2021-10-06 15:08:55  \n UserAgent           | null                 \n SignalId            | 25be8545-b3e4-4e8... \n SisClassId          | null                 \n ClassId             | e415eb8c-18a2-4bf... \n ChannelId           | null                 \n AppName             | OneNote              \n ActorId_pseudonym   | b38c54c229784bb9e... \n ActorRole           | Student              \n SchemaVersion       | 1.12                 \n AssignmentId        | null                 \n SubmissionId        | null                 \n Action              | 2021-10-06 06:10:... \n DueDate             | null                 \n ClassCreationDate   | null                 \n Grade               | null                 \n SourceFileExtension | null                 \n MeetingDuration     | null                 \n year                | 2021                 \n month               | 10                   \nonly showing top 1 row\n\n"
          ]
        }
      ],
      "metadata": {
        "jupyter": {
          "source_hidden": false,
          "outputs_hidden": false
        },
        "nteract": {
          "transient": {
            "deleting": false
          }
        }
      },
      "source": [
        "dfActivity = oea.load(\"M365\",\"TechActivity_pseudo\")\r\n",
        "dfActivity.printSchema()\r\n",
        "dfActivity.show(1,vertical=True)"
      ]
    },
    {
      "cell_type": "code",
      "execution_count": 27,
      "outputs": [
        {
          "output_type": "display_data",
          "data": {
            "application/vnd.livy.statement-meta+json": {
              "spark_pool": "sparkMed",
              "session_id": "34",
              "statement_id": 27,
              "state": "finished",
              "livy_statement_state": "available",
              "queued_time": "2022-08-24T17:51:03.280534Z",
              "session_start_time": null,
              "execution_start_time": "2022-08-24T17:51:03.4495452Z",
              "execution_finish_time": "2022-08-24T17:51:07.6769881Z",
              "spark_jobs": null
            },
            "text/plain": "StatementMeta(sparkMed, 34, 27, Finished, Available)"
          },
          "metadata": {}
        },
        {
          "output_type": "stream",
          "name": "stdout",
          "text": [
            "2022-08-24 17:51:03,435 - OEA - INFO - Processing digital activity data from: stage2p/M365/TechActivity_pseudo\n2022-08-24 17:51:03,435 - OEA - INFO - Processing digital activity data from: stage2p/M365/TechActivity_pseudo\n2022-08-24 17:51:03,435 - OEA - INFO - Processing digital activity data from: stage2p/M365/TechActivity_pseudo\nProcessing digital activity data from: stage2p/M365/TechActivity_pseudo\n2022-08-24 17:51:07,201 - OEA - INFO - Complete processing from: stage2p/M365/TechActivity_pseudo\n2022-08-24 17:51:07,201 - OEA - INFO - Complete processing from: stage2p/M365/TechActivity_pseudo\n2022-08-24 17:51:07,201 - OEA - INFO - Complete processing from: stage2p/M365/TechActivity_pseudo\nComplete processing from: stage2p/M365/TechActivity_pseudo\n"
          ]
        }
      ],
      "metadata": {
        "jupyter": {
          "source_hidden": false,
          "outputs_hidden": false
        },
        "nteract": {
          "transient": {
            "deleting": false
          }
        }
      },
      "source": [
        "schemaMapping = [['event_id', 'SignalId'],\r\n",
        "                        ['event_type', 'SignalType'], \r\n",
        "                        ['event_actor', 'ActorId_pseudonym'],\r\n",
        "                        ['event_object', 'MS_Insights'],\r\n",
        "                        ['event_eventTime', 'StartTime'],\r\n",
        "                        ['entity_type', 'AppName'],\r\n",
        "                        ['softwareApplication_version', 'SchemaVersion'],\r\n",
        "                        ['generated_aggregateMeasure_metric_timeOnTaskSec', 'MeetingDuration']]\r\n",
        "\r\n",
        "source_path = 'stage2p/M365/TechActivity_pseudo'\r\n",
        "digAct.process_digital_activity(source_path, schemaMapping)"
      ]
    },
    {
      "cell_type": "markdown",
      "metadata": {
        "nteract": {
          "transient": {
            "deleting": false
          }
        }
      },
      "source": [
        "## Graph Reports API Module Processing\r\n",
        "\r\n",
        "### M365 Query Processing"
      ]
    },
    {
      "cell_type": "code",
      "execution_count": 28,
      "outputs": [
        {
          "output_type": "display_data",
          "data": {
            "application/vnd.livy.statement-meta+json": {
              "spark_pool": "sparkMed",
              "session_id": "34",
              "statement_id": 28,
              "state": "finished",
              "livy_statement_state": "available",
              "queued_time": "2022-08-24T17:51:12.208076Z",
              "session_start_time": null,
              "execution_start_time": "2022-08-24T17:51:12.316521Z",
              "execution_finish_time": "2022-08-24T17:51:12.5096165Z",
              "spark_jobs": null
            },
            "text/plain": "StatementMeta(sparkMed, 34, 28, Finished, Available)"
          },
          "metadata": {}
        }
      ],
      "metadata": {
        "jupyter": {
          "source_hidden": false,
          "outputs_hidden": false
        },
        "nteract": {
          "transient": {
            "deleting": false
          }
        }
      },
      "source": [
        "dfGraph_M365 = oea.load(\"graph_api\",\"m365_app_user_detail_pseudo\")"
      ]
    },
    {
      "cell_type": "code",
      "execution_count": 29,
      "outputs": [
        {
          "output_type": "display_data",
          "data": {
            "application/vnd.livy.statement-meta+json": {
              "spark_pool": "sparkMed",
              "session_id": "34",
              "statement_id": 29,
              "state": "finished",
              "livy_statement_state": "available",
              "queued_time": "2022-08-24T17:51:13.671751Z",
              "session_start_time": null,
              "execution_start_time": "2022-08-24T17:51:14.0196055Z",
              "execution_finish_time": "2022-08-24T17:51:15.9820181Z",
              "spark_jobs": null
            },
            "text/plain": "StatementMeta(sparkMed, 34, 29, Finished, Available)"
          },
          "metadata": {}
        }
      ],
      "metadata": {
        "jupyter": {
          "source_hidden": false,
          "outputs_hidden": false
        },
        "nteract": {
          "transient": {
            "deleting": false
          }
        },
        "collapsed": false
      },
      "source": [
        "import pandas as pd\r\n",
        "dfPand = dfGraph_M365.toPandas()\r\n",
        "dfPandMelt = dfPand.melt(id_vars = ['userPrincipalName_pseudonym', 'reportRefreshDate', 'reportPeriod'],value_vars = ['excel','oneNote', 'outlook', 'powerPoint', 'teams', 'word'],var_name='m365_app_name',value_name='used')\r\n",
        "dfGraph_M365 = spark.createDataFrame(dfPandMelt)"
      ]
    },
    {
      "cell_type": "code",
      "execution_count": 30,
      "outputs": [
        {
          "output_type": "display_data",
          "data": {
            "application/vnd.livy.statement-meta+json": {
              "spark_pool": "sparkMed",
              "session_id": "34",
              "statement_id": 30,
              "state": "finished",
              "livy_statement_state": "available",
              "queued_time": "2022-08-24T17:51:15.4773013Z",
              "session_start_time": null,
              "execution_start_time": "2022-08-24T17:51:16.1170296Z",
              "execution_finish_time": "2022-08-24T17:51:19.106185Z",
              "spark_jobs": null
            },
            "text/plain": "StatementMeta(sparkMed, 34, 30, Finished, Available)"
          },
          "metadata": {}
        }
      ],
      "metadata": {
        "jupyter": {
          "source_hidden": false,
          "outputs_hidden": false
        },
        "nteract": {
          "transient": {
            "deleting": false
          }
        }
      },
      "source": [
        "dfGraph_M365.write.save(oea.path('stage2p', directory_path=\"temp/M365\"), format='delta', mode='append', mergeSchema='true')"
      ]
    },
    {
      "cell_type": "code",
      "execution_count": 31,
      "outputs": [
        {
          "output_type": "display_data",
          "data": {
            "application/vnd.livy.statement-meta+json": {
              "spark_pool": "sparkMed",
              "session_id": "34",
              "statement_id": 31,
              "state": "finished",
              "livy_statement_state": "available",
              "queued_time": "2022-08-24T17:51:17.6500521Z",
              "session_start_time": null,
              "execution_start_time": "2022-08-24T17:51:19.4522453Z",
              "execution_finish_time": "2022-08-24T17:51:25.3456488Z",
              "spark_jobs": null
            },
            "text/plain": "StatementMeta(sparkMed, 34, 31, Finished, Available)"
          },
          "metadata": {}
        },
        {
          "output_type": "stream",
          "name": "stdout",
          "text": [
            "2022-08-24 17:51:19,444 - OEA - INFO - Processing digital activity data from: stage2p/temp/M365\n2022-08-24 17:51:19,444 - OEA - INFO - Processing digital activity data from: stage2p/temp/M365\n2022-08-24 17:51:19,444 - OEA - INFO - Processing digital activity data from: stage2p/temp/M365\nProcessing digital activity data from: stage2p/temp/M365\n2022-08-24 17:51:22,874 - OEA - INFO - Complete processing from: stage2p/temp/M365\n2022-08-24 17:51:22,874 - OEA - INFO - Complete processing from: stage2p/temp/M365\n2022-08-24 17:51:22,874 - OEA - INFO - Complete processing from: stage2p/temp/M365\nComplete processing from: stage2p/temp/M365\n"
          ]
        }
      ],
      "metadata": {
        "jupyter": {
          "source_hidden": false,
          "outputs_hidden": false
        },
        "nteract": {
          "transient": {
            "deleting": false
          }
        }
      },
      "source": [
        "schemaMapping = [['event_actor', 'userPrincipalName_pseudonym'],\r\n",
        "                        ['event_object', 'MS_GraphAPI_M365'],\r\n",
        "                        ['event_eventTime', 'reportRefreshDate'],\r\n",
        "                        ['entity_type', 'm365_app_name'],\r\n",
        "                        ['generated_aggregateMeasure_metric_used', 'used'],\r\n",
        "                        ['generated_aggregateMeasure_metric_activityReportPeriod', 'reportPeriod']]\r\n",
        "\r\n",
        "source_path = 'stage2p/temp/M365'\r\n",
        "digAct.process_digital_activity(source_path, schemaMapping)"
      ]
    },
    {
      "cell_type": "code",
      "execution_count": 32,
      "outputs": [
        {
          "output_type": "display_data",
          "data": {
            "application/vnd.livy.statement-meta+json": {
              "spark_pool": "sparkMed",
              "session_id": "34",
              "statement_id": 32,
              "state": "finished",
              "livy_statement_state": "available",
              "queued_time": "2022-08-24T17:51:23.5240781Z",
              "session_start_time": null,
              "execution_start_time": "2022-08-24T17:51:25.4695592Z",
              "execution_finish_time": "2022-08-24T17:51:25.6115947Z",
              "spark_jobs": null
            },
            "text/plain": "StatementMeta(sparkMed, 34, 32, Finished, Available)"
          },
          "metadata": {}
        }
      ],
      "metadata": {
        "jupyter": {
          "source_hidden": false,
          "outputs_hidden": false
        },
        "nteract": {
          "transient": {
            "deleting": false
          }
        }
      },
      "source": [
        "oea.rm_if_exists(oea.path('stage2p', directory_path=\"temp\"))"
      ]
    },
    {
      "cell_type": "code",
      "execution_count": 33,
      "outputs": [
        {
          "output_type": "display_data",
          "data": {
            "application/vnd.livy.statement-meta+json": {
              "spark_pool": "sparkMed",
              "session_id": "34",
              "statement_id": 33,
              "state": "finished",
              "livy_statement_state": "available",
              "queued_time": "2022-08-24T17:51:25.1184704Z",
              "session_start_time": null,
              "execution_start_time": "2022-08-24T17:51:25.7348914Z",
              "execution_finish_time": "2022-08-24T17:51:27.7138169Z",
              "spark_jobs": null
            },
            "text/plain": "StatementMeta(sparkMed, 34, 33, Finished, Available)"
          },
          "metadata": {}
        },
        {
          "output_type": "stream",
          "name": "stdout",
          "text": [
            "-RECORD 0----------------------------------------------------------------------\n event_id                                               | e1434d07-2fc4-4e2... \n event_type                                             | FileAccessed         \n event_actor                                            | 972f5667178017916... \n event_eventTime                                        | 2021-10-06 21:06:58  \n entity_type                                            | SharePoint Online    \n softwareApplication_version                            | 1.12                 \n generated_aggregateMeasure_metric_timeOnTaskSec        | null                 \n event_object                                           | MS_Insights          \n year                                                   | 2021                 \n month                                                  | 10                   \n generated_aggregateMeasure_metric_used                 | null                 \n generated_aggregateMeasure_metric_activityReportPeriod | null                 \nonly showing top 1 row\n\n-RECORD 0----------------------------------------------------------------------\n event_id                                               | null                 \n event_type                                             | null                 \n event_actor                                            | 6cb0324d1e8d57b4c... \n event_eventTime                                        | 2021-10-27           \n entity_type                                            | excel                \n softwareApplication_version                            | null                 \n generated_aggregateMeasure_metric_timeOnTaskSec        | null                 \n event_object                                           | MS_GraphAPI_M365     \n year                                                   | 2021                 \n month                                                  | 10                   \n generated_aggregateMeasure_metric_used                 | false                \n generated_aggregateMeasure_metric_activityReportPeriod | 7                    \nonly showing top 1 row\n\n"
          ]
        }
      ],
      "metadata": {
        "jupyter": {
          "source_hidden": false,
          "outputs_hidden": false
        },
        "nteract": {
          "transient": {
            "deleting": false
          }
        }
      },
      "source": [
        "# Check results\r\n",
        "schema_path = 'stage2p/digital_activity'\r\n",
        "dfDigAct = oea.load_delta(schema_path)\r\n",
        "dfDigAct.filter(dfDigAct['event_object'] == \"MS_Insights\").show(1,vertical=True)\r\n",
        "dfDigAct.filter(dfDigAct['event_object'] == \"MS_GraphAPI_M365\").show(1,vertical=True)"
      ]
    },
    {
      "cell_type": "markdown",
      "metadata": {
        "nteract": {
          "transient": {
            "deleting": false
          }
        }
      },
      "source": [
        "### Teams Query Processing"
      ]
    },
    {
      "cell_type": "code",
      "execution_count": 34,
      "outputs": [
        {
          "output_type": "display_data",
          "data": {
            "application/vnd.livy.statement-meta+json": {
              "spark_pool": "sparkMed",
              "session_id": "34",
              "statement_id": 34,
              "state": "finished",
              "livy_statement_state": "available",
              "queued_time": "2022-08-24T17:51:33.6487613Z",
              "session_start_time": null,
              "execution_start_time": "2022-08-24T17:51:34.3771766Z",
              "execution_finish_time": "2022-08-24T17:51:34.6140886Z",
              "spark_jobs": null
            },
            "text/plain": "StatementMeta(sparkMed, 34, 34, Finished, Available)"
          },
          "metadata": {}
        }
      ],
      "metadata": {
        "jupyter": {
          "source_hidden": false,
          "outputs_hidden": false
        },
        "nteract": {
          "transient": {
            "deleting": false
          }
        }
      },
      "source": [
        "dfGraph_Teams = oea.load(\"graph_api\",\"teams_activity_user_detail_pseudo\")"
      ]
    },
    {
      "cell_type": "code",
      "execution_count": 35,
      "outputs": [
        {
          "output_type": "display_data",
          "data": {
            "application/vnd.livy.statement-meta+json": {
              "spark_pool": "sparkMed",
              "session_id": "34",
              "statement_id": 35,
              "state": "finished",
              "livy_statement_state": "available",
              "queued_time": "2022-08-24T17:51:36.0146631Z",
              "session_start_time": null,
              "execution_start_time": "2022-08-24T17:51:36.1534786Z",
              "execution_finish_time": "2022-08-24T17:51:37.2201859Z",
              "spark_jobs": null
            },
            "text/plain": "StatementMeta(sparkMed, 34, 35, Finished, Available)"
          },
          "metadata": {}
        }
      ],
      "metadata": {
        "jupyter": {
          "source_hidden": false,
          "outputs_hidden": false
        },
        "nteract": {
          "transient": {
            "deleting": false
          }
        }
      },
      "source": [
        "import pandas as pd\r\n",
        "dfPand = dfGraph_Teams.toPandas()\r\n",
        "dfPandMelt = dfPand.melt(id_vars = ['userPrincipalName_pseudonym', 'reportRefreshDate', 'reportPeriod', 'videoDuration'],value_vars = ['callCount', 'meetingCount', 'meetingsAttendedCount', 'meetingsOrganizedCount', 'privateChatMessageCount', 'teamChatMessageCount'],var_name='meetings_and_messages',value_name='counts')\r\n",
        "dfGraph_Teams_counts = spark.createDataFrame(dfPandMelt)"
      ]
    },
    {
      "cell_type": "code",
      "execution_count": 36,
      "outputs": [
        {
          "output_type": "display_data",
          "data": {
            "application/vnd.livy.statement-meta+json": {
              "spark_pool": "sparkMed",
              "session_id": "34",
              "statement_id": 36,
              "state": "finished",
              "livy_statement_state": "available",
              "queued_time": "2022-08-24T17:51:37.6314358Z",
              "session_start_time": null,
              "execution_start_time": "2022-08-24T17:51:37.87296Z",
              "execution_finish_time": "2022-08-24T17:51:39.9938641Z",
              "spark_jobs": null
            },
            "text/plain": "StatementMeta(sparkMed, 34, 36, Finished, Available)"
          },
          "metadata": {}
        }
      ],
      "metadata": {
        "jupyter": {
          "source_hidden": false,
          "outputs_hidden": false
        },
        "nteract": {
          "transient": {
            "deleting": false
          }
        }
      },
      "source": [
        "dfGraph_Teams_counts.write.save(oea.path('stage2p', directory_path=\"temp\"), format='delta', mode='append', mergeSchema='true')"
      ]
    },
    {
      "cell_type": "code",
      "execution_count": 37,
      "outputs": [
        {
          "output_type": "display_data",
          "data": {
            "application/vnd.livy.statement-meta+json": {
              "spark_pool": "sparkMed",
              "session_id": "34",
              "statement_id": 37,
              "state": "finished",
              "livy_statement_state": "available",
              "queued_time": "2022-08-24T17:51:42.0266293Z",
              "session_start_time": null,
              "execution_start_time": "2022-08-24T17:51:42.1381196Z",
              "execution_finish_time": "2022-08-24T17:51:46.3751624Z",
              "spark_jobs": null
            },
            "text/plain": "StatementMeta(sparkMed, 34, 37, Finished, Available)"
          },
          "metadata": {}
        },
        {
          "output_type": "stream",
          "name": "stdout",
          "text": [
            "2022-08-24 17:51:42,122 - OEA - INFO - Processing digital activity data from: stage2p/temp\n2022-08-24 17:51:42,122 - OEA - INFO - Processing digital activity data from: stage2p/temp\n2022-08-24 17:51:42,122 - OEA - INFO - Processing digital activity data from: stage2p/temp\nProcessing digital activity data from: stage2p/temp\n2022-08-24 17:51:45,612 - OEA - INFO - Complete processing from: stage2p/temp\n2022-08-24 17:51:45,612 - OEA - INFO - Complete processing from: stage2p/temp\n2022-08-24 17:51:45,612 - OEA - INFO - Complete processing from: stage2p/temp\nComplete processing from: stage2p/temp\n"
          ]
        }
      ],
      "metadata": {
        "jupyter": {
          "source_hidden": false,
          "outputs_hidden": false
        },
        "nteract": {
          "transient": {
            "deleting": false
          }
        }
      },
      "source": [
        "schemaMapping = [['event_type', 'meetings_and_messages'],\r\n",
        "                        ['event_actor', 'userPrincipalName_pseudonym'],\r\n",
        "                        ['event_object', 'MS_GraphAPI_Teams'],\r\n",
        "                        ['event_eventTime', 'reportRefreshDate'],\r\n",
        "                        ['generated_aggregateMeasure_metric_timeOnTaskSec', 'videoDuration'],\r\n",
        "                        ['generated_aggregateMeasure_metric_numAccess', 'counts'],\r\n",
        "                        ['generated_aggregateMeasure_metric_activityReportPeriod', 'reportPeriod']]\r\n",
        "\r\n",
        "source_path = 'stage2p/temp'\r\n",
        "digAct.process_digital_activity(source_path, schemaMapping)"
      ]
    },
    {
      "cell_type": "code",
      "execution_count": 38,
      "outputs": [
        {
          "output_type": "display_data",
          "data": {
            "application/vnd.livy.statement-meta+json": {
              "spark_pool": "sparkMed",
              "session_id": "34",
              "statement_id": 38,
              "state": "finished",
              "livy_statement_state": "available",
              "queued_time": "2022-08-24T17:51:48.3725745Z",
              "session_start_time": null,
              "execution_start_time": "2022-08-24T17:51:48.5371422Z",
              "execution_finish_time": "2022-08-24T17:51:48.7391564Z",
              "spark_jobs": null
            },
            "text/plain": "StatementMeta(sparkMed, 34, 38, Finished, Available)"
          },
          "metadata": {}
        }
      ],
      "metadata": {
        "jupyter": {
          "source_hidden": false,
          "outputs_hidden": false
        },
        "nteract": {
          "transient": {
            "deleting": false
          }
        }
      },
      "source": [
        "oea.rm_if_exists(oea.path('stage2p', directory_path=\"temp\"))"
      ]
    },
    {
      "cell_type": "code",
      "execution_count": 39,
      "outputs": [
        {
          "output_type": "display_data",
          "data": {
            "application/vnd.livy.statement-meta+json": {
              "spark_pool": "sparkMed",
              "session_id": "34",
              "statement_id": 39,
              "state": "finished",
              "livy_statement_state": "available",
              "queued_time": "2022-08-24T17:51:49.9448954Z",
              "session_start_time": null,
              "execution_start_time": "2022-08-24T17:51:50.0369607Z",
              "execution_finish_time": "2022-08-24T17:51:52.0439923Z",
              "spark_jobs": null
            },
            "text/plain": "StatementMeta(sparkMed, 34, 39, Finished, Available)"
          },
          "metadata": {}
        },
        {
          "output_type": "stream",
          "name": "stdout",
          "text": [
            "-RECORD 0----------------------------------------------------------------------\n event_id                                               | e1434d07-2fc4-4e2... \n event_type                                             | FileAccessed         \n event_actor                                            | 972f5667178017916... \n event_eventTime                                        | 2021-10-06 21:06:58  \n entity_type                                            | SharePoint Online    \n softwareApplication_version                            | 1.12                 \n generated_aggregateMeasure_metric_timeOnTaskSec        | null                 \n event_object                                           | MS_Insights          \n year                                                   | 2021                 \n month                                                  | 10                   \n generated_aggregateMeasure_metric_used                 | null                 \n generated_aggregateMeasure_metric_activityReportPeriod | null                 \n generated_aggregateMeasure_metric_numAccess            | null                 \nonly showing top 1 row\n\n-RECORD 0----------------------------------------------------------------------\n event_id                                               | null                 \n event_type                                             | privateChatMessag... \n event_actor                                            | 88df69c17ecc78617... \n event_eventTime                                        | 2021-10-06           \n entity_type                                            | null                 \n softwareApplication_version                            | null                 \n generated_aggregateMeasure_metric_timeOnTaskSec        | 0                    \n event_object                                           | MS_GraphAPI_Teams    \n year                                                   | 2021                 \n month                                                  | 10                   \n generated_aggregateMeasure_metric_used                 | null                 \n generated_aggregateMeasure_metric_activityReportPeriod | 7                    \n generated_aggregateMeasure_metric_numAccess            | 9                    \nonly showing top 1 row\n\n"
          ]
        }
      ],
      "metadata": {
        "jupyter": {
          "source_hidden": false,
          "outputs_hidden": false
        },
        "nteract": {
          "transient": {
            "deleting": false
          }
        }
      },
      "source": [
        "## Check results\r\n",
        "schema_path = 'stage2p/digital_activity'\r\n",
        "dfDigAct = oea.load_delta(schema_path)\r\n",
        "dfDigAct.filter(dfDigAct['event_object'] == \"MS_Insights\").show(1,vertical=True)\r\n",
        "dfDigAct.filter(dfDigAct['event_object'] == \"MS_GraphAPI_Teams\").show(1,vertical=True)"
      ]
    },
    {
      "cell_type": "markdown",
      "metadata": {
        "nteract": {
          "transient": {
            "deleting": false
          }
        }
      },
      "source": [
        "## Clever Module Processing\r\n",
        "\r\n",
        "### Daily Participation Table Processing"
      ]
    },
    {
      "cell_type": "code",
      "execution_count": 20,
      "outputs": [
        {
          "output_type": "display_data",
          "data": {
            "application/vnd.livy.statement-meta+json": {
              "spark_pool": "sparkMed",
              "session_id": "34",
              "statement_id": 21,
              "state": "finished",
              "livy_statement_state": "available",
              "queued_time": "2022-08-24T17:46:04.3818206Z",
              "session_start_time": null,
              "execution_start_time": "2022-08-24T17:47:29.2343124Z",
              "execution_finish_time": "2022-08-24T17:47:31.2653749Z",
              "spark_jobs": null
            },
            "text/plain": "StatementMeta(sparkMed, 34, 21, Finished, Available)"
          },
          "metadata": {}
        }
      ],
      "metadata": {
        "jupyter": {
          "source_hidden": false,
          "outputs_hidden": false
        },
        "nteract": {
          "transient": {
            "deleting": false
          }
        }
      },
      "source": [
        "dfClever_Daily_Participation = oea.load(\"clever\",\"daily_participation_pseudo\")"
      ]
    },
    {
      "cell_type": "code",
      "execution_count": 40,
      "outputs": [
        {
          "output_type": "display_data",
          "data": {
            "application/vnd.livy.statement-meta+json": {
              "spark_pool": "sparkMed",
              "session_id": "34",
              "statement_id": 40,
              "state": "finished",
              "livy_statement_state": "available",
              "queued_time": "2022-08-24T17:52:09.2413584Z",
              "session_start_time": null,
              "execution_start_time": "2022-08-24T17:52:09.3537898Z",
              "execution_finish_time": "2022-08-24T17:52:13.3482842Z",
              "spark_jobs": null
            },
            "text/plain": "StatementMeta(sparkMed, 34, 40, Finished, Available)"
          },
          "metadata": {}
        },
        {
          "output_type": "stream",
          "name": "stdout",
          "text": [
            "2022-08-24 17:52:09,339 - OEA - INFO - Processing digital activity data from: stage2p/clever/daily_participation_pseudo\n2022-08-24 17:52:09,339 - OEA - INFO - Processing digital activity data from: stage2p/clever/daily_participation_pseudo\n2022-08-24 17:52:09,339 - OEA - INFO - Processing digital activity data from: stage2p/clever/daily_participation_pseudo\nProcessing digital activity data from: stage2p/clever/daily_participation_pseudo\n2022-08-24 17:52:12,632 - OEA - INFO - Complete processing from: stage2p/clever/daily_participation_pseudo\n2022-08-24 17:52:12,632 - OEA - INFO - Complete processing from: stage2p/clever/daily_participation_pseudo\n2022-08-24 17:52:12,632 - OEA - INFO - Complete processing from: stage2p/clever/daily_participation_pseudo\nComplete processing from: stage2p/clever/daily_participation_pseudo\n"
          ]
        }
      ],
      "metadata": {
        "jupyter": {
          "source_hidden": false,
          "outputs_hidden": false
        },
        "nteract": {
          "transient": {
            "deleting": false
          }
        }
      },
      "source": [
        "schemaMapping = [['event_actor', 'sis_id_pseudonym'],\r\n",
        "                        ['event_object', 'Clever_Daily_Participation'],\r\n",
        "                        ['event_eventTime', 'date'],\r\n",
        "                        ['generated_aggregateMeasure_metric_used', 'active'],\r\n",
        "                        ['generated_aggregateMeasure_metric_numAccess', 'num_logins']]\r\n",
        "\r\n",
        "source_path = 'stage2p/clever/daily_participation_pseudo'\r\n",
        "digAct.process_digital_activity(source_path, schemaMapping)"
      ]
    },
    {
      "cell_type": "code",
      "execution_count": 41,
      "outputs": [
        {
          "output_type": "display_data",
          "data": {
            "application/vnd.livy.statement-meta+json": {
              "spark_pool": "sparkMed",
              "session_id": "34",
              "statement_id": 41,
              "state": "finished",
              "livy_statement_state": "available",
              "queued_time": "2022-08-24T17:52:12.3185588Z",
              "session_start_time": null,
              "execution_start_time": "2022-08-24T17:52:13.5560214Z",
              "execution_finish_time": "2022-08-24T17:52:15.5136557Z",
              "spark_jobs": null
            },
            "text/plain": "StatementMeta(sparkMed, 34, 41, Finished, Available)"
          },
          "metadata": {}
        },
        {
          "output_type": "stream",
          "name": "stdout",
          "text": [
            "-RECORD 0----------------------------------------------------------------------\n event_id                                               | e1434d07-2fc4-4e2... \n event_type                                             | FileAccessed         \n event_actor                                            | 972f5667178017916... \n event_eventTime                                        | 2021-10-06 21:06:58  \n entity_type                                            | SharePoint Online    \n softwareApplication_version                            | 1.12                 \n generated_aggregateMeasure_metric_timeOnTaskSec        | null                 \n event_object                                           | MS_Insights          \n year                                                   | 2021                 \n month                                                  | 10                   \n generated_aggregateMeasure_metric_used                 | null                 \n generated_aggregateMeasure_metric_activityReportPeriod | null                 \n generated_aggregateMeasure_metric_numAccess            | null                 \nonly showing top 1 row\n\n-RECORD 0----------------------------------------------------------------------\n event_id                                               | null                 \n event_type                                             | null                 \n event_actor                                            | 45a712af06f93abe4... \n event_eventTime                                        | 2022-01-01           \n entity_type                                            | null                 \n softwareApplication_version                            | null                 \n generated_aggregateMeasure_metric_timeOnTaskSec        | null                 \n event_object                                           | Clever_Daily_Part... \n year                                                   | 2022                 \n month                                                  | 1                    \n generated_aggregateMeasure_metric_used                 | false                \n generated_aggregateMeasure_metric_activityReportPeriod | null                 \n generated_aggregateMeasure_metric_numAccess            | 0                    \nonly showing top 1 row\n\n"
          ]
        }
      ],
      "metadata": {
        "jupyter": {
          "source_hidden": false,
          "outputs_hidden": false
        },
        "nteract": {
          "transient": {
            "deleting": false
          }
        }
      },
      "source": [
        "## Check results\r\n",
        "schema_path = 'stage2p/digital_activity'\r\n",
        "dfDigAct = oea.load_delta(schema_path)\r\n",
        "dfDigAct.filter(dfDigAct['event_object'] == \"MS_Insights\").show(1,vertical=True)\r\n",
        "dfDigAct.filter(dfDigAct['event_object'] == \"Clever_Daily_Participation\").show(1,vertical=True)"
      ]
    },
    {
      "cell_type": "markdown",
      "metadata": {
        "nteract": {
          "transient": {
            "deleting": false
          }
        }
      },
      "source": [
        "### Resource Usage Table Processing"
      ]
    },
    {
      "cell_type": "code",
      "execution_count": 42,
      "outputs": [
        {
          "output_type": "display_data",
          "data": {
            "application/vnd.livy.statement-meta+json": {
              "spark_pool": "sparkMed",
              "session_id": "34",
              "statement_id": 42,
              "state": "finished",
              "livy_statement_state": "available",
              "queued_time": "2022-08-24T17:52:20.2815864Z",
              "session_start_time": null,
              "execution_start_time": "2022-08-24T17:52:20.4125677Z",
              "execution_finish_time": "2022-08-24T17:52:22.4062133Z",
              "spark_jobs": null
            },
            "text/plain": "StatementMeta(sparkMed, 34, 42, Finished, Available)"
          },
          "metadata": {}
        }
      ],
      "metadata": {
        "jupyter": {
          "source_hidden": false,
          "outputs_hidden": false
        },
        "nteract": {
          "transient": {
            "deleting": false
          }
        }
      },
      "source": [
        "dfClever_Resource_Usage = oea.load(\"clever\",\"resource_usage_pseudo\")"
      ]
    },
    {
      "cell_type": "code",
      "execution_count": 43,
      "outputs": [
        {
          "output_type": "display_data",
          "data": {
            "application/vnd.livy.statement-meta+json": {
              "spark_pool": "sparkMed",
              "session_id": "34",
              "statement_id": 43,
              "state": "finished",
              "livy_statement_state": "available",
              "queued_time": "2022-08-24T17:52:22.2997429Z",
              "session_start_time": null,
              "execution_start_time": "2022-08-24T17:52:22.5193976Z",
              "execution_finish_time": "2022-08-24T17:52:26.6648957Z",
              "spark_jobs": null
            },
            "text/plain": "StatementMeta(sparkMed, 34, 43, Finished, Available)"
          },
          "metadata": {}
        },
        {
          "output_type": "stream",
          "name": "stdout",
          "text": [
            "2022-08-24 17:52:22,502 - OEA - INFO - Processing digital activity data from: stage2p/clever/resource_usage_pseudo\n2022-08-24 17:52:22,502 - OEA - INFO - Processing digital activity data from: stage2p/clever/resource_usage_pseudo\n2022-08-24 17:52:22,502 - OEA - INFO - Processing digital activity data from: stage2p/clever/resource_usage_pseudo\nProcessing digital activity data from: stage2p/clever/resource_usage_pseudo\n2022-08-24 17:52:25,858 - OEA - INFO - Complete processing from: stage2p/clever/resource_usage_pseudo\n2022-08-24 17:52:25,858 - OEA - INFO - Complete processing from: stage2p/clever/resource_usage_pseudo\n2022-08-24 17:52:25,858 - OEA - INFO - Complete processing from: stage2p/clever/resource_usage_pseudo\nComplete processing from: stage2p/clever/resource_usage_pseudo\n"
          ]
        }
      ],
      "metadata": {
        "jupyter": {
          "source_hidden": false,
          "outputs_hidden": false
        },
        "nteract": {
          "transient": {
            "deleting": false
          }
        }
      },
      "source": [
        "schemaMapping = [['event_type', 'resource_type'],\r\n",
        "                        ['event_actor', 'sis_id_pseudonym'],\r\n",
        "                        ['event_object', 'Clever_Resource_Usage'],\r\n",
        "                        ['event_eventTime', 'date'],\r\n",
        "                        ['entity_type', 'resource_name'],\r\n",
        "                        ['generated_aggregateMeasure_metric_numAccess', 'num_access']]\r\n",
        "\r\n",
        "source_path = 'stage2p/clever/resource_usage_pseudo'\r\n",
        "digAct.process_digital_activity(source_path, schemaMapping)"
      ]
    },
    {
      "cell_type": "code",
      "execution_count": 44,
      "outputs": [
        {
          "output_type": "display_data",
          "data": {
            "application/vnd.livy.statement-meta+json": {
              "spark_pool": "sparkMed",
              "session_id": "34",
              "statement_id": 44,
              "state": "finished",
              "livy_statement_state": "available",
              "queued_time": "2022-08-24T17:52:25.1758499Z",
              "session_start_time": null,
              "execution_start_time": "2022-08-24T17:52:26.7707273Z",
              "execution_finish_time": "2022-08-24T17:52:28.7661463Z",
              "spark_jobs": null
            },
            "text/plain": "StatementMeta(sparkMed, 34, 44, Finished, Available)"
          },
          "metadata": {}
        },
        {
          "output_type": "stream",
          "name": "stdout",
          "text": [
            "-RECORD 0----------------------------------------------------------------------\n event_id                                               | null                 \n event_type                                             | null                 \n event_actor                                            | 45a712af06f93abe4... \n event_eventTime                                        | 2022-01-01           \n entity_type                                            | null                 \n softwareApplication_version                            | null                 \n generated_aggregateMeasure_metric_timeOnTaskSec        | null                 \n event_object                                           | Clever_Daily_Part... \n year                                                   | 2022                 \n month                                                  | 1                    \n generated_aggregateMeasure_metric_used                 | false                \n generated_aggregateMeasure_metric_activityReportPeriod | null                 \n generated_aggregateMeasure_metric_numAccess            | 0                    \nonly showing top 1 row\n\n-RECORD 0----------------------------------------------------------------------\n event_id                                               | null                 \n event_type                                             | app                  \n event_actor                                            | 41c2a72a717d28f75... \n event_eventTime                                        | 2022-01-15           \n entity_type                                            | Big Ideas Math       \n softwareApplication_version                            | null                 \n generated_aggregateMeasure_metric_timeOnTaskSec        | null                 \n event_object                                           | Clever_Resource_U... \n year                                                   | 2022                 \n month                                                  | 1                    \n generated_aggregateMeasure_metric_used                 | null                 \n generated_aggregateMeasure_metric_activityReportPeriod | null                 \n generated_aggregateMeasure_metric_numAccess            | 1                    \nonly showing top 1 row\n\n"
          ]
        }
      ],
      "metadata": {
        "jupyter": {
          "source_hidden": false,
          "outputs_hidden": false
        },
        "nteract": {
          "transient": {
            "deleting": false
          }
        }
      },
      "source": [
        "## Check results\r\n",
        "schema_path = 'stage2p/digital_activity'\r\n",
        "dfDigAct = oea.load_delta(schema_path)\r\n",
        "dfDigAct.filter(dfDigAct['event_object'] == \"Clever_Daily_Participation\").show(1,vertical=True)\r\n",
        "dfDigAct.filter(dfDigAct['event_object'] == \"Clever_Resource_Usage\").show(1,vertical=True)"
      ]
    },
    {
      "cell_type": "markdown",
      "metadata": {
        "nteract": {
          "transient": {
            "deleting": false
          }
        }
      },
      "source": [
        "## i-Ready Module Processing\r\n",
        "\r\n",
        "### Comprehensive Student Lesson Activity with Standards (ELA) Table Processing"
      ]
    },
    {
      "cell_type": "code",
      "execution_count": 45,
      "outputs": [
        {
          "output_type": "display_data",
          "data": {
            "application/vnd.livy.statement-meta+json": {
              "spark_pool": "sparkMed",
              "session_id": "34",
              "statement_id": 45,
              "state": "finished",
              "livy_statement_state": "available",
              "queued_time": "2022-08-24T17:52:44.5927896Z",
              "session_start_time": null,
              "execution_start_time": "2022-08-24T17:52:44.7764432Z",
              "execution_finish_time": "2022-08-24T17:52:46.6652489Z",
              "spark_jobs": null
            },
            "text/plain": "StatementMeta(sparkMed, 34, 45, Finished, Available)"
          },
          "metadata": {}
        }
      ],
      "metadata": {
        "jupyter": {
          "source_hidden": false,
          "outputs_hidden": false
        },
        "nteract": {
          "transient": {
            "deleting": false
          }
        }
      },
      "source": [
        "dfiReady_Comp_ELA = oea.load(\"iready\",\"comprehensive_student_lesson_activity_with_standards_ela_pseudo\")"
      ]
    },
    {
      "cell_type": "code",
      "execution_count": 46,
      "outputs": [
        {
          "output_type": "display_data",
          "data": {
            "application/vnd.livy.statement-meta+json": {
              "spark_pool": "sparkMed",
              "session_id": "34",
              "statement_id": 46,
              "state": "finished",
              "livy_statement_state": "available",
              "queued_time": "2022-08-24T17:52:45.821058Z",
              "session_start_time": null,
              "execution_start_time": "2022-08-24T17:52:46.8356419Z",
              "execution_finish_time": "2022-08-24T17:52:47.9906321Z",
              "spark_jobs": null
            },
            "text/plain": "StatementMeta(sparkMed, 34, 46, Finished, Available)"
          },
          "metadata": {}
        },
        {
          "output_type": "stream",
          "name": "stdout",
          "text": [
            "root\n |-- LastName: string (nullable = true)\n |-- FirstName: string (nullable = true)\n |-- StudentID_pseudonym: string (nullable = true)\n |-- StudentGrade: string (nullable = true)\n |-- AcademicYear: string (nullable = true)\n |-- School: string (nullable = true)\n |-- Subject: string (nullable = true)\n |-- Domain: string (nullable = true)\n |-- LessonGrade: string (nullable = true)\n |-- LessonLevel: string (nullable = true)\n |-- LessonID: string (nullable = true)\n |-- LessonName: string (nullable = true)\n |-- LessonObjective: string (nullable = true)\n |-- CompletionDate: date (nullable = true)\n |-- TotalTimeonLesson_sec_: integer (nullable = true)\n |-- Score: integer (nullable = true)\n |-- PassedorNotPassed: string (nullable = true)\n |-- Teacher-AssignedLesson: string (nullable = true)\n |-- StateStandards: string (nullable = true)\n |-- TypeofStandard: string (nullable = true)\n |-- StandardCode: string (nullable = true)\n |-- StandardText: string (nullable = true)\n |-- year: integer (nullable = true)\n |-- month: integer (nullable = true)\n\n-RECORD 0--------------------------------------\n LastName               | *                    \n FirstName              | *                    \n StudentID_pseudonym    | 128a03e54e2e26516... \n StudentGrade           | 4                    \n AcademicYear           | 2021-2022            \n School                 | Ridgeview Academy    \n Subject                | Reading              \n Domain                 | Vocabulary           \n LessonGrade            | 3                    \n LessonLevel            | Early                \n LessonID               | DI.ELA.VOC.3.1001    \n LessonName             | Determine Word Me... \n LessonObjective        | Understand what a... \n CompletionDate         | 2021-10-19           \n TotalTimeonLesson_sec_ | 840                  \n Score                  | 67                   \n PassedorNotPassed      | Not Passed           \n Teacher-AssignedLesson | Y                    \n StateStandards         | CA-ELA               \n TypeofStandard         | Direct               \n StandardCode           | CCSS.ELA-Literacy... \n StandardText           | CCSS.ELA-Literacy... \n year                   | 2021                 \n month                  | 10                   \nonly showing top 1 row\n\n"
          ]
        }
      ],
      "metadata": {
        "jupyter": {
          "source_hidden": false,
          "outputs_hidden": false
        },
        "nteract": {
          "transient": {
            "deleting": false
          }
        }
      },
      "source": [
        "# Change the column from being \"time on lesson\" in minutes to \"time on lesson\" in seconds\r\n",
        "dfiReady_Comp_ELA = dfiReady_Comp_ELA.withColumn('TotalTimeonLesson_min_', F.col('TotalTimeonLesson_min_')*60)\r\n",
        "dfiReady_Comp_ELA = dfiReady_Comp_ELA.withColumnRenamed('TotalTimeonLesson_min_', 'TotalTimeonLesson_sec_')\r\n",
        "dfiReady_Comp_ELA.printSchema()\r\n",
        "dfiReady_Comp_ELA.show(1, vertical=True)"
      ]
    },
    {
      "cell_type": "code",
      "execution_count": 47,
      "outputs": [
        {
          "output_type": "display_data",
          "data": {
            "application/vnd.livy.statement-meta+json": {
              "spark_pool": "sparkMed",
              "session_id": "34",
              "statement_id": 47,
              "state": "finished",
              "livy_statement_state": "available",
              "queued_time": "2022-08-24T17:52:52.1913361Z",
              "session_start_time": null,
              "execution_start_time": "2022-08-24T17:52:52.3015513Z",
              "execution_finish_time": "2022-08-24T17:52:56.2636113Z",
              "spark_jobs": null
            },
            "text/plain": "StatementMeta(sparkMed, 34, 47, Finished, Available)"
          },
          "metadata": {}
        }
      ],
      "metadata": {
        "jupyter": {
          "source_hidden": false,
          "outputs_hidden": false
        },
        "nteract": {
          "transient": {
            "deleting": false
          }
        }
      },
      "source": [
        "dfiReady_Comp_ELA.write.save(oea.path('stage2p', directory_path=\"temp\"), format='delta', mode='append', mergeSchema='true')"
      ]
    },
    {
      "cell_type": "code",
      "execution_count": 48,
      "outputs": [
        {
          "output_type": "display_data",
          "data": {
            "application/vnd.livy.statement-meta+json": {
              "spark_pool": "sparkMed",
              "session_id": "34",
              "statement_id": 48,
              "state": "finished",
              "livy_statement_state": "available",
              "queued_time": "2022-08-24T17:52:54.9634703Z",
              "session_start_time": null,
              "execution_start_time": "2022-08-24T17:52:56.4037404Z",
              "execution_finish_time": "2022-08-24T17:53:00.7225529Z",
              "spark_jobs": null
            },
            "text/plain": "StatementMeta(sparkMed, 34, 48, Finished, Available)"
          },
          "metadata": {}
        },
        {
          "output_type": "stream",
          "name": "stdout",
          "text": [
            "2022-08-24 17:52:56,398 - OEA - INFO - Processing digital activity data from: stage2p/temp\n2022-08-24 17:52:56,398 - OEA - INFO - Processing digital activity data from: stage2p/temp\n2022-08-24 17:52:56,398 - OEA - INFO - Processing digital activity data from: stage2p/temp\nProcessing digital activity data from: stage2p/temp\n2022-08-24 17:52:59,673 - OEA - INFO - Complete processing from: stage2p/temp\n2022-08-24 17:52:59,673 - OEA - INFO - Complete processing from: stage2p/temp\n2022-08-24 17:52:59,673 - OEA - INFO - Complete processing from: stage2p/temp\nComplete processing from: stage2p/temp\n"
          ]
        }
      ],
      "metadata": {
        "jupyter": {
          "source_hidden": false,
          "outputs_hidden": false
        },
        "nteract": {
          "transient": {
            "deleting": false
          }
        }
      },
      "source": [
        "schemaMapping = [['event_type', 'Subject'],\r\n",
        "                        ['event_actor', 'StudentID_pseudonym'],\r\n",
        "                        ['event_object', 'iReady_Comprehensive_Student_Lesson_Activity_with_Standards_ELA'],\r\n",
        "                        ['event_eventTime', 'CompletionDate'],\r\n",
        "                        ['entity_type', 'Domain'],\r\n",
        "                        ['generated_aggregateMeasure_metric_timeOnTaskSec', 'TotalTimeonLesson_sec_']]\r\n",
        "\r\n",
        "source_path = 'stage2p/temp'\r\n",
        "digAct.process_digital_activity(source_path, schemaMapping)"
      ]
    },
    {
      "cell_type": "code",
      "execution_count": 49,
      "outputs": [
        {
          "output_type": "display_data",
          "data": {
            "application/vnd.livy.statement-meta+json": {
              "spark_pool": "sparkMed",
              "session_id": "34",
              "statement_id": 49,
              "state": "finished",
              "livy_statement_state": "available",
              "queued_time": "2022-08-24T17:53:04.5707397Z",
              "session_start_time": null,
              "execution_start_time": "2022-08-24T17:53:04.7643938Z",
              "execution_finish_time": "2022-08-24T17:53:04.9558498Z",
              "spark_jobs": null
            },
            "text/plain": "StatementMeta(sparkMed, 34, 49, Finished, Available)"
          },
          "metadata": {}
        }
      ],
      "metadata": {
        "jupyter": {
          "source_hidden": false,
          "outputs_hidden": false
        },
        "nteract": {
          "transient": {
            "deleting": false
          }
        }
      },
      "source": [
        "oea.rm_if_exists(oea.path('stage2p', directory_path=\"temp\"))"
      ]
    },
    {
      "cell_type": "code",
      "execution_count": 51,
      "outputs": [
        {
          "output_type": "display_data",
          "data": {
            "application/vnd.livy.statement-meta+json": {
              "spark_pool": "sparkMed",
              "session_id": "34",
              "statement_id": 51,
              "state": "finished",
              "livy_statement_state": "available",
              "queued_time": "2022-08-24T17:53:24.4570643Z",
              "session_start_time": null,
              "execution_start_time": "2022-08-24T17:53:24.568987Z",
              "execution_finish_time": "2022-08-24T17:53:26.4762727Z",
              "spark_jobs": null
            },
            "text/plain": "StatementMeta(sparkMed, 34, 51, Finished, Available)"
          },
          "metadata": {}
        },
        {
          "output_type": "stream",
          "name": "stdout",
          "text": [
            "-RECORD 0----------------------------------------------------------------------\n event_id                                               | e1434d07-2fc4-4e2... \n event_type                                             | FileAccessed         \n event_actor                                            | 972f5667178017916... \n event_eventTime                                        | 2021-10-06 21:06:58  \n entity_type                                            | SharePoint Online    \n softwareApplication_version                            | 1.12                 \n generated_aggregateMeasure_metric_timeOnTaskSec        | null                 \n event_object                                           | MS_Insights          \n year                                                   | 2021                 \n month                                                  | 10                   \n generated_aggregateMeasure_metric_used                 | null                 \n generated_aggregateMeasure_metric_activityReportPeriod | null                 \n generated_aggregateMeasure_metric_numAccess            | null                 \nonly showing top 1 row\n\n-RECORD 0----------------------------------------------------------------------\n event_id                                               | null                 \n event_type                                             | Reading              \n event_actor                                            | 128a03e54e2e26516... \n event_eventTime                                        | 2021-10-19           \n entity_type                                            | Vocabulary           \n softwareApplication_version                            | null                 \n generated_aggregateMeasure_metric_timeOnTaskSec        | 840                  \n event_object                                           | iReady_Comprehens... \n year                                                   | 2021                 \n month                                                  | 10                   \n generated_aggregateMeasure_metric_used                 | null                 \n generated_aggregateMeasure_metric_activityReportPeriod | null                 \n generated_aggregateMeasure_metric_numAccess            | null                 \nonly showing top 1 row\n\n"
          ]
        }
      ],
      "metadata": {
        "jupyter": {
          "source_hidden": false,
          "outputs_hidden": false
        },
        "nteract": {
          "transient": {
            "deleting": false
          }
        }
      },
      "source": [
        "## Check results\r\n",
        "schema_path = 'stage2p/digital_activity'\r\n",
        "dfDigAct = oea.load_delta(schema_path)\r\n",
        "dfDigAct.filter(dfDigAct['event_object'] == \"MS_Insights\").show(1,vertical=True)\r\n",
        "dfDigAct.filter(dfDigAct['event_object'] == \"iReady_Comprehensive_Student_Lesson_Activity_with_Standards_ELA\").show(1,vertical=True)"
      ]
    },
    {
      "cell_type": "markdown",
      "metadata": {
        "nteract": {
          "transient": {
            "deleting": false
          }
        }
      },
      "source": [
        "### Comprehensive Student Lesson Activity with Standards (Math) Table Processing"
      ]
    },
    {
      "cell_type": "code",
      "execution_count": 52,
      "outputs": [
        {
          "output_type": "display_data",
          "data": {
            "application/vnd.livy.statement-meta+json": {
              "spark_pool": "sparkMed",
              "session_id": "34",
              "statement_id": 52,
              "state": "finished",
              "livy_statement_state": "available",
              "queued_time": "2022-08-24T17:53:41.4858714Z",
              "session_start_time": null,
              "execution_start_time": "2022-08-24T17:53:41.8803611Z",
              "execution_finish_time": "2022-08-24T17:53:43.8206775Z",
              "spark_jobs": null
            },
            "text/plain": "StatementMeta(sparkMed, 34, 52, Finished, Available)"
          },
          "metadata": {}
        }
      ],
      "metadata": {
        "jupyter": {
          "source_hidden": false,
          "outputs_hidden": false
        },
        "nteract": {
          "transient": {
            "deleting": false
          }
        }
      },
      "source": [
        "dfiReady_Comp_Math = oea.load(\"iready\",\"comprehensive_student_lesson_activity_with_standards_math_pseudo\")"
      ]
    },
    {
      "cell_type": "code",
      "execution_count": 53,
      "outputs": [
        {
          "output_type": "display_data",
          "data": {
            "application/vnd.livy.statement-meta+json": {
              "spark_pool": "sparkMed",
              "session_id": "34",
              "statement_id": 53,
              "state": "finished",
              "livy_statement_state": "available",
              "queued_time": "2022-08-24T17:53:45.4535092Z",
              "session_start_time": null,
              "execution_start_time": "2022-08-24T17:53:45.6498207Z",
              "execution_finish_time": "2022-08-24T17:53:47.0857469Z",
              "spark_jobs": null
            },
            "text/plain": "StatementMeta(sparkMed, 34, 53, Finished, Available)"
          },
          "metadata": {}
        },
        {
          "output_type": "stream",
          "name": "stdout",
          "text": [
            "root\n |-- LastName: string (nullable = true)\n |-- FirstName: string (nullable = true)\n |-- StudentID_pseudonym: string (nullable = true)\n |-- StudentGrade: string (nullable = true)\n |-- AcademicYear: string (nullable = true)\n |-- School: string (nullable = true)\n |-- Subject: string (nullable = true)\n |-- Domain: string (nullable = true)\n |-- LessonGrade: string (nullable = true)\n |-- LessonLevel: string (nullable = true)\n |-- LessonID: string (nullable = true)\n |-- LessonName: string (nullable = true)\n |-- LessonObjective: string (nullable = true)\n |-- CompletionDate: date (nullable = true)\n |-- TotalTimeonLesson_sec_: integer (nullable = true)\n |-- Score: integer (nullable = true)\n |-- PassedorNotPassed: string (nullable = true)\n |-- Teacher-AssignedLesson: string (nullable = true)\n |-- StateStandards: string (nullable = true)\n |-- TypeofStandard: string (nullable = true)\n |-- StandardCode: string (nullable = true)\n |-- StandardText: string (nullable = true)\n |-- year: integer (nullable = true)\n |-- month: integer (nullable = true)\n\n-RECORD 0--------------------------------------\n LastName               | *                    \n FirstName              | *                    \n StudentID_pseudonym    | edd053215b8193643... \n StudentGrade           | 7                    \n AcademicYear           | 2021-2022            \n School                 | Waterfall Academy    \n Subject                | Math                 \n Domain                 | Geometry             \n LessonGrade            | 6                    \n LessonLevel            | Late                 \n LessonID               | DI.MATH.GE.6.0025... \n LessonName             | Volume with Fract... \n LessonObjective        | Find the volume o... \n CompletionDate         | 2021-11-09           \n TotalTimeonLesson_sec_ | 2580                 \n Score                  | 37                   \n PassedorNotPassed      | Not Passed           \n Teacher-AssignedLesson | N                    \n StateStandards         | CA-MATH              \n TypeofStandard         | Related              \n StandardCode           | 5.MD.5.a             \n StandardText           | 5.MD.5.a - Find t... \n year                   | 2021                 \n month                  | 11                   \nonly showing top 1 row\n\n"
          ]
        }
      ],
      "metadata": {
        "jupyter": {
          "source_hidden": false,
          "outputs_hidden": false
        },
        "nteract": {
          "transient": {
            "deleting": false
          }
        }
      },
      "source": [
        "# Change the column from being \"time on lesson\" in minutes to \"time on lesson\" in seconds\r\n",
        "dfiReady_Comp_Math = dfiReady_Comp_Math.withColumn('TotalTimeonLesson_min_', F.col('TotalTimeonLesson_min_')*60)\r\n",
        "dfiReady_Comp_Math = dfiReady_Comp_Math.withColumnRenamed('TotalTimeonLesson_min_', 'TotalTimeonLesson_sec_')\r\n",
        "dfiReady_Comp_Math.printSchema()\r\n",
        "dfiReady_Comp_Math.show(1, vertical=True)"
      ]
    },
    {
      "cell_type": "code",
      "execution_count": 54,
      "outputs": [
        {
          "output_type": "display_data",
          "data": {
            "application/vnd.livy.statement-meta+json": {
              "spark_pool": "sparkMed",
              "session_id": "34",
              "statement_id": 54,
              "state": "finished",
              "livy_statement_state": "available",
              "queued_time": "2022-08-24T17:53:53.5210701Z",
              "session_start_time": null,
              "execution_start_time": "2022-08-24T17:53:53.681063Z",
              "execution_finish_time": "2022-08-24T17:53:56.9871609Z",
              "spark_jobs": null
            },
            "text/plain": "StatementMeta(sparkMed, 34, 54, Finished, Available)"
          },
          "metadata": {}
        }
      ],
      "metadata": {
        "jupyter": {
          "source_hidden": false,
          "outputs_hidden": false
        },
        "nteract": {
          "transient": {
            "deleting": false
          }
        }
      },
      "source": [
        "dfiReady_Comp_Math.write.save(oea.path('stage2p', directory_path=\"temp\"), format='delta', mode='append', mergeSchema='true')"
      ]
    },
    {
      "cell_type": "code",
      "execution_count": 55,
      "outputs": [
        {
          "output_type": "display_data",
          "data": {
            "application/vnd.livy.statement-meta+json": {
              "spark_pool": "sparkMed",
              "session_id": "34",
              "statement_id": 55,
              "state": "finished",
              "livy_statement_state": "available",
              "queued_time": "2022-08-24T17:54:15.2658819Z",
              "session_start_time": null,
              "execution_start_time": "2022-08-24T17:54:15.3704664Z",
              "execution_finish_time": "2022-08-24T17:54:19.5768931Z",
              "spark_jobs": null
            },
            "text/plain": "StatementMeta(sparkMed, 34, 55, Finished, Available)"
          },
          "metadata": {}
        },
        {
          "output_type": "stream",
          "name": "stdout",
          "text": [
            "2022-08-24 17:54:15,374 - OEA - INFO - Processing digital activity data from: stage2p/temp\n2022-08-24 17:54:15,374 - OEA - INFO - Processing digital activity data from: stage2p/temp\n2022-08-24 17:54:15,374 - OEA - INFO - Processing digital activity data from: stage2p/temp\nProcessing digital activity data from: stage2p/temp\n2022-08-24 17:54:18,656 - OEA - INFO - Complete processing from: stage2p/temp\n2022-08-24 17:54:18,656 - OEA - INFO - Complete processing from: stage2p/temp\n2022-08-24 17:54:18,656 - OEA - INFO - Complete processing from: stage2p/temp\nComplete processing from: stage2p/temp\n"
          ]
        }
      ],
      "metadata": {
        "jupyter": {
          "source_hidden": false,
          "outputs_hidden": false
        },
        "nteract": {
          "transient": {
            "deleting": false
          }
        }
      },
      "source": [
        "schemaMapping = [['event_type', 'Subject'],\r\n",
        "                        ['event_actor', 'StudentID_pseudonym'],\r\n",
        "                        ['event_object', 'iReady_Comprehensive_Student_Lesson_Activity_with_Standards_Math'],\r\n",
        "                        ['event_eventTime', 'CompletionDate'],\r\n",
        "                        ['entity_type', 'Domain'],\r\n",
        "                        ['generated_aggregateMeasure_metric_timeOnTaskSec', 'TotalTimeonLesson_sec_']]\r\n",
        "\r\n",
        "source_path = 'stage2p/temp'\r\n",
        "digAct.process_digital_activity(source_path, schemaMapping)"
      ]
    },
    {
      "cell_type": "code",
      "execution_count": 56,
      "outputs": [
        {
          "output_type": "display_data",
          "data": {
            "application/vnd.livy.statement-meta+json": {
              "spark_pool": "sparkMed",
              "session_id": "34",
              "statement_id": 56,
              "state": "finished",
              "livy_statement_state": "available",
              "queued_time": "2022-08-24T17:54:18.6714619Z",
              "session_start_time": null,
              "execution_start_time": "2022-08-24T17:54:19.675754Z",
              "execution_finish_time": "2022-08-24T17:54:19.8365177Z",
              "spark_jobs": null
            },
            "text/plain": "StatementMeta(sparkMed, 34, 56, Finished, Available)"
          },
          "metadata": {}
        }
      ],
      "metadata": {
        "jupyter": {
          "source_hidden": false,
          "outputs_hidden": false
        },
        "nteract": {
          "transient": {
            "deleting": false
          }
        }
      },
      "source": [
        "oea.rm_if_exists(oea.path('stage2p', directory_path=\"temp\"))"
      ]
    },
    {
      "cell_type": "code",
      "execution_count": 57,
      "outputs": [
        {
          "output_type": "display_data",
          "data": {
            "application/vnd.livy.statement-meta+json": {
              "spark_pool": "sparkMed",
              "session_id": "34",
              "statement_id": 57,
              "state": "finished",
              "livy_statement_state": "available",
              "queued_time": "2022-08-24T17:54:26.4948341Z",
              "session_start_time": null,
              "execution_start_time": "2022-08-24T17:54:26.6292417Z",
              "execution_finish_time": "2022-08-24T17:54:28.6351637Z",
              "spark_jobs": null
            },
            "text/plain": "StatementMeta(sparkMed, 34, 57, Finished, Available)"
          },
          "metadata": {}
        },
        {
          "output_type": "stream",
          "name": "stdout",
          "text": [
            "-RECORD 0----------------------------------------------------------------------\n event_id                                               | null                 \n event_type                                             | app                  \n event_actor                                            | 41c2a72a717d28f75... \n event_eventTime                                        | 2022-01-15           \n entity_type                                            | Big Ideas Math       \n softwareApplication_version                            | null                 \n generated_aggregateMeasure_metric_timeOnTaskSec        | null                 \n event_object                                           | Clever_Resource_U... \n year                                                   | 2022                 \n month                                                  | 1                    \n generated_aggregateMeasure_metric_used                 | null                 \n generated_aggregateMeasure_metric_activityReportPeriod | null                 \n generated_aggregateMeasure_metric_numAccess            | 1                    \nonly showing top 1 row\n\n-RECORD 0----------------------------------------------------------------------\n event_id                                               | null                 \n event_type                                             | Math                 \n event_actor                                            | edd053215b8193643... \n event_eventTime                                        | 2021-09-14           \n entity_type                                            | Geometry             \n softwareApplication_version                            | null                 \n generated_aggregateMeasure_metric_timeOnTaskSec        | 2760                 \n event_object                                           | iReady_Comprehens... \n year                                                   | 2021                 \n month                                                  | 9                    \n generated_aggregateMeasure_metric_used                 | null                 \n generated_aggregateMeasure_metric_activityReportPeriod | null                 \n generated_aggregateMeasure_metric_numAccess            | null                 \nonly showing top 1 row\n\n"
          ]
        }
      ],
      "metadata": {
        "jupyter": {
          "source_hidden": false,
          "outputs_hidden": false
        },
        "nteract": {
          "transient": {
            "deleting": false
          }
        }
      },
      "source": [
        "## Check results\r\n",
        "schema_path = 'stage2p/digital_activity'\r\n",
        "dfDigAct = oea.load_delta(schema_path)\r\n",
        "dfDigAct.filter(dfDigAct['event_object'] == \"Clever_Resource_Usage\").show(1,vertical=True)\r\n",
        "dfDigAct.filter(dfDigAct['event_object'] == \"iReady_Comprehensive_Student_Lesson_Activity_with_Standards_Math\").show(1,vertical=True)"
      ]
    }
  ]
}