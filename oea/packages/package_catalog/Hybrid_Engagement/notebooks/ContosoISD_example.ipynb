{
  "nbformat": 4,
  "nbformat_minor": 2,
  "metadata": {
    "kernelspec": {
      "name": "synapse_pyspark",
      "display_name": "Synapse PySpark"
    },
    "language_info": {
      "name": "python"
    },
    "save_output": true,
    "synapse_widget": {
      "version": "0.1",
      "state": {}
    }
  },
  "cells": [
    {
      "cell_type": "markdown",
      "metadata": {
        "nteract": {
          "transient": {
            "deleting": false
          }
        }
      },
      "source": [
        "# ContosoISD Example\r\n",
        "This example demonstrates how to use the OEA framework and modules to process incoming data, perform data prep, and view the data in an example Power BI dashboard.\r\n",
        "\r\n",
        "# Running the example\r\n",
        "1) Select your spark pool in the \"Attach to\" dropdown list above.\r\n",
        "\r\n",
        "2) Click on \"Publish\" in the top nav bar (and wait a few seconds for the notification that says \"Publishing completed\").\r\n",
        "\r\n",
        "3) Click on \"Run all\" at the top of this tab (and wait for the processing to complete - which can take around 5 to 10 minutes).\r\n",
        "\r\n",
        "4) Open the dashboard in Power BI desktop and point it to your newly setup data lake (you can download the pbix from here: [techInequityDashboardContoso v2.pbix](https://github.com/microsoft/OpenEduAnalytics/blob/main/packages/ContosoISD/power_bi/techInequityDashboardContoso%20v2.pbix) )\r\n",
        "\r\n",
        "# More info\r\n",
        "See [OEA Solution Guide](https://github.com/microsoft/OpenEduAnalytics/blob/main/docs/OpenEduAnalyticsSolutionGuide.pdf) for more details on this example."
      ]
    },
    {
      "cell_type": "code",
      "execution_count": 12,
      "outputs": [
        {
          "output_type": "display_data",
          "data": {
            "application/vnd.livy.statement-meta+json": {
              "spark_pool": null,
              "session_id": 62,
              "statement_id": -1,
              "state": "finished",
              "livy_statement_state": "available",
              "queued_time": "2021-10-20T15:07:52.6260286Z",
              "session_start_time": null,
              "execution_start_time": "2021-10-20T15:07:53.1150929Z",
              "execution_finish_time": "2021-10-20T15:07:53.1152526Z"
            },
            "text/plain": "StatementMeta(, 62, -1, Finished, Available)"
          },
          "metadata": {}
        }
      ],
      "metadata": {
        "jupyter": {
          "source_hidden": false,
          "outputs_hidden": false
        },
        "nteract": {
          "transient": {
            "deleting": false
          }
        },
        "collapsed": true
      },
      "source": [
        "%run /OEA_py"
      ]
    },
    {
      "cell_type": "code",
      "execution_count": 13,
      "outputs": [
        {
          "output_type": "display_data",
          "data": {
            "application/vnd.livy.statement-meta+json": {
              "spark_pool": null,
              "session_id": 62,
              "statement_id": -1,
              "state": "finished",
              "livy_statement_state": "available",
              "queued_time": "2021-10-20T15:07:52.6975241Z",
              "session_start_time": null,
              "execution_start_time": "2021-10-20T15:07:53.5365408Z",
              "execution_finish_time": "2021-10-20T15:07:53.5367058Z"
            },
            "text/plain": "StatementMeta(, 62, -1, Finished, Available)"
          },
          "metadata": {}
        }
      ],
      "metadata": {
        "jupyter": {
          "source_hidden": false,
          "outputs_hidden": false
        },
        "nteract": {
          "transient": {
            "deleting": false
          }
        },
        "collapsed": true
      },
      "source": [
        "%run /example_modules_py"
      ]
    },
    {
      "cell_type": "code",
      "execution_count": 14,
      "outputs": [
        {
          "output_type": "display_data",
          "data": {
            "application/vnd.livy.statement-meta+json": {
              "spark_pool": "spark3p1sm",
              "session_id": 62,
              "statement_id": 14,
              "state": "finished",
              "livy_statement_state": "available",
              "queued_time": "2021-10-20T15:07:52.8274594Z",
              "session_start_time": null,
              "execution_start_time": "2021-10-20T15:07:53.6313425Z",
              "execution_finish_time": "2021-10-20T15:07:53.7798739Z"
            },
            "text/plain": "StatementMeta(spark3p1sm, 62, 14, Finished, Available)"
          },
          "metadata": {}
        },
        {
          "output_type": "stream",
          "name": "stdout",
          "text": [
            "2021-10-20 15:07:53,616 - OEA - DEBUG - OEA initialized.\nOEA initialized."
          ]
        }
      ],
      "metadata": {
        "jupyter": {
          "source_hidden": false,
          "outputs_hidden": false
        },
        "nteract": {
          "transient": {
            "deleting": false
          }
        },
        "collapsed": true
      },
      "source": [
        "# 0) Initialize the OEA framework and modules needed.\r\n",
        "oea = OEA()\r\n",
        "m365 = M365(oea)\r\n",
        "contoso_sis = ContosoSIS(oea, 'contoso_sis', False)"
      ]
    },
    {
      "cell_type": "code",
      "execution_count": 15,
      "outputs": [
        {
          "output_type": "display_data",
          "data": {
            "application/vnd.livy.statement-meta+json": {
              "spark_pool": "spark3p1sm",
              "session_id": 62,
              "statement_id": 15,
              "state": "finished",
              "livy_statement_state": "available",
              "queued_time": "2021-10-20T15:07:52.9275778Z",
              "session_start_time": null,
              "execution_start_time": "2021-10-20T15:07:53.8851597Z",
              "execution_finish_time": "2021-10-20T15:07:57.8150728Z"
            },
            "text/plain": "StatementMeta(spark3p1sm, 62, 15, Finished, Available)"
          },
          "metadata": {}
        }
      ],
      "metadata": {
        "jupyter": {
          "source_hidden": false,
          "outputs_hidden": false
        },
        "nteract": {
          "transient": {
            "deleting": false
          }
        },
        "collapsed": true
      },
      "source": [
        "# 1) Land data into stage1 of your data lake, from multiple source systems (this example copies in test data sets that came with the OEA installation).\r\n",
        "contoso_sis.copy_test_data_to_stage1()\r\n",
        "m365.copy_test_data_to_stage1()"
      ]
    },
    {
      "cell_type": "code",
      "execution_count": 16,
      "outputs": [
        {
          "output_type": "display_data",
          "data": {
            "application/vnd.livy.statement-meta+json": {
              "spark_pool": "spark3p1sm",
              "session_id": 62,
              "statement_id": 16,
              "state": "finished",
              "livy_statement_state": "available",
              "queued_time": "2021-10-20T15:07:53.0023122Z",
              "session_start_time": null,
              "execution_start_time": "2021-10-20T15:07:57.9110501Z",
              "execution_finish_time": "2021-10-20T15:08:43.3596494Z"
            },
            "text/plain": "StatementMeta(spark3p1sm, 62, 16, Finished, Available)"
          },
          "metadata": {}
        },
        {
          "output_type": "stream",
          "name": "stdout",
          "text": [
            "Processing ms_insights roster data from: abfss://stage1np@stoeahybriddev4.dfs.core.windows.net/m365\nProcessing roster entity: path=abfss://stage1np@stoeahybriddev4.dfs.core.windows.net/m365/DIPData/Roster/Calendar.csv, entity=Calendar\nProcessing roster entity: path=abfss://stage1np@stoeahybriddev4.dfs.core.windows.net/m365/DIPData/Roster/Course.csv, entity=Course\nProcessing roster entity: path=abfss://stage1np@stoeahybriddev4.dfs.core.windows.net/m365/DIPData/Roster/Org.csv, entity=Org\nProcessing roster entity: path=abfss://stage1np@stoeahybriddev4.dfs.core.windows.net/m365/DIPData/Roster/Person.csv, entity=Person\nProcessing roster entity: path=abfss://stage1np@stoeahybriddev4.dfs.core.windows.net/m365/DIPData/Roster/PersonIdentifier.csv, entity=PersonIdentifier\nProcessing roster entity: path=abfss://stage1np@stoeahybriddev4.dfs.core.windows.net/m365/DIPData/Roster/RefDefinition.csv, entity=RefDefinition\nProcessing roster entity: path=abfss://stage1np@stoeahybriddev4.dfs.core.windows.net/m365/DIPData/Roster/Section.csv, entity=Section\nProcessing roster entity: path=abfss://stage1np@stoeahybriddev4.dfs.core.windows.net/m365/DIPData/Roster/Session.csv, entity=Session\nProcessing roster entity: path=abfss://stage1np@stoeahybriddev4.dfs.core.windows.net/m365/DIPData/Roster/StaffOrgAffiliation.csv, entity=StaffOrgAffiliation\nProcessing roster entity: path=abfss://stage1np@stoeahybriddev4.dfs.core.windows.net/m365/DIPData/Roster/StaffSectionMembership.csv, entity=StaffSectionMembership\nProcessing roster entity: path=abfss://stage1np@stoeahybriddev4.dfs.core.windows.net/m365/DIPData/Roster/StudentOrgAffiliation.csv, entity=StudentOrgAffiliation\nProcessing roster entity: path=abfss://stage1np@stoeahybriddev4.dfs.core.windows.net/m365/DIPData/Roster/StudentSectionMembership.csv, entity=StudentSectionMembership\nProcessing ms_insights activity data from: abfss://stage1np@stoeahybriddev4.dfs.core.windows.net/m365/DIPData/Activity/ApplicationUsage"
          ]
        }
      ],
      "metadata": {
        "jupyter": {
          "source_hidden": false,
          "outputs_hidden": false
        },
        "nteract": {
          "transient": {
            "deleting": false
          }
        },
        "collapsed": true
      },
      "source": [
        "# 2) Process the raw data (csv format) from stage1 into stage2 (adds schema details and writes out in parquet format).\r\n",
        "#    [Note: we're not performing pseudonymization in this example, so everything is written to container stage2np.]\r\n",
        "m365.process_roster_data_from_stage1()\r\n",
        "contoso_sis.process_data_from_stage1()\r\n",
        "m365.process_activity_data_from_stage1()"
      ]
    },
    {
      "cell_type": "code",
      "execution_count": 17,
      "outputs": [
        {
          "output_type": "display_data",
          "data": {
            "application/vnd.livy.statement-meta+json": {
              "spark_pool": "spark3p1sm",
              "session_id": 62,
              "statement_id": 17,
              "state": "finished",
              "livy_statement_state": "available",
              "queued_time": "2021-10-20T15:07:53.1310376Z",
              "session_start_time": null,
              "execution_start_time": "2021-10-20T15:08:43.4613032Z",
              "execution_finish_time": "2021-10-20T15:08:46.2169735Z"
            },
            "text/plain": "StatementMeta(spark3p1sm, 62, 17, Finished, Available)"
          },
          "metadata": {}
        }
      ],
      "metadata": {
        "jupyter": {
          "source_hidden": false,
          "outputs_hidden": false
        },
        "nteract": {
          "transient": {
            "deleting": false
          }
        },
        "collapsed": true
      },
      "source": [
        "# 3) Run additional prep on the data to create a unified dataset that can be used in a Power BI report\r\n",
        "\r\n",
        "# Process sectionmark data. Convert id values to use the Person.Id and Section.Id values set in the m365 data.\r\n",
        "sqlContext.registerDataFrameAsTable(spark.read.format('parquet').load(oea.stage2np + '/contoso_sis/studentsectionmark'), 'SectionMark')\r\n",
        "sqlContext.registerDataFrameAsTable(spark.read.format('parquet').load(oea.stage2np + '/m365/Person'), 'Person')\r\n",
        "sqlContext.registerDataFrameAsTable(spark.read.format('parquet').load(oea.stage2np + '/m365/Section'), 'Section')\r\n",
        "df = spark.sql(\"select sm.id Id, p.Id PersonId, s.Id SectionId, cast(sm.numeric_grade_earned as int) NumericGrade, \\\r\n",
        "sm.alpha_grade_earned AlphaGrade, sm.is_final_grade IsFinalGrade, cast(sm.credits_attempted as int) CreditsAttempted, cast(sm.credits_earned as int) CreditsEarned, \\\r\n",
        "sm.grad_credit_type GraduationCreditType, sm.id ExternalId, CURRENT_TIMESTAMP CreateDate, CURRENT_TIMESTAMP LastModifiedDate, true IsActive \\\r\n",
        "from SectionMark sm, Person p, Section s \\\r\n",
        "where sm.student_id = p.ExternalId \\\r\n",
        "and sm.section_id = s.ExternalId\")\r\n",
        "#df.write.format('parquet').mode('overwrite').save(oea.stage2np + '/ContosoISD/SectionMark')\r\n",
        "\r\n",
        "# Repeat the above process, this time for student attendance\r\n",
        "# Convert id values to use the Person.Id, Org.Id and Section.Id values\r\n",
        "sqlContext.registerDataFrameAsTable(spark.read.format('parquet').load(oea.stage2np + '/contoso_sis/studentattendance'), 'Attendance')\r\n",
        "sqlContext.registerDataFrameAsTable(spark.read.format('parquet').load(oea.stage2np + '/m365/Org'), 'Org')\r\n",
        "df = spark.sql(\"select att.id Id, p.Id PersonId, att.school_year SchoolYear, o.Id OrgId, att.attendance_date AttendanceDate, \\\r\n",
        "att.all_day AllDay, att.Period Period, s.Id SectionId, att.AttendanceCode AttendanceCode, att.PresenceFlag PresenceFlag, \\\r\n",
        "att.attendance_status AttendanceStatus, att.attendance_type AttendanceType, att.attendance_sequence AttendanceSequence \\\r\n",
        "from Attendance att, Org o, Person p, Section s \\\r\n",
        "where att.student_id = p.ExternalId \\\r\n",
        "and att.school_id = o.ExternalId \\\r\n",
        "and att.section_id = s.ExternalId\")\r\n",
        "#df.write.format('parquet').mode('overwrite').save(oea.stage2np +'/ContosoISD/Attendance')\r\n",
        "\r\n",
        "# Add 'Department' column to Course (hardcoded to \"Math\" for this Contoso example)\r\n",
        "sqlContext.registerDataFrameAsTable(spark.read.format('parquet').load(oea.stage2np + '/m365/Course'), 'Course')\r\n",
        "df = spark.sql(\"select Id, Name, Code, Description, ExternalId, CreateDate, LastModifiedDate, IsActive, CalendarId, 'Math' Department from Course\")\r\n",
        "#df.write.format('parquet').mode('overwrite').save(oea.stage2np + '/ContosoISD/Course')"
      ]
    },
    {
      "cell_type": "code",
      "execution_count": 18,
      "outputs": [
        {
          "output_type": "display_data",
          "data": {
            "application/vnd.livy.statement-meta+json": {
              "spark_pool": "spark3p1sm",
              "session_id": 62,
              "statement_id": 18,
              "state": "finished",
              "livy_statement_state": "available",
              "queued_time": "2021-10-20T15:07:53.2016806Z",
              "session_start_time": null,
              "execution_start_time": "2021-10-20T15:08:46.316078Z",
              "execution_finish_time": "2021-10-20T15:09:13.3110604Z"
            },
            "text/plain": "StatementMeta(spark3p1sm, 62, 18, Finished, Available)"
          },
          "metadata": {}
        },
        {
          "output_type": "stream",
          "name": "stdout",
          "text": [
            "[OEA] Could not get list of folders in specified path: abfss://stage2p@stoeahybriddev4.dfs.core.windows.net/contoso_sis\nThis may be because the path does not exist.\nDatabase created: s2_contoso_sis\nDatabase created: s2_contoso_sis\n[OEA] Could not get list of folders in specified path: abfss://stage2p@stoeahybriddev4.dfs.core.windows.net/m365\nThis may be because the path does not exist.\nDatabase created: s2_m365\nDatabase created: s2_m365\nCreated spark db's.\nYou can now open the 'techInequityDashboardContoso v2.pbix' dashboard and change the datasource to point to: syn-oea-hybriddev4-ondemand.sql.azuresynapse.net"
          ]
        }
      ],
      "metadata": {
        "jupyter": {
          "source_hidden": false,
          "outputs_hidden": false
        },
        "nteract": {
          "transient": {
            "deleting": false
          }
        },
        "collapsed": true
      },
      "source": [
        "# 4) Create spark db's that point to the data in the data lake to allow for connecting via Power BI through use of the Serverless SQL endpoint.\r\n",
        "contoso_sis.create_stage2_db('PARQUET')\r\n",
        "m365.create_stage2_db('PARQUET')\r\n",
        "\r\n",
        "#spark.sql('CREATE DATABASE IF NOT EXISTS s2_ContosoISD')\r\n",
        "#spark.sql(\"create table if not exists s2_ContosoISD.Activity using PARQUET location '\" + oea.stage2np + \"/m365/TechActivity'\")\r\n",
        "#spark.sql(\"create table if not exists s2_ContosoISD.Calendar using PARQUET location '\" + oea.stage2np + \"/m365/Calendar'\")\r\n",
        "#spark.sql(\"create table if not exists s2_ContosoISD.Org using PARQUET location '\" + oea.stage2np + \"/m365/Org'\")\r\n",
        "#spark.sql(\"create table if not exists s2_ContosoISD.Person using PARQUET location '\" + oea.stage2np + \"/m365/Person'\")\r\n",
        "#spark.sql(\"create table if not exists s2_ContosoISD.PersonIdentifier using PARQUET location '\" + oea.stage2np + \"/m365/PersonIdentifier'\")\r\n",
        "#spark.sql(\"create table if not exists s2_ContosoISD.RefDefinition using PARQUET location '\" + oea.stage2np + \"/m365/RefDefinition'\")\r\n",
        "#spark.sql(\"create table if not exists s2_ContosoISD.Section using PARQUET location '\" + oea.stage2np + \"/m365/Section'\")\r\n",
        "#spark.sql(\"create table if not exists s2_ContosoISD.Session using PARQUET location '\" + oea.stage2np + \"/m365/Session'\")\r\n",
        "#spark.sql(\"create table if not exists s2_ContosoISD.StaffOrgAffiliation using PARQUET location '\" + oea.stage2np + \"/m365/StaffOrgAffiliation'\")\r\n",
        "#spark.sql(\"create table if not exists s2_ContosoISD.StaffSectionMembership using PARQUET location '\" + oea.stage2np + \"/m365/StaffSectionMembership'\")\r\n",
        "#spark.sql(\"create table if not exists s2_ContosoISD.StudentOrgAffiliation using PARQUET location '\" + oea.stage2np + \"/m365/StudentOrgAffiliation'\")\r\n",
        "#spark.sql(\"create table if not exists s2_ContosoISD.StudentSectionMembership using PARQUET location '\" + oea.stage2np + \"/m365/StudentSectionMembership'\")\r\n",
        "#spark.sql(\"create table if not exists s2_ContosoISD.Course using PARQUET location '\" + oea.stage2np + \"/ContosoISD/Course'\")\r\n",
        "#spark.sql(\"create table if not exists s2_ContosoISD.Attendance using PARQUET location '\" + oea.stage2np + \"/ContosoISD/Attendance'\")\r\n",
        "#spark.sql(\"create table if not exists s2_ContosoISD.SectionMark using PARQUET location '\" + oea.stage2np + \"/ContosoISD/SectionMark'\")\r\n",
        "#spark.sql(\"create table if not exists s2_ContosoISD.Students using PARQUET location '\" + oea.stage2np + \"/ContosoISD/Students'\")\r\n",
        "\r\n",
        "print(f\"Created spark db's.\\nYou can now open the 'techInequityDashboardContoso v2.pbix' dashboard and change the datasource to point to: {oea.serverless_sql_endpoint}\")"
      ]
    },
    {
      "cell_type": "markdown",
      "metadata": {
        "nteract": {
          "transient": {
            "deleting": false
          }
        }
      },
      "source": [
        "# Reset everything\r\n",
        "You can uncomment line 11 in the cell below and run the cell to reset everything and walk through the process again from the top.\r\n",
        "\r\n",
        "Note: remember to comment out line 11 again to prevent accidental resetting of the example"
      ]
    },
    {
      "cell_type": "code",
      "execution_count": 19,
      "outputs": [
        {
          "output_type": "display_data",
          "data": {
            "application/vnd.livy.statement-meta+json": {
              "spark_pool": "spark3p1sm",
              "session_id": 62,
              "statement_id": 19,
              "state": "finished",
              "livy_statement_state": "available",
              "queued_time": "2021-10-20T15:07:53.3712392Z",
              "session_start_time": null,
              "execution_start_time": "2021-10-20T15:09:13.4053872Z",
              "execution_finish_time": "2021-10-20T15:09:13.558927Z"
            },
            "text/plain": "StatementMeta(spark3p1sm, 62, 19, Finished, Available)"
          },
          "metadata": {}
        }
      ],
      "metadata": {
        "jupyter": {
          "source_hidden": false,
          "outputs_hidden": false
        },
        "nteract": {
          "transient": {
            "deleting": false
          }
        },
        "collapsed": true
      },
      "source": [
        "def reset_all_processing():\r\n",
        "    contoso_sis.delete_all_stages()\r\n",
        "    m365.delete_all_stages()\r\n",
        "    oea.rm_if_exists(oea.stage2np + '/ContosoISD')\r\n",
        "\r\n",
        "    oea.drop_db('s2_contoso_sis')\r\n",
        "    #oea.drop_db('s2_contosoisd')\r\n",
        "    oea.drop_db('s2_m365')\r\n",
        "\r\n",
        "# Uncomment the following line and run this cell to reset everything if you want to walk through the process again.\r\n",
        "#reset_all_processing()"
      ]
    },
    {
      "cell_type": "code",
      "execution_count": null,
      "outputs": [],
      "metadata": {
        "jupyter": {
          "source_hidden": false,
          "outputs_hidden": false
        },
        "nteract": {
          "transient": {
            "deleting": false
          }
        }
      },
      "source": []
    }
  ]
}