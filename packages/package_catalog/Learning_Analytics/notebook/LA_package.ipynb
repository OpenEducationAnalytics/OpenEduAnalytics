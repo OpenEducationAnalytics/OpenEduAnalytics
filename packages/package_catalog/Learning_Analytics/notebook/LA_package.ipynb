{
  "cells": [
    {
      "cell_type": "markdown",
      "source": [
        "<h1>Learning Analytics Package: </h1>\r\n",
        "<br>Builds the dimension tables and the fact table used for the Learning Analytics package **v1.0** dashboard.</br>\r\n",
        "<br>In the context of using the Higher Ed. test data from Microsoft Education Insights data, and Microsoft Graph meeting attendance data.</br>\r\n",
        "\r\n",
        "<b>Pre-requisites: Following modules need to be run</b>\r\n",
        "\r\n",
        "1. Microsoft Education Insights\r\n",
        "2. Microsoft Graph\r\n",
        "3. Transformation"
      ],
      "metadata": {
        "nteract": {
          "transient": {
            "deleting": false
          }
        }
      }
    }
  ],
  "metadata": {
    "language_info": {
      "name": "python"
    },
    "kernelspec": {
      "name": "synapse_pyspark",
      "display_name": "python"
    },
    "save_output": true,
    "synapse_widget": {
      "version": "0.1",
      "state": {}
    }
  },
  "nbformat": 4,
  "nbformat_minor": 2
}